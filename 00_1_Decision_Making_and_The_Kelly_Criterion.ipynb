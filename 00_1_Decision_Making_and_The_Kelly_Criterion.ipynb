{
 "cells": [
  {
   "cell_type": "markdown",
   "metadata": {
    "toc": true
   },
   "source": [
    "<h1>Table of Contents<span class=\"tocSkip\"></span></h1>\n",
    "<div class=\"toc\"><ul class=\"toc-item\"><li><span><a href=\"#Instructions\" data-toc-modified-id=\"Instructions-1\"><span class=\"toc-item-num\">1&nbsp;&nbsp;</span>Instructions</a></span></li><li><span><a href=\"#Before-You-Begin\" data-toc-modified-id=\"Before-You-Begin-2\"><span class=\"toc-item-num\">2&nbsp;&nbsp;</span>Before You Begin</a></span></li><li><span><a href=\"#Questions\" data-toc-modified-id=\"Questions-3\"><span class=\"toc-item-num\">3&nbsp;&nbsp;</span>Questions</a></span><ul class=\"toc-item\"><li><span><a href=\"#Lists\" data-toc-modified-id=\"Lists-3.1\"><span class=\"toc-item-num\">3.1&nbsp;&nbsp;</span>Lists</a></span><ul class=\"toc-item\"><li><span><a href=\"#Create-a-list-named-food-with-two-elements:-&quot;rice&quot;-and-&quot;potatoes&quot;.\" data-toc-modified-id=\"Create-a-list-named-food-with-two-elements:-&quot;rice&quot;-and-&quot;potatoes&quot;.-3.1.1\"><span class=\"toc-item-num\">3.1.1&nbsp;&nbsp;</span>Create a list named <i>food</i> with two elements: <i>\"rice\"</i> and <i>\"potatoes\"</i>.</a></span></li><li><span><a href=\"#Append-the-string-&quot;broccoli&quot;-to-food-using-.append().\" data-toc-modified-id=\"Append-the-string-&quot;broccoli&quot;-to-food-using-.append().-3.1.2\"><span class=\"toc-item-num\">3.1.2&nbsp;&nbsp;</span>Append the string <i>\"broccoli\"</i> to <i>food</i> using <i>.append()</i>.</a></span></li><li><span><a href=\"#Add-the-strings-&quot;bread&quot;-and-&quot;pizza&quot;-to-food-using-.append().\" data-toc-modified-id=\"Add-the-strings-&quot;bread&quot;-and-&quot;pizza&quot;-to-food-using-.append().-3.1.3\"><span class=\"toc-item-num\">3.1.3&nbsp;&nbsp;</span>Add the strings <i>\"bread\"</i> and <i>\"pizza\"</i> to <i>food</i> using <i>.append()</i>.</a></span></li><li><span><a href=\"#Print-the-first-two-items-in-the-food-list-using-slicing.\" data-toc-modified-id=\"Print-the-first-two-items-in-the-food-list-using-slicing.-3.1.4\"><span class=\"toc-item-num\">3.1.4&nbsp;&nbsp;</span>Print the first two items in the <i>food</i> list using slicing.</a></span></li><li><span><a href=\"#Print-the-last-item-in-food-using-indexing.\" data-toc-modified-id=\"Print-the-last-item-in-food-using-indexing.-3.1.5\"><span class=\"toc-item-num\">3.1.5&nbsp;&nbsp;</span>Print the last item in <i>food</i> using indexing.</a></span></li><li><span><a href=\"#Create-a-list-called-breakfast-from-the-string-&quot;eggs,-fruit,-orange-juice&quot;-using-the-.split()-method.\" data-toc-modified-id=\"Create-a-list-called-breakfast-from-the-string-&quot;eggs,-fruit,-orange-juice&quot;-using-the-.split()-method.-3.1.6\"><span class=\"toc-item-num\">3.1.6&nbsp;&nbsp;</span>Create a list called <i>breakfast</i> from the string <i>\"eggs, fruit, orange juice\"</i> using the <i>.split()</i> method.</a></span></li><li><span><a href=\"#Verify-that-breakfast-has-three-items-and-is-a-list-using-len()-and-type()\" data-toc-modified-id=\"Verify-that-breakfast-has-three-items-and-is-a-list-using-len()-and-type()-3.1.7\"><span class=\"toc-item-num\">3.1.7&nbsp;&nbsp;</span>Verify that <i>breakfast</i> has three items and is a list using <i>len()</i> and <i>type()</i></a></span></li><li><span><a href=\"#Create-a-new-list-called-lengths-using-a-list-comprehension-that-contains-the-lengths-of-each-string-in-the-breakfast-list.\" data-toc-modified-id=\"Create-a-new-list-called-lengths-using-a-list-comprehension-that-contains-the-lengths-of-each-string-in-the-breakfast-list.-3.1.8\"><span class=\"toc-item-num\">3.1.8&nbsp;&nbsp;</span>Create a new list called <i>lengths</i> using a list comprehension that contains the lengths of each string in the <i>breakfast</i> list.</a></span></li></ul></li><li><span><a href=\"#Dictionaries\" data-toc-modified-id=\"Dictionaries-3.2\"><span class=\"toc-item-num\">3.2&nbsp;&nbsp;</span>Dictionaries</a></span><ul class=\"toc-item\"><li><span><a href=\"#Create-an-empty-dictionary-named-dual_class_stock_price.\" data-toc-modified-id=\"Create-an-empty-dictionary-named-dual_class_stock_price.-3.2.1\"><span class=\"toc-item-num\">3.2.1&nbsp;&nbsp;</span>Create an empty dictionary named <i>dual_class_stock_price</i>.</a></span></li><li><span><a href=\"#Using-&quot;square-bracket&quot;-notation,-enter-the-following-data-into-the-dictionary-one-item-at-a-time:\" data-toc-modified-id=\"Using-&quot;square-bracket&quot;-notation,-enter-the-following-data-into-the-dictionary-one-item-at-a-time:-3.2.2\"><span class=\"toc-item-num\">3.2.2&nbsp;&nbsp;</span>Using \"square bracket\" notation, enter the following data into the dictionary one item at a time:</a></span></li><li><span><a href=\"#Write-two-if-statements-to-check-if-&quot;GOOG&quot;-and-&quot;GOOG.A&quot;-exist-as-keys-in-the-dictionary.-Set-their-values-to-&quot;Not-a-valid-ticker&quot;-if-the-key-doesn't-exist.\" data-toc-modified-id=\"Write-two-if-statements-to-check-if-&quot;GOOG&quot;-and-&quot;GOOG.A&quot;-exist-as-keys-in-the-dictionary.-Set-their-values-to-&quot;Not-a-valid-ticker&quot;-if-the-key-doesn't-exist.-3.2.3\"><span class=\"toc-item-num\">3.2.3&nbsp;&nbsp;</span>Write two <i>if</i> statements to check if <i>\"GOOG\"</i> and <i>\"GOOG.A\"</i> exist as keys in the dictionary. Set their values to <i>\"Not a valid ticker\"</i> if the key doesn't exist.</a></span></li><li><span><a href=\"#Write-a-for-loop-to-display-the-ticker-and-price-contained-in-the-dictionary.\" data-toc-modified-id=\"Write-a-for-loop-to-display-the-ticker-and-price-contained-in-the-dictionary.-3.2.4\"><span class=\"toc-item-num\">3.2.4&nbsp;&nbsp;</span>Write a <i>for</i> loop to display the ticker and price contained in the dictionary.</a></span></li></ul></li><li><span><a href=\"#Iteration\" data-toc-modified-id=\"Iteration-3.3\"><span class=\"toc-item-num\">3.3&nbsp;&nbsp;</span>Iteration</a></span><ul class=\"toc-item\"><li><span><a href=\"#Write-a-for-loop-that-prints-out-the-integers-2-through-10,-each-on-a-new-line,-using-range()\" data-toc-modified-id=\"Write-a-for-loop-that-prints-out-the-integers-2-through-10,-each-on-a-new-line,-using-range()-3.3.1\"><span class=\"toc-item-num\">3.3.1&nbsp;&nbsp;</span>Write a <i>for</i> loop that prints out the integers 2 through 10, each on a new line, using <i>range()</i></a></span></li><li><span><a href=\"#Write-a-while-loop-that-prints-out-the-integers-2-through-10-(you'll-need-to-create-a-new-integer-first)\" data-toc-modified-id=\"Write-a-while-loop-that-prints-out-the-integers-2-through-10-(you'll-need-to-create-a-new-integer-first)-3.3.2\"><span class=\"toc-item-num\">3.3.2&nbsp;&nbsp;</span>Write a <i>while</i> loop that prints out the integers 2 through 10 (you'll need to create a new integer first)</a></span></li><li><span><a href=\"#Write-a-function-called-doubles()-that-takes-a-number-as-its-input-and-doubles-it.-Then-use-doubles()-in-a-loop-to-double-the-number-2-three-times,-displaying-each-result-on-a-separate-line.\" data-toc-modified-id=\"Write-a-function-called-doubles()-that-takes-a-number-as-its-input-and-doubles-it.-Then-use-doubles()-in-a-loop-to-double-the-number-2-three-times,-displaying-each-result-on-a-separate-line.-3.3.3\"><span class=\"toc-item-num\">3.3.3&nbsp;&nbsp;</span>Write a function called <i>doubles()</i> that takes a number as its input and doubles it. Then use <i>doubles()</i> in a loop to double the number 2 three times, displaying each result on a separate line.</a></span></li><li><span><a href=\"#Track-Your-Investments\" data-toc-modified-id=\"Track-Your-Investments-3.3.4\"><span class=\"toc-item-num\">3.3.4&nbsp;&nbsp;</span>Track Your Investments</a></span></li></ul></li><li><span><a href=\"#Control-Flow\" data-toc-modified-id=\"Control-Flow-3.4\"><span class=\"toc-item-num\">3.4&nbsp;&nbsp;</span>Control Flow</a></span><ul class=\"toc-item\"><li><span><a href=\"#Write-a-program-that-takes-a-given-number-and-if-the-number-equals-10,-then-the-program-should-display-&quot;You-win!&quot;-and-if-the-number-is-not-10-then-it-should-display-&quot;I'm-sorry,-that's-the-wrong-number.&quot;\" data-toc-modified-id=\"Write-a-program-that-takes-a-given-number-and-if-the-number-equals-10,-then-the-program-should-display-&quot;You-win!&quot;-and-if-the-number-is-not-10-then-it-should-display-&quot;I'm-sorry,-that's-the-wrong-number.&quot;-3.4.1\"><span class=\"toc-item-num\">3.4.1&nbsp;&nbsp;</span>Write a program that takes a given number and if the number equals 10, then the program should display <i>\"You win!\"</i> and if the number is not 10 then it should display <i>\"I'm sorry, that's the wrong number.\"</i></a></span></li><li><span><a href=\"#Write-a-program-that-compares-the-length-of-the-words-&quot;Product&quot;,-&quot;Data&quot;,-&quot;Sales&quot;-to-the-number-five.\" data-toc-modified-id=\"Write-a-program-that-compares-the-length-of-the-words-&quot;Product&quot;,-&quot;Data&quot;,-&quot;Sales&quot;-to-the-number-five.-3.4.2\"><span class=\"toc-item-num\">3.4.2&nbsp;&nbsp;</span>Write a program that compares the length of the words <i>\"Product\", \"Data\", \"Sales\"</i> to the number five.</a></span></li><li><span><a href=\"#Find-the-Factors-of-a-Number\" data-toc-modified-id=\"Find-the-Factors-of-a-Number-3.4.3\"><span class=\"toc-item-num\">3.4.3&nbsp;&nbsp;</span>Find the Factors of a Number</a></span></li><li><span><a href=\"#Basestock-Policy-in-Inventory-Management\" data-toc-modified-id=\"Basestock-Policy-in-Inventory-Management-3.4.4\"><span class=\"toc-item-num\">3.4.4&nbsp;&nbsp;</span>Basestock Policy in Inventory Management</a></span></li><li><span><a href=\"#Payroll-Calculator\" data-toc-modified-id=\"Payroll-Calculator-3.4.5\"><span class=\"toc-item-num\">3.4.5&nbsp;&nbsp;</span>Payroll Calculator</a></span></li></ul></li><li><span><a href=\"#Functions\" data-toc-modified-id=\"Functions-3.5\"><span class=\"toc-item-num\">3.5&nbsp;&nbsp;</span>Functions</a></span><ul class=\"toc-item\"><li><span><a href=\"#Create-a-function-calculates-the-mean-of-a-list-of-numbers-using-only-basic-arithmetic,-not-list-methods.\" data-toc-modified-id=\"Create-a-function-calculates-the-mean-of-a-list-of-numbers-using-only-basic-arithmetic,-not-list-methods.-3.5.1\"><span class=\"toc-item-num\">3.5.1&nbsp;&nbsp;</span>Create a function calculates the mean of a list of numbers using only basic arithmetic, not list methods.</a></span></li><li><span><a href=\"#Write-a-function-that-returns-the-first-and-last-elements-of-a-given-string-in-the-form-of-a-new-string-with-only-two-characters.-Return-a-statement-if-the-given-string-has-less-than-two-characters.\" data-toc-modified-id=\"Write-a-function-that-returns-the-first-and-last-elements-of-a-given-string-in-the-form-of-a-new-string-with-only-two-characters.-Return-a-statement-if-the-given-string-has-less-than-two-characters.-3.5.2\"><span class=\"toc-item-num\">3.5.2&nbsp;&nbsp;</span>Write a function that returns the first and last elements of a given string in the form of a new string with only two characters. Return a statement if the given string has less than two characters.</a></span></li><li><span><a href=\"#Convert-Temperatures\" data-toc-modified-id=\"Convert-Temperatures-3.5.3\"><span class=\"toc-item-num\">3.5.3&nbsp;&nbsp;</span>Convert Temperatures</a></span></li><li><span><a href=\"#Compute-Total-Revenue\" data-toc-modified-id=\"Compute-Total-Revenue-3.5.4\"><span class=\"toc-item-num\">3.5.4&nbsp;&nbsp;</span>Compute Total Revenue</a></span></li><li><span><a href=\"#Basestock-Policy-in-Inventory-Management\" data-toc-modified-id=\"Basestock-Policy-in-Inventory-Management-3.5.5\"><span class=\"toc-item-num\">3.5.5&nbsp;&nbsp;</span>Basestock Policy in Inventory Management</a></span></li><li><span><a href=\"#Payroll-Calculator\" data-toc-modified-id=\"Payroll-Calculator-3.5.6\"><span class=\"toc-item-num\">3.5.6&nbsp;&nbsp;</span>Payroll Calculator</a></span></li></ul></li></ul></li></ul></div>"
   ]
  },
  {
   "cell_type": "markdown",
   "metadata": {},
   "source": [
    "<h1>Instructions</h1>\n",
    "<br>\n",
    "<font size=\"+1\">\n",
    "    <ul>\n",
    "        <li><b>Recommended Steps</b></li>\n",
    "        <br>\n",
    "        <ol>\n",
    "            <li>Read the prompt and summarize the task in your own words, using as few words as possible for ease of comprehension.</li>\n",
    "            <br>\n",
    "            <li>Pretend to be the computer program that you are trying to create. Examine the smaple inputs and manually produce the appropriate results. Afterward, verify the correctness of your logic by comparing with the given sample outputs.</li>\n",
    "            <br>\n",
    "            <li>On a scrap piece of paper, write step-by-step instructions so that someone else can pretend to be the computer program and produce the appropriate results for any possible inputs. These instructions should target a human audience who does not know the problem description and only has your instructions as a guide. These instructions should serve as the roadmap for your code.</li>\n",
    "            <br>\n",
    "            <li>On another scrap piece of paper, write fragments of Python code to implement each step in your roadmap, focusing especially on the trickiest parts of the logic.</li>\n",
    "            <br>\n",
    "            <li>With your roadmap and code fragments from the previous steps, type Python code into a new Jupyter notebook cel to solve the given problem. You should type incrementally and run the code whenever you add a small chunk. This allows you to correct errors as they occur. It may also be helpful to print intermediate results to verify that the code is carrying out the logic as desired.</li>\n",
    "            <br>\n",
    "            <li>Run your code with some sample inputs and verify that the outputs are exactly the same as the sample outputs.</li>\n",
    "            <br>\n",
    "            <li>Once all of your problems are finished, it is useful to click <i>Kernel</i> $\\rightarrow$ <i>Restart & Run All</i> to verify that your outputs for all of your problems continue to be correct. This helps to ensure that someone else will be able to replicate your results when running your notebook.</li>\n",
    "            <br>\n",
    "            <li style=\"color:red\">Submit the <i>.ipynb</i> file on TurnItIn on Blackboard by the deadline. Be sure to refresh the page and double check your submission actually went through. <b>Note that you only need to submit your solutions, not all of the other recommended steps.</b> The recommended steps are meant to serve as a guide for your thinking process.</li>\n",
    "            <br>\n",
    "        </ol>\n",
    "        <br>\n",
    "        <hr style=\"border: 10px solid black\">\n",
    "        <br>\n",
    "        <li><b>Grading</b></li>\n",
    "        <br>\n",
    "        <li>There are four possible scores you can get from submitting this assignment on time (submitting a blank file or one without any apparent effort does not count). Note that the rubric is designed to incentivize you to go for $100%$ mastery of the material, as the little details matter in programming.</li>\n",
    "        <br>\n",
    "        <ul>\n",
    "            <li>Grade of $5$ out of $5$ - perfect submission with no significant errors</li>\n",
    "            <br>\n",
    "            <li>Grade of $4$ out of $5$ - near perfect submission with one or more significant errors</li>\n",
    "            <br>\n",
    "            <li>Grade of $2$ out of $5$ - apparent effort but far from perfect</li>\n",
    "            <br>\n",
    "            <li>Grade of $0$ out of $5$ - no submission or no apparent effort</li>\n",
    "            <br>\n",
    "        </ul>\n",
    "    </ul>\n",
    "</font>"
   ]
  },
  {
   "cell_type": "markdown",
   "metadata": {},
   "source": [
    "<hr style=\"border: 20px solid black\">"
   ]
  },
  {
   "cell_type": "markdown",
   "metadata": {},
   "source": [
    "<h1>Before You Begin</h1>\n",
    "<br>\n",
    "<font size=\"+1\">\n",
    "    <ul>\n",
    "        <li>Please read: <b>AUXILLARY_Intro_to_Python.ipynb</b></li>\n",
    "        <br>\n",
    "        <li>Please read: <b>04_Python_Programming_Decision_Making_and_The_Kelly_Criterion.ipynb</b></li>\n",
    "        <br>\n",
    "    </ul>\n",
    "</font>"
   ]
  },
  {
   "cell_type": "markdown",
   "metadata": {},
   "source": [
    "<hr style=\"border: 20px solid black\">"
   ]
  },
  {
   "cell_type": "markdown",
   "metadata": {},
   "source": [
    "<h1>Questions</h1>"
   ]
  },
  {
   "cell_type": "markdown",
   "metadata": {},
   "source": [
    "<h2>Lists</h2>"
   ]
  },
  {
   "cell_type": "markdown",
   "metadata": {},
   "source": [
    "<h3>Create a list named <i>food</i> with two elements: <i>\"rice\"</i> and <i>\"potatoes\"</i>.</h3>"
   ]
  },
  {
   "cell_type": "code",
   "execution_count": 66,
   "metadata": {},
   "outputs": [],
   "source": [
    "food = ['rice', 'potatoes']"
   ]
  },
  {
   "cell_type": "markdown",
   "metadata": {},
   "source": [
    "<h3>Append the string <i>\"broccoli\"</i> to <i>food</i> using <i>.append()</i>.</h3>"
   ]
  },
  {
   "cell_type": "code",
   "execution_count": 67,
   "metadata": {},
   "outputs": [],
   "source": [
    "food.append('broccoli')"
   ]
  },
  {
   "cell_type": "markdown",
   "metadata": {},
   "source": [
    "<h3>Add the strings <i>\"bread\"</i> and <i>\"pizza\"</i> to <i>food</i> using <i>.append()</i>.</h3>"
   ]
  },
  {
   "cell_type": "code",
   "execution_count": 68,
   "metadata": {},
   "outputs": [],
   "source": [
    "food.append('bread')\n",
    "food.append('pizza')"
   ]
  },
  {
   "cell_type": "markdown",
   "metadata": {},
   "source": [
    "<h3>Print the first two items in the <i>food</i> list using slicing.</h3>"
   ]
  },
  {
   "cell_type": "code",
   "execution_count": 69,
   "metadata": {},
   "outputs": [
    {
     "name": "stdout",
     "output_type": "stream",
     "text": [
      "['rice', 'potatoes']\n"
     ]
    }
   ],
   "source": [
    "print(food[0:2])"
   ]
  },
  {
   "cell_type": "markdown",
   "metadata": {},
   "source": [
    "<h3>Print the last item in <i>food</i> using indexing.</h3>"
   ]
  },
  {
   "cell_type": "code",
   "execution_count": 70,
   "metadata": {},
   "outputs": [
    {
     "name": "stdout",
     "output_type": "stream",
     "text": [
      "pizza\n"
     ]
    }
   ],
   "source": [
    "print(food[-1])"
   ]
  },
  {
   "cell_type": "markdown",
   "metadata": {},
   "source": [
    "<h3>Create a list called <i>breakfast</i> from the string <i>\"eggs, fruit, orange juice\"</i> using the <i>.split()</i> method.</h3>"
   ]
  },
  {
   "cell_type": "code",
   "execution_count": 71,
   "metadata": {},
   "outputs": [],
   "source": [
    "breakfast = 'eggs,fruit,orange juice'.split(',')"
   ]
  },
  {
   "cell_type": "markdown",
   "metadata": {},
   "source": [
    "<h3>Verify that <i>breakfast</i> has three items and is a list using <i>len()</i> and <i>type()</i></h3>"
   ]
  },
  {
   "cell_type": "code",
   "execution_count": 72,
   "metadata": {},
   "outputs": [
    {
     "data": {
      "text/plain": [
       "3"
      ]
     },
     "execution_count": 72,
     "metadata": {},
     "output_type": "execute_result"
    }
   ],
   "source": [
    "len(breakfast)"
   ]
  },
  {
   "cell_type": "code",
   "execution_count": 73,
   "metadata": {},
   "outputs": [
    {
     "data": {
      "text/plain": [
       "list"
      ]
     },
     "execution_count": 73,
     "metadata": {},
     "output_type": "execute_result"
    }
   ],
   "source": [
    "type(breakfast)"
   ]
  },
  {
   "cell_type": "code",
   "execution_count": 74,
   "metadata": {},
   "outputs": [
    {
     "data": {
      "text/plain": [
       "['eggs', 'fruit', 'orange juice']"
      ]
     },
     "execution_count": 74,
     "metadata": {},
     "output_type": "execute_result"
    }
   ],
   "source": [
    "breakfast"
   ]
  },
  {
   "cell_type": "markdown",
   "metadata": {},
   "source": [
    "<h3>Create a new list called <i>lengths</i> using a list comprehension that contains the lengths of each string in the <i>breakfast</i> list.</h3>"
   ]
  },
  {
   "cell_type": "code",
   "execution_count": 75,
   "metadata": {},
   "outputs": [],
   "source": [
    "lengths = [len(word) for word in breakfast]"
   ]
  },
  {
   "cell_type": "code",
   "execution_count": 76,
   "metadata": {},
   "outputs": [
    {
     "data": {
      "text/plain": [
       "[4, 5, 12]"
      ]
     },
     "execution_count": 76,
     "metadata": {},
     "output_type": "execute_result"
    }
   ],
   "source": [
    "lengths"
   ]
  },
  {
   "cell_type": "markdown",
   "metadata": {},
   "source": [
    "<h2>Dictionaries</h2>"
   ]
  },
  {
   "cell_type": "markdown",
   "metadata": {},
   "source": [
    "<h3>Create an empty dictionary named <i>dual_class_stock_price</i>.</h3>"
   ]
  },
  {
   "cell_type": "code",
   "execution_count": 77,
   "metadata": {},
   "outputs": [],
   "source": [
    "dual_class_stock_price = {}"
   ]
  },
  {
   "cell_type": "markdown",
   "metadata": {},
   "source": [
    "<h3>Using \"square bracket\" notation, enter the following data into the dictionary one item at a time:</h3>\n",
    "\n",
    "<ul>\n",
    "    <li>\"GOOGL\": \"2,952.77\"</li>\n",
    "    <li>\"GOOG\": \"2,962.12\"</li>\n",
    "    <br>\n",
    "    <li>\"BRK.A\": \"428,402.00\"</li>\n",
    "    <li>\"BRK.B\": \"284.52\"</li>\n",
    "    <br>\n",
    "    <li>\"AAC\": \"9.78\"</li>\n",
    "    <li>\"AAC.U\": \"9.98\"</li>\n",
    "    <br>\n",
    "    <li>\"YUM\": \"133.12\"</li>\n",
    "    <li>\"YUMC\": \"51.34\"</li>\n",
    "    <br>\n",
    "    <li>\"HVT\": \"31.12\"</li>\n",
    "    <li>\"HVT.A\": \"31.26\"</li>\n",
    "</ul>"
   ]
  },
  {
   "cell_type": "code",
   "execution_count": 78,
   "metadata": {},
   "outputs": [],
   "source": [
    "dual_class_stock_price['GOOGL'] = '2952.77'\n",
    "dual_class_stock_price['GOOG'] = '2962.12'\n",
    "dual_class_stock_price['BRK.A'] = '428,402.00'\n",
    "dual_class_stock_price['BRK.B'] = '284.52'\n",
    "dual_class_stock_price['AAC'] = '9.78'\n",
    "dual_class_stock_price['AAC.U'] = '9.98'\n",
    "dual_class_stock_price['YUM'] = '133.12'\n",
    "dual_class_stock_price['YUMC'] = '51.34'\n",
    "dual_class_stock_price['HVT'] = '31.12'\n",
    "dual_class_stock_price['HVT.A'] = '31.26'"
   ]
  },
  {
   "cell_type": "markdown",
   "metadata": {},
   "source": [
    "<h3>Write two <i>if</i> statements to check if <i>\"GOOG\"</i> and <i>\"GOOG.A\"</i> exist as keys in the dictionary. Set their values to <i>\"Not a valid ticker\"</i> if the key doesn't exist.</h3>"
   ]
  },
  {
   "cell_type": "code",
   "execution_count": 79,
   "metadata": {},
   "outputs": [],
   "source": [
    "if 'GOOG' not in dual_class_stock_price.keys():\n",
    "    dual_class_stock_price[\"GOOG\"] = \"Not a valid ticker\""
   ]
  },
  {
   "cell_type": "code",
   "execution_count": 80,
   "metadata": {},
   "outputs": [],
   "source": [
    "if 'GOOG.A' not in dual_class_stock_price.keys():\n",
    "    dual_class_stock_price['GOOG.A'] =  'Not a valid ticker'"
   ]
  },
  {
   "cell_type": "markdown",
   "metadata": {},
   "source": [
    "<h3>Write a <i>for</i> loop to display the ticker and price contained in the dictionary.</h3>\n",
    "\n",
    "The output should look something like this:\n",
    "\n",
    "<i>Ticker BRK.A had a price of \\$428,402.00.</i>"
   ]
  },
  {
   "cell_type": "code",
   "execution_count": 81,
   "metadata": {},
   "outputs": [
    {
     "name": "stdout",
     "output_type": "stream",
     "text": [
      "Ticker GOOGL  had a price of $2952.77.\n",
      "Ticker GOOG  had a price of $2962.12.\n",
      "Ticker BRK.A  had a price of $428,402.00.\n",
      "Ticker BRK.B  had a price of $284.52.\n",
      "Ticker AAC  had a price of $9.78.\n",
      "Ticker AAC.U  had a price of $9.98.\n",
      "Ticker YUM  had a price of $133.12.\n",
      "Ticker YUMC  had a price of $51.34.\n",
      "Ticker HVT  had a price of $31.12.\n",
      "Ticker HVT.A  had a price of $31.26.\n"
     ]
    }
   ],
   "source": [
    "for ticker in dual_class_stock_price.keys():\n",
    "    if dual_class_stock_price[ticker] != 'Not a valid ticker':\n",
    "        print(\"Ticker {}  had a price of ${}.\". format(ticker, dual_class_stock_price[ticker]))"
   ]
  },
  {
   "cell_type": "markdown",
   "metadata": {},
   "source": [
    "<h2>Iteration</h2>"
   ]
  },
  {
   "cell_type": "markdown",
   "metadata": {},
   "source": [
    "<h3>Write a <i>for</i> loop that prints out the integers 2 through 10, each on a new line, using <i>range()</i></h3>"
   ]
  },
  {
   "cell_type": "code",
   "execution_count": 82,
   "metadata": {},
   "outputs": [
    {
     "name": "stdout",
     "output_type": "stream",
     "text": [
      "2\n",
      "3\n",
      "4\n",
      "5\n",
      "6\n",
      "7\n",
      "8\n",
      "9\n",
      "10\n"
     ]
    }
   ],
   "source": [
    "for number in range(2, 11):\n",
    "    print( \"{}\".format(number))"
   ]
  },
  {
   "cell_type": "markdown",
   "metadata": {},
   "source": [
    "<h3>Write a <i>while</i> loop that prints out the integers 2 through 10 (you'll need to create a new integer first)</h3>"
   ]
  },
  {
   "cell_type": "code",
   "execution_count": 83,
   "metadata": {},
   "outputs": [
    {
     "name": "stdout",
     "output_type": "stream",
     "text": [
      "2\n",
      "3\n",
      "4\n",
      "5\n",
      "6\n",
      "7\n",
      "8\n",
      "9\n",
      "10\n"
     ]
    }
   ],
   "source": [
    "number =2\n",
    "\n",
    "while number < 11:\n",
    "    print(number)\n",
    "    number = number+1"
   ]
  },
  {
   "cell_type": "markdown",
   "metadata": {},
   "source": [
    "<h3>Write a function called <i>doubles()</i> that takes a number as its input and doubles it. Then use <i>doubles()</i> in a loop to double the number 2 three times, displaying each result on a separate line.</h3>\n",
    "<br>\n",
    "For example, sample output should look like:\n",
    "<br>\n",
    "4\n",
    "<br>\n",
    "8\n",
    "<br>\n",
    "16\n",
    "<br>"
   ]
  },
  {
   "cell_type": "code",
   "execution_count": 84,
   "metadata": {},
   "outputs": [
    {
     "name": "stdout",
     "output_type": "stream",
     "text": [
      "4\n",
      "8\n",
      "16\n"
     ]
    }
   ],
   "source": [
    "# function definition\n",
    "def  doubles(number):\n",
    "    return 2 * number\n",
    "\n",
    "#assign the value 2 to a variable\n",
    "num = 2\n",
    "\n",
    "for i in range(1,4):\n",
    "    num = doubles(num)\n",
    "    print(\"{}\".format(num))"
   ]
  },
  {
   "cell_type": "markdown",
   "metadata": {},
   "source": [
    "<h3>Track Your Investments</h3>\n",
    "<br>\n",
    "<font size=\"+1\">\n",
    "    <ul>\n",
    "        <li>The goal of this exercise is to write a program that tracks the growing amount of an investment over time.</li>\n",
    "        <br>\n",
    "        <ul>\n",
    "            <li>The inital deposit for an investment is called the principal amount.</li>\n",
    "            <br>\n",
    "            <li>Each year the amount increases by a fixed percentage, called the annual rate of return.</li>\n",
    "            <br>\n",
    "        </ul>\n",
    "        <li>Assume a principal amount of $\\$100,000$ with an annual rate of return of $5\\%$.</li>\n",
    "        <br>\n",
    "        <li>Write a function called <i>invest</i> with three arguments:</li>\n",
    "        <br>\n",
    "        <ul>\n",
    "            <li>the principal amount,</li>\n",
    "            <br>\n",
    "            <li>the annual rate of return,</li>\n",
    "            <br>\n",
    "            <li>the number of years to calculate.</li>\n",
    "            <br>\n",
    "            <li>The function signature could look something like this <i>def invest(amount, rate, years):</i></li>\n",
    "            <br>\n",
    "        </ul>\n",
    "        <li>The function should then print out the amount of the investment, rounded to two decimal places, at the end of each year for the specified number of years.</li>\n",
    "        <br>\n",
    "        <li>For example, calling <i>invest(100, 0.05, 4)</i> should print the following:\n",
    "        <br>\n",
    "        <br>\n",
    "        year 1: \\$105.00\n",
    "        <br>\n",
    "        year 2: \\$110.25\n",
    "        <br>\n",
    "        year 3: \\$115.76\n",
    "        <br>\n",
    "        year 4: \\$121.55\n",
    "        </li>\n",
    "        <br>\n",
    "        <li>Call this function for a principal amount of 200, with an annual rate of return of 9%, over the course of 11 years.</li>\n",
    "        <br>\n",
    "    </ul>\n",
    "</font>"
   ]
  },
  {
   "cell_type": "code",
   "execution_count": 85,
   "metadata": {},
   "outputs": [],
   "source": [
    "def invest(principal, annual_return, years):\n",
    "    for year in range(1, years+1):\n",
    "        total = principal * (1+annual_return)**year\n",
    "        print('year', year, ': $', round(total,2))"
   ]
  },
  {
   "cell_type": "code",
   "execution_count": 86,
   "metadata": {},
   "outputs": [
    {
     "name": "stdout",
     "output_type": "stream",
     "text": [
      "year 1 : $ 218.0\n",
      "year 2 : $ 237.62\n",
      "year 3 : $ 259.01\n",
      "year 4 : $ 282.32\n",
      "year 5 : $ 307.72\n",
      "year 6 : $ 335.42\n",
      "year 7 : $ 365.61\n",
      "year 8 : $ 398.51\n",
      "year 9 : $ 434.38\n",
      "year 10 : $ 473.47\n",
      "year 11 : $ 516.09\n"
     ]
    }
   ],
   "source": [
    "invest(200, 0.09, 11)"
   ]
  },
  {
   "cell_type": "markdown",
   "metadata": {},
   "source": [
    "<h2>Control Flow</h2>"
   ]
  },
  {
   "cell_type": "markdown",
   "metadata": {},
   "source": [
    "<h3>Write a program that takes a given number and if the number equals 10, then the program should display <i>\"You win!\"</i> and if the number is not 10 then it should display <i>\"I'm sorry, that's the wrong number.\"</i></h3>"
   ]
  },
  {
   "cell_type": "code",
   "execution_count": 87,
   "metadata": {},
   "outputs": [
    {
     "name": "stdout",
     "output_type": "stream",
     "text": [
      "Please input a number: 10\n",
      "You win!\n"
     ]
    }
   ],
   "source": [
    "given_number = float(input(\"Please input a number: \"))\n",
    "\n",
    "if given_number == 10:\n",
    "    print(\"You win!\")\n",
    "    \n",
    "else:\n",
    "    print(\"I'm sorry, that's the wrong number.\")"
   ]
  },
  {
   "cell_type": "markdown",
   "metadata": {},
   "source": [
    "<h3>Write a program that compares the length of the words <i>\"Product\", \"Data\", \"Sales\"</i> to the number five.</h3>\n",
    "<br>\n",
    "<font size=\"+1\">\n",
    "    <ul>\n",
    "        <li>The program should display one of the following outputs depending on the word:</li>\n",
    "        <br>\n",
    "        <ul>\n",
    "            <li><i>\"This word is less than 5 characters long.\"</i></li>\n",
    "            <li><i>\"This word is more than 5 characters long.\"</i></li>\n",
    "            <li><i>\"This word is 5 characters long.\"</i></li>\n",
    "            <br>\n",
    "        </ul>\n",
    "    </ul>\n",
    "</font>"
   ]
  },
  {
   "cell_type": "code",
   "execution_count": 88,
   "metadata": {},
   "outputs": [
    {
     "name": "stdout",
     "output_type": "stream",
     "text": [
      "This word is more than 5 characters long.\n",
      "This word is less than 5 characters long.\n",
      "This word is 5 characters long.\n"
     ]
    }
   ],
   "source": [
    "words = [\"Product\", \"Data\", \"Sales\"]\n",
    "\n",
    "for word in words:\n",
    "    \n",
    "    if len(word) < 5:\n",
    "        print(\"This word is less than 5 characters long.\")\n",
    "    \n",
    "    elif len(word) > 5:\n",
    "        print(\"This word is more than 5 characters long.\")\n",
    "    \n",
    "    else:\n",
    "        print(\"This word is 5 characters long.\")"
   ]
  },
  {
   "cell_type": "markdown",
   "metadata": {},
   "source": [
    "<h3>Find the Factors of a Number</h3>\n",
    "<br>\n",
    "<font size=\"+1\">\n",
    "    <ul>\n",
    "        <li>The goal of this exercise is to write a program that finds the factors of a positive whole number.</li>\n",
    "        <br>\n",
    "        <li>A factor of a positive number is any positive number less than or equal to itself that divides the number with no remainder.</li>\n",
    "        <br>\n",
    "        <li>For example, 3 is a factor of 12 because 12 / 3 = 4 with no remainder. However, 5 is not a factor of 12 because 12 / 5 = 2 with a remainder of 2. </li>\n",
    "        <br>\n",
    "        <li>Write a program that takes a positive number and then prints out the factors of that number.</li>\n",
    "        <br>\n",
    "        <li>Sample output for the positive number of 12 should look like:</li>\n",
    "        <br>\n",
    "        <ul>\n",
    "            <li>1 is a factor of 12.</li>\n",
    "            <li>2 is a factor of 12.</li>\n",
    "            <li>3 is a factor of 12.</li>\n",
    "            <li>4 is a factor of 12.</li>\n",
    "            <li>6 is a factor of 12.</li>\n",
    "            <li>12 is a factor of 12.</li>\n",
    "            <br>\n",
    "        </ul>\n",
    "        <li style=\"color:red\">You should use the $\\%$ operator to get the remainder of dividing one number by another.</li>\n",
    "        <br>\n",
    "    </ul>\n",
    "</font>"
   ]
  },
  {
   "cell_type": "code",
   "execution_count": 89,
   "metadata": {
    "scrolled": true
   },
   "outputs": [],
   "source": [
    "def factor(number):\n",
    "    for i in range(1 , number+1):\n",
    "        if number % i ==0:\n",
    "            print (i, \"is a factor of {}.\".format(number))"
   ]
  },
  {
   "cell_type": "code",
   "execution_count": 90,
   "metadata": {},
   "outputs": [
    {
     "name": "stdout",
     "output_type": "stream",
     "text": [
      "1 is a factor of 12.\n",
      "2 is a factor of 12.\n",
      "3 is a factor of 12.\n",
      "4 is a factor of 12.\n",
      "6 is a factor of 12.\n",
      "12 is a factor of 12.\n"
     ]
    }
   ],
   "source": [
    "factor(12)"
   ]
  },
  {
   "cell_type": "markdown",
   "metadata": {},
   "source": [
    "<h3>Basestock Policy in Inventory Management</h3>\n",
    "<br>\n",
    "<font size=\"+1\">\n",
    "    <ul>\n",
    "        <li>Write a program that asks a user for the current inventory level.</li>\n",
    "        <br>\n",
    "        <li>If then inventory is at least equal to the basestock level of 100, then output <i>\"Sufficient inventory, no need to order.\"</i></li>\n",
    "        <br>\n",
    "        <li>Otherwise, output <i>\"Order <b>x</b> units\"</i> where <b>x</b> is the difference between the basestock level and the current inventory.</li>\n",
    "        <br>\n",
    "    </ul>\n",
    "</font>"
   ]
  },
  {
   "cell_type": "code",
   "execution_count": 91,
   "metadata": {},
   "outputs": [
    {
     "name": "stdout",
     "output_type": "stream",
     "text": [
      "Plesae input the current inventory level: 60\n",
      "Order 40 units\n"
     ]
    }
   ],
   "source": [
    "inventory = int(input(\"Plesae input the current inventory level: \"))\n",
    "if inventory >= 100:\n",
    "    print(\"Sufficient inventory, no need to order.\")\n",
    "else: \n",
    "    x = 100 - inventory\n",
    "    print(\"Order {} units\".format(x))"
   ]
  },
  {
   "cell_type": "markdown",
   "metadata": {},
   "source": [
    "<h3>Payroll Calculator</h3>\n",
    "<br>\n",
    "<font size=\"+1\">\n",
    "    <ul>\n",
    "        <li>Write a program that asks a user to input the number of hours worked this week and uses this quantity to calculate the total pay based on the following contract:</li>\n",
    "        <br>\n",
    "        <ul>\n",
    "            <li>for the first $40$ hours, the hourly pay is $\\$15,$</li>\n",
    "            <br>\n",
    "            <li>and each hour worked over $40$ hours is compensated at an increased rate of $\\$22.50$ per hour.</li>\n",
    "            <br>\n",
    "        </ul>\n",
    "        <li>The program should return the total pay to the user.</li>\n",
    "        <br>\n",
    "    </ul>\n",
    "</font>"
   ]
  },
  {
   "cell_type": "code",
   "execution_count": 92,
   "metadata": {},
   "outputs": [
    {
     "name": "stdout",
     "output_type": "stream",
     "text": [
      "Plesae input the number of hours worked: 30\n",
      "Your total pay is $ 450.0\n"
     ]
    }
   ],
   "source": [
    "hours = float(input(\"Plesae input the number of hours worked: \"))\n",
    "if hours <= 40:\n",
    "    wage = 15 * hours\n",
    "    print(\"Your total pay is $\", wage)\n",
    "else:\n",
    "    wage = 40 * 15 + (hours - 40) * 22.5\n",
    "    print(\"Your total pay is $\", wage)"
   ]
  },
  {
   "cell_type": "markdown",
   "metadata": {},
   "source": [
    "<h2>Functions</h2>\n",
    "<br>\n",
    "<font size=\"+1\" style=\"color:red\">\n",
    "    Be sure to document (comment) your functions!\n",
    "</font>"
   ]
  },
  {
   "cell_type": "markdown",
   "metadata": {},
   "source": [
    "<h3>Create a function calculates the mean of a list of numbers using only basic arithmetic, not list methods.</h3>"
   ]
  },
  {
   "cell_type": "code",
   "execution_count": 1,
   "metadata": {},
   "outputs": [],
   "source": [
    "def mean(list_of_number):\n",
    "    '''This function returns the arithmetic mean given an input list of numbers.'''\n",
    "    sum = 0\n",
    "    length = 0\n",
    "    for i in list_of_number:\n",
    "        sum = sum + i\n",
    "        length = length + 1\n",
    "    return (sum /length)          # divide the sum by the length of the list to obtain the arithmetic mean"
   ]
  },
  {
   "cell_type": "code",
   "execution_count": 3,
   "metadata": {},
   "outputs": [
    {
     "data": {
      "text/plain": [
       "4.0"
      ]
     },
     "execution_count": 3,
     "metadata": {},
     "output_type": "execute_result"
    }
   ],
   "source": [
    "mean([3,4,5])"
   ]
  },
  {
   "cell_type": "markdown",
   "metadata": {},
   "source": [
    "<h3>Write a function that returns the first and last elements of a given string in the form of a new string with only two characters. Return a statement if the given string has less than two characters.</h3>"
   ]
  },
  {
   "cell_type": "code",
   "execution_count": 4,
   "metadata": {},
   "outputs": [],
   "source": [
    "def first_and_last(string):\n",
    "    '''This function returns the first and last elements of a given string in the form of a new string given an input string with at \n",
    "    least 3 characters.'''\n",
    "    if len(string) <= 2:\n",
    "        print(\"The input String must have more than 2 characters!\")\n",
    "    else:\n",
    "        fisrt = string[0]\n",
    "        last = string[-1]\n",
    "        combined = fisrt + last\n",
    "        return(combined)"
   ]
  },
  {
   "cell_type": "code",
   "execution_count": 6,
   "metadata": {},
   "outputs": [
    {
     "data": {
      "text/plain": [
       "'Wt'"
      ]
     },
     "execution_count": 6,
     "metadata": {},
     "output_type": "execute_result"
    }
   ],
   "source": [
    "first_and_last(\"What\")"
   ]
  },
  {
   "cell_type": "markdown",
   "metadata": {},
   "source": [
    "<h3>Convert Temperatures</h3>\n",
    "<br>\n",
    "<font size=\"+1\">\n",
    "    <ul>\n",
    "        <li>The goal of this exercise is to write a program that defines two functions:</li>\n",
    "        <br>\n",
    "        <ul>\n",
    "            <li><i>convert_celsius_to_fahrenheit()</i> that takes one <i>float</i> argument representing degrees Celsius and returns a <i>float</i> representing the same temperature in degrees Fahrenheit using the formula\n",
    "            $$\n",
    "            F = C \\times \\frac{9}{5} + 32,\n",
    "            $$</li>\n",
    "            <br>\n",
    "            <li><i>convert_fahrenheit_to_celsius()</i> that takes one <i>float</i> argument that represents degrees Fahrenheit and returns a <i>float</i> representing the same temperature in degrees Celsius using the formula\n",
    "            $$\n",
    "            C = (F-32) \\times \\frac{5}{9}.\n",
    "            $$</li>\n",
    "            <br>\n",
    "        </ul>\n",
    "        <li>The program should display all converted temperatures rounded to two decimal places.</li>\n",
    "        <br>\n",
    "        <li>The program should be able to run the following:</li>\n",
    "        <br>\n",
    "        <ul>\n",
    "            <li><i>convert_celsius_to_fahrenheit(37)</i> should return <i>37 degrees C = 98.60 degrees F</i></li>\n",
    "            <br>\n",
    "            <li><i>convert_fahrenheit_to_celsius(72)</i> should return <i>72 degrees F = 22.22 degrees C</i></li>\n",
    "            <br>\n",
    "        </ul>\n",
    "    </ul>\n",
    "</font>"
   ]
  },
  {
   "cell_type": "code",
   "execution_count": 97,
   "metadata": {},
   "outputs": [],
   "source": [
    "def convert_celsius_to_fahrenheit(C):\n",
    "    '''This function takes one float argument representing degrees Celsius \n",
    "    and returns a float representing the same temperature in degrees Fahrenheit'''\n",
    "    F = C * 9 / 5 + 32\n",
    "    print(\"{} degrees C = {} degrees F\".format(C, round(F,2)))"
   ]
  },
  {
   "cell_type": "code",
   "execution_count": 98,
   "metadata": {},
   "outputs": [],
   "source": [
    "def convert_fahrenheit_to_celsius(F):\n",
    "    '''This function takes one float argument that represents degrees Fahrenheit \n",
    "    and returns a float representing the same temperature in degrees Celsius'''\n",
    "    C = (F-32) * 5 / 9\n",
    "    print(\"{} degrees F = {} degrees C\".format(F, round(C,2)))"
   ]
  },
  {
   "cell_type": "code",
   "execution_count": 99,
   "metadata": {},
   "outputs": [
    {
     "name": "stdout",
     "output_type": "stream",
     "text": [
      "72 degrees F = 22.22 degrees C\n"
     ]
    }
   ],
   "source": [
    "convert_fahrenheit_to_celsius(72)"
   ]
  },
  {
   "cell_type": "markdown",
   "metadata": {},
   "source": [
    "<h3>Compute Total Revenue</h3>\n",
    "<br>\n",
    "<font size=\"+1\">\n",
    "    <ul>\n",
    "        <li>Define a function <i>total_revenue()</i> that asks the user for</li>\n",
    "        <br>\n",
    "        <ul>\n",
    "            <li>that asks the user for <b>the quantity sold</b> and the <b>price per unit</b>,</li>\n",
    "            <br>\n",
    "            <li>and returns the total revenue, which is the product of quantity sold and price per unit.</li>\n",
    "            <br>\n",
    "        </ul>\n",
    "        <li>Be sure to convert the string to float before multiplying</li>\n",
    "        <br>\n",
    "    </ul>\n",
    "</font>"
   ]
  },
  {
   "cell_type": "code",
   "execution_count": 7,
   "metadata": {},
   "outputs": [],
   "source": [
    "def total_revenue():\n",
    "    '''This function returns the total revenue given the input quantity by price per unit.'''\n",
    "    quantity = int(input(\"Please enter the quantity sold: \"))\n",
    "    price = float(input(\"Please input the price per unit: \"))\n",
    "    total_revenue = quantity * price\n",
    "    print(\"The total revenue is {}.\".format(total_revenue))"
   ]
  },
  {
   "cell_type": "markdown",
   "metadata": {},
   "source": [
    "<h3>Basestock Policy in Inventory Management</h3>\n",
    "<br>\n",
    "<font size=\"+1\">\n",
    "    <ul>\n",
    "        <li>In an effort to make your code reusable, write a function called <i>quantity_needed_to_order()</i> with two input arguments</li>\n",
    "        <br>\n",
    "        <ul>\n",
    "            <li><b>inventory</b>, with a default value of $0$, which is the current number of items present,</li>\n",
    "            <br>\n",
    "            <li><b>basestock</b>, with a default value of $100$, which is the target inventory level.</li>\n",
    "            <br>\n",
    "        </ul>\n",
    "        <li>If the inventory is at least equal to the basestock, then return $0$.</li>\n",
    "        <br>\n",
    "        <li>Otherwise, return how many items you should order to meet the target.</li>\n",
    "        <br>\n",
    "        <li>Include appropriate docstrings to explain what the function does.</li>\n",
    "        <br>\n",
    "    </ul>\n",
    "</font>"
   ]
  },
  {
   "cell_type": "code",
   "execution_count": 8,
   "metadata": {},
   "outputs": [],
   "source": [
    "def quantity_needed_to_order(inventory = 0, basestock = 100):\n",
    "    '''This function returns how many items should be restocked given the input inventory and basestock level.'''\n",
    "    if inventory >= basestock:\n",
    "        return(0)\n",
    "    else:\n",
    "        return(basestock - inventory)"
   ]
  },
  {
   "cell_type": "code",
   "execution_count": 9,
   "metadata": {},
   "outputs": [
    {
     "data": {
      "text/plain": [
       "40"
      ]
     },
     "execution_count": 9,
     "metadata": {},
     "output_type": "execute_result"
    }
   ],
   "source": [
    "quantity_needed_to_order(60, 100)"
   ]
  },
  {
   "cell_type": "markdown",
   "metadata": {},
   "source": [
    "<h3>Payroll Calculator</h3>\n",
    "<br>\n",
    "<font size=\"+1\">\n",
    "    <ul>\n",
    "        <li>In an effort to make your code reusable, write a function called <i>calculate_wage()</i> with three input arguments</li>\n",
    "        <br>\n",
    "        <ul>\n",
    "            <li><b>hours</b>, with a default value of $0$, which is the number of hours worked,</li>\n",
    "            <br>\n",
    "            <li><b>base</b>, with a default value of $15$, which is the pay for each of the first $40$ hours worked.</li>\n",
    "            <br>\n",
    "            <li><b>overtime</b>, with a default value of $22.50$, which is the overtime pay for each hour worked above $40$.</li>\n",
    "            <br>\n",
    "        </ul>\n",
    "        <li>The function should return the total pay.</li>\n",
    "        <br>\n",
    "    </ul>\n",
    "</font>"
   ]
  },
  {
   "cell_type": "code",
   "execution_count": 10,
   "metadata": {},
   "outputs": [],
   "source": [
    "def calculate_wage(hours = 0, base = 15, overtime = 22.50): \n",
    "    '''This function takes hours worked (with a default value of  0), base salary (with a default value of  15), and overtime salary (with a default value of  22.50) \n",
    "    as arguments and returns the total pay. '''\n",
    "    if hours <= 40:\n",
    "        wage = base * hours\n",
    "        return wage\n",
    "    else:\n",
    "        wage = 40 * base + (hours - 40) * overtime\n",
    "        return wage"
   ]
  },
  {
   "cell_type": "code",
   "execution_count": 11,
   "metadata": {},
   "outputs": [
    {
     "data": {
      "text/plain": [
       "622.5"
      ]
     },
     "execution_count": 11,
     "metadata": {},
     "output_type": "execute_result"
    }
   ],
   "source": [
    "calculate_wage(41)"
   ]
  }
 ],
 "metadata": {
  "hide_input": false,
  "kernelspec": {
   "display_name": "Python 3",
   "language": "python",
   "name": "python3"
  },
  "language_info": {
   "codemirror_mode": {
    "name": "ipython",
    "version": 3
   },
   "file_extension": ".py",
   "mimetype": "text/x-python",
   "name": "python",
   "nbconvert_exporter": "python",
   "pygments_lexer": "ipython3",
   "version": "3.7.4"
  },
  "toc": {
   "base_numbering": 1,
   "nav_menu": {},
   "number_sections": true,
   "sideBar": true,
   "skip_h1_title": false,
   "title_cell": "Table of Contents",
   "title_sidebar": "Contents",
   "toc_cell": true,
   "toc_position": {
    "height": "calc(100% - 180px)",
    "left": "10px",
    "top": "150px",
    "width": "195.302px"
   },
   "toc_section_display": true,
   "toc_window_display": false
  }
 },
 "nbformat": 4,
 "nbformat_minor": 5
}
