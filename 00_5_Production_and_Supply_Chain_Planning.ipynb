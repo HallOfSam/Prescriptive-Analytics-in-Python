{
 "cells": [
  {
   "cell_type": "markdown",
   "metadata": {
    "id": "36d39b9f",
    "toc": true
   },
   "source": [
    "<h1>Table of Contents<span class=\"tocSkip\"></span></h1>\n",
    "<div class=\"toc\"><ul class=\"toc-item\"><li><span><a href=\"#Instructions\" data-toc-modified-id=\"Instructions-1\"><span class=\"toc-item-num\">1&nbsp;&nbsp;</span>Instructions</a></span></li><li><span><a href=\"#Before-You-Begin\" data-toc-modified-id=\"Before-You-Begin-2\"><span class=\"toc-item-num\">2&nbsp;&nbsp;</span>Before You Begin</a></span></li><li><span><a href=\"#Imports\" data-toc-modified-id=\"Imports-3\"><span class=\"toc-item-num\">3&nbsp;&nbsp;</span>Imports</a></span></li><li><span><a href=\"#Questions\" data-toc-modified-id=\"Questions-4\"><span class=\"toc-item-num\">4&nbsp;&nbsp;</span>Questions</a></span></li><li><span><a href=\"#Food-Production---Formulation-Only\" data-toc-modified-id=\"Food-Production---Formulation-Only-5\"><span class=\"toc-item-num\">5&nbsp;&nbsp;</span>Food Production - Formulation Only</a></span><ul class=\"toc-item\"><li><span><a href=\"#Problem-Formulation\" data-toc-modified-id=\"Problem-Formulation-5.1\"><span class=\"toc-item-num\">5.1&nbsp;&nbsp;</span>Problem Formulation</a></span><ul class=\"toc-item\"><li><span><a href=\"#Decision-Variables\" data-toc-modified-id=\"Decision-Variables-5.1.1\"><span class=\"toc-item-num\">5.1.1&nbsp;&nbsp;</span>Decision Variables</a></span></li><li><span><a href=\"#Objective\" data-toc-modified-id=\"Objective-5.1.2\"><span class=\"toc-item-num\">5.1.2&nbsp;&nbsp;</span>Objective</a></span></li><li><span><a href=\"#Constraints\" data-toc-modified-id=\"Constraints-5.1.3\"><span class=\"toc-item-num\">5.1.3&nbsp;&nbsp;</span>Constraints</a></span></li><li><span><a href=\"#Solution\" data-toc-modified-id=\"Solution-5.1.4\"><span class=\"toc-item-num\">5.1.4&nbsp;&nbsp;</span>Solution</a></span></li></ul></li></ul></li><li><span><a href=\"#Production-Planning\" data-toc-modified-id=\"Production-Planning-6\"><span class=\"toc-item-num\">6&nbsp;&nbsp;</span>Production Planning</a></span><ul class=\"toc-item\"><li><span><a href=\"#Problem-Formulation\" data-toc-modified-id=\"Problem-Formulation-6.1\"><span class=\"toc-item-num\">6.1&nbsp;&nbsp;</span>Problem Formulation</a></span><ul class=\"toc-item\"><li><span><a href=\"#Decision-Variables\" data-toc-modified-id=\"Decision-Variables-6.1.1\"><span class=\"toc-item-num\">6.1.1&nbsp;&nbsp;</span>Decision Variables</a></span></li><li><span><a href=\"#Objective-Function\" data-toc-modified-id=\"Objective-Function-6.1.2\"><span class=\"toc-item-num\">6.1.2&nbsp;&nbsp;</span>Objective Function</a></span></li><li><span><a href=\"#Constraint-Functions\" data-toc-modified-id=\"Constraint-Functions-6.1.3\"><span class=\"toc-item-num\">6.1.3&nbsp;&nbsp;</span>Constraint Functions</a></span></li><li><span><a href=\"#Solution\" data-toc-modified-id=\"Solution-6.1.4\"><span class=\"toc-item-num\">6.1.4&nbsp;&nbsp;</span>Solution</a></span></li></ul></li></ul></li><li><span><a href=\"#Supply-Chain-Planning\" data-toc-modified-id=\"Supply-Chain-Planning-7\"><span class=\"toc-item-num\">7&nbsp;&nbsp;</span>Supply Chain Planning</a></span><ul class=\"toc-item\"><li><span><a href=\"#Problem-Formulation\" data-toc-modified-id=\"Problem-Formulation-7.1\"><span class=\"toc-item-num\">7.1&nbsp;&nbsp;</span>Problem Formulation</a></span><ul class=\"toc-item\"><li><span><a href=\"#Objective-Function\" data-toc-modified-id=\"Objective-Function-7.1.1\"><span class=\"toc-item-num\">7.1.1&nbsp;&nbsp;</span>Objective Function</a></span></li><li><span><a href=\"#Constraint-Functions\" data-toc-modified-id=\"Constraint-Functions-7.1.2\"><span class=\"toc-item-num\">7.1.2&nbsp;&nbsp;</span>Constraint Functions</a></span></li><li><span><a href=\"#Solution\" data-toc-modified-id=\"Solution-7.1.3\"><span class=\"toc-item-num\">7.1.3&nbsp;&nbsp;</span>Solution</a></span></li></ul></li></ul></li></ul></div>"
   ]
  },
  {
   "cell_type": "markdown",
   "metadata": {
    "id": "65cb23aa"
   },
   "source": [
    "<h1>Instructions</h1>\n",
    "<br>\n",
    "<font size=\"+1\">\n",
    "    <ul>\n",
    "        <li style=\"color:red\">This problem set assesses your ability to analyze a given business decision by creating a concrete formulation of an optimization model, as well as practice solving your optimizaton model with CVXPY and summarizing the results. You should typeset math within Markdown using $\\LaTeX$.</li>\n",
    "        <br>\n",
    "        <li><b>Recommended Steps</b></li>\n",
    "        <br>\n",
    "        <ol>\n",
    "            <li>Read the prompt and summarize the task in your own words, using as few words as possible for ease of comprehension.</li>\n",
    "            <br>\n",
    "            <li>Pretend to be the computer program that you are trying to create. Examine the sample inputs and manually produce the appropriate results. Afterward, verify the correctness of your logic by comparing with the given sample outputs.</li>\n",
    "            <br>\n",
    "            <li>On a scrap piece of paper, write step-by-step instructions so that someone else can pretend to be the computer program and produce the appropriate results for any possible inputs. These instructions should target a human audience who does not know the problem description and only has your instructions as a guide. These instructions should serve as the roadmap for your code.</li>\n",
    "            <br>\n",
    "            <li>On another scrap piece of paper, write fragments of Python code to implement each step in your roadmap, focusing especially on the trickiest parts of the logic.</li>\n",
    "            <br>\n",
    "            <li>With your roadmap and code fragments from the previous steps, type Python code into a new Jupyter notebook cel to solve the given problem. You should type incrementally and run the code whenever you add a small chunk. This allows you to correct errors as they occur. It may also be helpful to print intermediate results to verify that the code is carrying out the logic as desired.</li>\n",
    "            <br>\n",
    "            <li>Run your code with some sample inputs and verify that the outputs are exactly the same as the sample outputs.</li>\n",
    "            <br>\n",
    "            <li>Once all of your problems are finished, it is useful to click <i>Kernel</i> $\\rightarrow$ <i>Restart & Run All</i> to verify that your outputs for all of your problems continue to be correct. This helps to ensure that someone else will be able to replicate your results when running your notebook.</li>\n",
    "            <br>\n",
    "            <li style=\"color:red\">Submit the <i>.ipynb</i> file on TurnItIn on Blackboard by the deadline. Be sure to refresh the page and double check your submission actually went through. <b>Note that you only need to submit your solutions, not all of the other recommended steps.</b> The recommended steps are meant to serve as a guide for your thinking process.</li>\n",
    "            <br>\n",
    "        </ol>\n",
    "        <br>\n",
    "        <hr style=\"border: 10px solid black\">\n",
    "        <br>\n",
    "        <li><b>Grading</b></li>\n",
    "        <br>\n",
    "        <li>There are four possible scores you can get from submitting this assignment on time (submitting a blank file or one without any apparent effort does not count). Note that the rubric is designed to incentivize you to go for $100%$ mastery of the material, as the little details matter in programming.</li>\n",
    "        <br>\n",
    "        <ul>\n",
    "            <li>Grade of $5$ out of $5$ - perfect submission with no significant errors</li>\n",
    "            <br>\n",
    "            <li>Grade of $4$ out of $5$ - near perfect submission with one or more significant errors</li>\n",
    "            <br>\n",
    "            <li>Grade of $2$ out of $5$ - apparent effort but far from perfect</li>\n",
    "            <br>\n",
    "            <li>Grade of $0$ out of $5$ - no submission or no apparent effort</li>\n",
    "            <br>\n",
    "        </ul>\n",
    "    </ul>\n",
    "</font>"
   ]
  },
  {
   "cell_type": "markdown",
   "metadata": {
    "id": "385c42a5"
   },
   "source": [
    "<hr style=\"border: 20px solid black\">"
   ]
  },
  {
   "cell_type": "markdown",
   "metadata": {
    "id": "096f5f7b"
   },
   "source": [
    "<h1>Before You Begin</h1>\n",
    "<br>\n",
    "<font size=\"+1\">\n",
    "    <ul>\n",
    "        <li>Please read: <b>01_Practice_with_CVXPY_Optimization_and_Operations_Management.ipynb</b></li>\n",
    "        <br>\n",
    "        <li>Please read: <b>02_Optimal_Network_Design_For_Supply_Chains.ipynb</b></li>\n",
    "        <br>\n",
    "    </ul>\n",
    "</font>"
   ]
  },
  {
   "cell_type": "markdown",
   "metadata": {
    "id": "d03d1f25"
   },
   "source": [
    "<hr style=\"border: 20px solid black\">"
   ]
  },
  {
   "cell_type": "markdown",
   "metadata": {
    "id": "2e4581f6"
   },
   "source": [
    "<h1>Imports</h1>\n",
    "<br>\n",
    "<font size=\"+1\">\n",
    "    <ul>\n",
    "        <li>Put your imports below.</li>\n",
    "        <br>\n",
    "        <li>Import Numpy and Pandas and CVXPY</li>\n",
    "        <br>\n",
    "    </ul>\n",
    "</font>"
   ]
  },
  {
   "cell_type": "code",
   "execution_count": 2,
   "metadata": {
    "id": "222bdff7"
   },
   "outputs": [],
   "source": [
    "import cvxpy as cp\n",
    "import numpy as np\n",
    "import pandas as pd"
   ]
  },
  {
   "cell_type": "markdown",
   "metadata": {
    "id": "e59f020c"
   },
   "source": [
    "<hr style=\"border: 20px solid black\">"
   ]
  },
  {
   "cell_type": "markdown",
   "metadata": {
    "id": "c8b6c030"
   },
   "source": [
    "<h1>Questions</h1>"
   ]
  },
  {
   "cell_type": "markdown",
   "metadata": {
    "id": "a5ac4359"
   },
   "source": [
    "<h1>Food Production - Formulation Only</h1>\n",
    "<br>\n",
    "<font size=\"+1\">\n",
    "    <ul>\n",
    "        <li>A food factory requires $2000$ tons of canola oil every month as a raw ingredient.</li>\n",
    "        <br>\n",
    "        <li>The prices of canola oil fluctuates from month to month due to market conditions.</li>\n",
    "        <br>\n",
    "        <li>The predicted prices for the next six months are: <br> <table>\n",
    "  <tr>\n",
    "    <th>Month</th>\n",
    "    <th>1</th>\n",
    "      <th>2</th>\n",
    "      <th>3</th>\n",
    "      <th>4</th>\n",
    "      <th>5</th>\n",
    "      <th>6</th>\n",
    "  </tr>\n",
    "  <tr>\n",
    "    <td>Price per ton</td>\n",
    "    <th>150</th>\n",
    "      <th>160</th>\n",
    "      <th>180</th>\n",
    "      <th>170</th>\n",
    "      <th>180</th>\n",
    "      <th>160</th>\n",
    "  </tr>\n",
    "    </table></li>\n",
    "        <br>\n",
    "        <li>The factory's supplier for canola oil delivers it on the first day of every month, and charges the above prices.</li>\n",
    "        <br>\n",
    "        <li>The factory can decide how much oil to buy each month from the supplier.</li>\n",
    "        <br>\n",
    "        <li>At the end of each month, the factory can also store unused oil for future use, but the inventory of oil (total amount stored)  cannot exceed $1000$ tons at any given time. Assume the inventory before the first shipment is zero.</li>\n",
    "        <br>\n",
    "        <li style=\"color:red\">Formulate, in English and symbolically, an optimization problem to decide how much canola oil to buy for each of the six months in order to minimize the total purchase cost over the next six months.</li>\n",
    "        <br>\n",
    "        <li style=\"color:red\">You do not have to use CVXPY to estimate the optimal purchasing policy and the associated purchasing cost, though you may choose to if interested, you only need to <b>formulate</b> the problem.</li>\n",
    "        <br>\n",
    "    </ul>\n",
    "</font>"
   ]
  },
  {
   "cell_type": "markdown",
   "metadata": {
    "id": "ec796f89"
   },
   "source": [
    "<h2>Problem Formulation</h2>\n",
    "<br>\n",
    "<font size=\"+1\">\n",
    "    <ul>\n",
    "        <li>This consists of determining the decision variables, objective function, and constraint functions.</li>\n",
    "        <br>\n",
    "    </ul>\n",
    "</font>"
   ]
  },
  {
   "cell_type": "markdown",
   "metadata": {
    "id": "f378ae86"
   },
   "source": [
    "<h3>Decision Variables</h3>\n",
    "<br>\n",
    "<font size=\"+1\">\n",
    "    <ul>\n",
    "        <li>What are the decision variables?</li>\n",
    "        <br>\n",
    "    </ul>\n",
    "</font>"
   ]
  },
  {
   "cell_type": "markdown",
   "metadata": {},
   "source": [
    "<br>\n",
    "<font size=\"+1\">\n",
    "    <ul>\n",
    "        <li> Decision Variable B: the number tons of canola oil to buy every month</li>\n",
    "        <br>\n",
    "    </ul>\n",
    "</font>\n"
   ]
  },
  {
   "cell_type": "code",
   "execution_count": 3,
   "metadata": {
    "id": "599c4800"
   },
   "outputs": [],
   "source": [
    "B = cp.Variable(6, integer = True)"
   ]
  },
  {
   "cell_type": "markdown",
   "metadata": {
    "id": "6884330d"
   },
   "source": [
    "<h3>Objective</h3>\n",
    "<br>\n",
    "<font size=\"+1\">\n",
    "    <ul>\n",
    "        <li>What is the objective and the associated objective function?</li>\n",
    "        <br>\n",
    "    </ul>\n",
    "</font>"
   ]
  },
  {
   "cell_type": "markdown",
   "metadata": {},
   "source": [
    "$$\\begin{align}\n",
    "\\text{ We want to minimize: } & 150B_1 +160B_2 + 180B_3 + 170B_4 + 180B_5 + 160B_6 & \\\\ \\\\\n",
    "\\end{align}$$"
   ]
  },
  {
   "cell_type": "code",
   "execution_count": 4,
   "metadata": {
    "id": "a0dfb56c"
   },
   "outputs": [],
   "source": [
    "obj = cp.Minimize(150*B[0] +160*B[1] + 180*B[2] + 170*B[3] + 180*B[4] + 160*B[5])"
   ]
  },
  {
   "cell_type": "markdown",
   "metadata": {
    "id": "422454e2"
   },
   "source": [
    "<h3>Constraints</h3>\n",
    "<br>\n",
    "<font size=\"+1\">\n",
    "    <ul>\n",
    "        <li>What are the constraints imposed by the factory?</li>\n",
    "        <br>\n",
    "    </ul>\n",
    "</font>"
   ]
  },
  {
   "cell_type": "markdown",
   "metadata": {},
   "source": [
    "<br>\n",
    "<font size=\"+1\">\n",
    "    <ul>\n",
    "        <li> Constraints:  </li>\n",
    "         <li> 1. The number of tons of oil available for production each month must be at least 2,000 tons  </li>\n",
    "        <li> 2. The number of tons of inventory at any month must be lower than or equal to 1,000 tons  </li>\n",
    "        <li> 3. Also, we should notice that inventory must be non-negative </li>\n",
    "        <br>\n",
    "    </ul>\n",
    "</font>"
   ]
  },
  {
   "cell_type": "markdown",
   "metadata": {
    "id": "ee625e92",
    "scrolled": true
   },
   "source": [
    "$$\\begin{align}\n",
    "\\text{ minimize: } & 150B_1 +160B_2 + 180B_3 + 170B_4 + 180B_5 + 160B_6 & \\\\ \\\\\n",
    "\\text{ subject to: } & \\\\\n",
    "& \\text{ tons of oil available at month 1: } B_1 & \\geq 2,000 \\\\\n",
    "& \\text{ tons of oil available at month 2: } B_2 +  (B_1 - 2,000) & \\geq 2,000 \\\\\n",
    "& \\text{ tons of oil available at month 3: } B_3 + (B_1 + B_2 - 4,000)  & \\geq 2,000 \\\\\n",
    "& \\text{ tons of oil available at month 4: } B_4  + (B_1 + B_2 + B_3 - 6,000)&\\geq 2,000 \\\\\n",
    "& \\text{ tons of oil available at month 5: } B_5  + (B_1 + B_2 + B_3 + B_4 - 8,000) & \\geq 2,000 \\\\\n",
    "& \\text{ tons of oil available at month 6: } B_6  +  (B_1 + B_2 + B_3 + B_4 + B_5 - 10,000) &\\geq 2,000 \\\\\n",
    "& \\text{ inventory at the end of month 1: } (B_1 - 2,000) & \\leq 1,000 \\\\\n",
    "& \\text{ inventory at the end of month 2: } (B_1 + B_2 - 4,000) & \\leq 1,000 \\\\\n",
    "& \\text{ inventory at the end of month 3: } (B_1 + B_2 + B_3 - 6,000) & \\leq 1,000 \\\\\n",
    "& \\text{ inventory at the end of month 4: }  (B_1 + B_2 + B_3 + B_4 - 8,000) & \\leq 1,000 \\\\\n",
    "& \\text{ inventory at the end of month 5: }  (B_1 + B_2 + B_3 + B_4 + B_5 - 10,000) & \\leq 1,000 \\\\\n",
    "& \\text{ inventory at the end of month 6: }  (B_1 + B_2 + B_3 + B_4 + B_5 + B_6 - 12,000) & \\leq 1,000 \\\\\n",
    "\\end{align}$$\n"
   ]
  },
  {
   "cell_type": "code",
   "execution_count": 5,
   "metadata": {},
   "outputs": [],
   "source": [
    "constraint_1 = (B[0] >= 2000)\n",
    "\n",
    "constraint_2 = (B[1] + (B[0] -2000) >= 2000)\n",
    "\n",
    "constraint_3 = (B[2] + (B[0] + B[1] -4000) >= 2000)\n",
    "\n",
    "constraint_4 = (B[3] + (B[0] + B[1] + B[2] -6000) >= 2000)\n",
    "\n",
    "constraint_5 = (B[4] + (B[0] + B[1] + B[2] + B[3] -8000) >= 2000)\n",
    "\n",
    "constraint_6 = (B[5] +(B[0] + B[1] + B[2] + B[3] + B[4] -10000) >= 2000)\n",
    "\n",
    "constraint_7 = (B[0] -2000) <= 1000\n",
    "\n",
    "constraint_8 =  (B[0] + B[1] -4000) <= 1000\n",
    "\n",
    "constraint_9 = (B[0] + B[1] + B[2] -6000) <= 1000\n",
    "\n",
    "constraint_10 = (B[0] + B[1] + B[2] + B[3] -8000) <= 1000\n",
    "\n",
    "constraint_11 = (B[0] + B[1] + B[2] + B[3] + B[4] -10000) <=1000\n",
    "\n",
    "constraint_12 = (B[0] + B[1] + B[2] + B[3] + B[4] + B[5] -12000) <=1000\n",
    "\n",
    "constraint_13 = (B>=0)\n",
    "\n",
    "constraint_14 = (B[0] -2000) >=0\n",
    "\n",
    "constraint_15 =  (B[0] + B[1] -4000) >=0\n",
    "\n",
    "constraint_16 = (B[0] + B[1] + B[2] -6000) >=0\n",
    "\n",
    "constraint_17 = (B[0] + B[1] + B[2] + B[3] -8000) >=0\n",
    "\n",
    "constraint_18 = (B[0] + B[1] + B[2] + B[3] + B[4] -10000) >=0\n",
    "\n",
    "constraint_19 = (B[0] + B[1] + B[2] + B[3] + B[4] + B[5] -12000) >=0\n"
   ]
  },
  {
   "cell_type": "markdown",
   "metadata": {
    "id": "d6e3ac62"
   },
   "source": [
    "<h3>Solution</h3>\n",
    "<br>\n",
    "<font size=\"+1\">\n",
    "    <ul>\n",
    "        <li>What is the solution to the problem?</li>\n",
    "        <br>\n",
    "        <li>How can you interpret the solution?</li>\n",
    "        <br>\n",
    "        <li style=\"color:red\">This step isn't required for this problem.</li>\n",
    "        <br>\n",
    "    </ul>\n",
    "</font>"
   ]
  },
  {
   "cell_type": "code",
   "execution_count": 6,
   "metadata": {
    "id": "4b864943",
    "scrolled": false
   },
   "outputs": [],
   "source": [
    "prob = cp.Problem(obj, [constraint_1, constraint_2, constraint_3,\n",
    "                       constraint_4, constraint_5, constraint_6,\n",
    "                       constraint_7, constraint_8, constraint_9,\n",
    "                       constraint_10, constraint_11, constraint_12,\n",
    "                       constraint_13, constraint_14, constraint_15,\n",
    "                       constraint_16, constraint_17, constraint_18,\n",
    "                       constraint_19])"
   ]
  },
  {
   "cell_type": "code",
   "execution_count": 7,
   "metadata": {},
   "outputs": [
    {
     "data": {
      "text/plain": [
       "1960000.0"
      ]
     },
     "execution_count": 7,
     "metadata": {},
     "output_type": "execute_result"
    }
   ],
   "source": [
    "prob.solve()"
   ]
  },
  {
   "cell_type": "code",
   "execution_count": 8,
   "metadata": {},
   "outputs": [
    {
     "data": {
      "text/plain": [
       "array([3000., 2000., 1000., 3000., 1000., 2000.])"
      ]
     },
     "execution_count": 8,
     "metadata": {},
     "output_type": "execute_result"
    }
   ],
   "source": [
    "B.value"
   ]
  },
  {
   "cell_type": "markdown",
   "metadata": {},
   "source": [
    "<br>\n",
    "<font size=\"+1\">\n",
    "    <ul>\n",
    "        <li>This tells us the food factory should buy 3000 tons, 2000 tons, 1000 tons, 3000 tons, 1000 tons, and 2000 tons of canola oil in the following six months respectively, which gives a minimum purchasing cost of $1,960,000.</li>\n",
    "        <br>\n",
    "    </ul>\n",
    "</font>"
   ]
  },
  {
   "cell_type": "markdown",
   "metadata": {
    "id": "ffb8d1f9"
   },
   "source": [
    "<hr style=\"border: 20px solid black\">"
   ]
  },
  {
   "cell_type": "markdown",
   "metadata": {
    "id": "64365296"
   },
   "source": [
    "<h1>Production Planning</h1>\n",
    "<br>\n",
    "<font size=\"+1\">\n",
    "    <ul>\n",
    "        <li>The Magnetron Company manufactures and markets microwave ovens.</li>\n",
    "        <br>\n",
    "        <ul>\n",
    "            <li>Currently, the company produces two models: full-size and compact.</li>\n",
    "            <br>\n",
    "            <li>Production is limited by the amount of labor available in the general assembly and electronics assembly departments, as well as by the demand for each model.</li>\n",
    "            <br>\n",
    "            <li>Each full-size oven requires $2$ hours of general assembly and $2$ hours of electronic assembly, whereas each compact oven requires $2$ hours of general assembly and $3$ hours of electronic assembly.</li>\n",
    "            <br>\n",
    "            <li>In the current production period, there are $500$ hours of general assembly labor available and $800$ hours of electronic assembly labor available.</li>\n",
    "            <br>\n",
    "            <li>Additionally, the company estimates it can sell at most $220$ full-size ovens and $180$ compact ovens in the current production period.</li>\n",
    "            <br>\n",
    "            <li>The earnings contribution per oven is $120$ dollars for a full-size oven and $130$ dollars for a compact oven.</li>\n",
    "            <br>\n",
    "            <li style=\"color:red\">The company would like to find an earnings-maximizing production plan for the current production period.</li>\n",
    "            <br>\n",
    "        </ul>\n",
    "        <li style=\"color:blue\">For this problem, formulate the problem in English, as well as in equations. Then, solve the problem using CVXPY by finding the maximum earnings and the associated production plan that yields the maximum earnings.</li>\n",
    "        <br>\n",
    "    </ul>\n",
    "</font>"
   ]
  },
  {
   "cell_type": "markdown",
   "metadata": {
    "id": "b113e5aa"
   },
   "source": [
    "<h2>Problem Formulation</h2>\n",
    "<br>\n",
    "<font size=\"+1\">\n",
    "    <ul>\n",
    "        <li>This consists of determining the decision variables, objective function, and constraint functions.</li>\n",
    "        <br>\n",
    "    </ul>\n",
    "</font>"
   ]
  },
  {
   "cell_type": "markdown",
   "metadata": {
    "id": "8812f159"
   },
   "source": [
    "<h3>Decision Variables</h3>\n",
    "<br>\n",
    "<font size=\"+1\">\n",
    "    <ul>\n",
    "        <li>What decisions does the company have to make, i.e. what is in their control?</li>\n",
    "        <br>\n",
    "        <ul>\n",
    "            <li>You can assume the variables are continuous and not integer valued.</li>\n",
    "            <br>\n",
    "        </ul>\n",
    "    </ul>\n",
    "</font>"
   ]
  },
  {
   "cell_type": "markdown",
   "metadata": {
    "id": "f77cc62d"
   },
   "source": [
    "<br>\n",
    "<font size=\"+1\">\n",
    "    <ul>\n",
    "        <li>There are 2 decision variables:  </li>\n",
    "         <li> 1. F: the number of full-size ovens to produce (which should be a non-negative)  </li>\n",
    "        <li> 2. C: the number of compact ovens to product (which should be a non-negative) </li>\n",
    "        <br>\n",
    "    </ul>\n",
    "</font>"
   ]
  },
  {
   "cell_type": "code",
   "execution_count": 9,
   "metadata": {},
   "outputs": [],
   "source": [
    "F = cp.Variable(1, nonneg = True)\n",
    "\n",
    "C = cp.Variable(1, nonneg = True)"
   ]
  },
  {
   "cell_type": "markdown",
   "metadata": {
    "id": "e1546357"
   },
   "source": [
    "<h3>Objective Function</h3>\n",
    "<br>\n",
    "<font size=\"+1\">\n",
    "    <ul>\n",
    "        <li>What's the goal?</li>\n",
    "        <br>\n",
    "    </ul>\n",
    "</font>"
   ]
  },
  {
   "cell_type": "markdown",
   "metadata": {},
   "source": [
    "<br>\n",
    "<font size=\"+1\">\n",
    "    <ul>\n",
    "        <li>$$\\begin{align}\n",
    "\\text{ We want to maximize the earnings: } & 120 \\cdot F + 130 \\cdot C & \\\\ \\\\\n",
    "\\end{align}$$ </li>\n",
    "        <br>\n",
    "    </ul>\n",
    "</font>"
   ]
  },
  {
   "cell_type": "code",
   "execution_count": 10,
   "metadata": {
    "id": "fdd14089"
   },
   "outputs": [],
   "source": [
    "obj = cp.Maximize(120*F + 130*C)"
   ]
  },
  {
   "cell_type": "markdown",
   "metadata": {
    "id": "c0de5ead"
   },
   "source": [
    "<h3>Constraint Functions</h3>\n",
    "<br>\n",
    "<font size=\"+1\">\n",
    "    <ul>\n",
    "        <li>Recall, you want to find the production plan (i.e. number of units of full-size and compact microwave ovens produced) that maximizes earnings while satisfying assembly and demand constraints.</li>\n",
    "        <br>\n",
    "    </ul>\n",
    "</font>"
   ]
  },
  {
   "cell_type": "markdown",
   "metadata": {},
   "source": [
    "<br>\n",
    "<font size=\"+1\">\n",
    "    <ul>\n",
    "        <li>Constraints:  </li>\n",
    "         <li> 1. There are 500 hours of general assembly labor available, and 800  hours of electronic assembly labor available  </li>\n",
    "        <li> 2. The companyit can sell at most 220 full-size ovens and 180 compact ovens </li>\n",
    "        <br>\n",
    "    </ul>\n",
    "</font>"
   ]
  },
  {
   "cell_type": "code",
   "execution_count": 11,
   "metadata": {
    "id": "f03ed156"
   },
   "outputs": [],
   "source": [
    "constraint_1 = (2*F + 2*C <= 500)\n",
    "\n",
    "constraint_2 = (2*F + 3*C <=800)\n",
    "\n",
    "constraint_3 = (F <= 220)\n",
    "\n",
    "constraint_4 = (C <= 180)"
   ]
  },
  {
   "cell_type": "markdown",
   "metadata": {
    "id": "ff34c33f"
   },
   "source": [
    "<h3>Solution</h3>\n",
    "<br>\n",
    "<font size=\"+1\">\n",
    "    <ul>\n",
    "        <li>What is the solution to the problem?</li>\n",
    "        <br>\n",
    "        <li>How can you interpret the solution?</li>\n",
    "        <br>\n",
    "    </ul>\n",
    "</font>"
   ]
  },
  {
   "cell_type": "markdown",
   "metadata": {},
   "source": [
    "$$\\begin{align}\n",
    "\\text{ maximize: } & 120 \\cdot F + 130 \\cdot C & \\\\ \\\\\n",
    "\\text{ subject to: } & 2 \\cdot F + 2 \\cdot C & \\leq 500 \\\\\n",
    "& 2 \\cdot F + 3 \\cdot C & \\leq 800 \\\\\n",
    "& F & \\leq 220 \\\\\n",
    "& C & \\leq 180 \\\\\n",
    "\\end{align}$$"
   ]
  },
  {
   "cell_type": "code",
   "execution_count": 12,
   "metadata": {},
   "outputs": [],
   "source": [
    "prob = cp.Problem(obj, [constraint_1, constraint_2, constraint_3, constraint_4])"
   ]
  },
  {
   "cell_type": "code",
   "execution_count": 13,
   "metadata": {
    "id": "e418bfaf"
   },
   "outputs": [
    {
     "data": {
      "text/plain": [
       "31799.99999951865"
      ]
     },
     "execution_count": 13,
     "metadata": {},
     "output_type": "execute_result"
    }
   ],
   "source": [
    "prob.solve()"
   ]
  },
  {
   "cell_type": "code",
   "execution_count": 14,
   "metadata": {},
   "outputs": [
    {
     "data": {
      "text/plain": [
       "array([70.])"
      ]
     },
     "execution_count": 14,
     "metadata": {},
     "output_type": "execute_result"
    }
   ],
   "source": [
    "F.value"
   ]
  },
  {
   "cell_type": "code",
   "execution_count": 15,
   "metadata": {},
   "outputs": [
    {
     "data": {
      "text/plain": [
       "array([179.99999999])"
      ]
     },
     "execution_count": 15,
     "metadata": {},
     "output_type": "execute_result"
    }
   ],
   "source": [
    "C.value"
   ]
  },
  {
   "cell_type": "markdown",
   "metadata": {},
   "source": [
    "<br>\n",
    "<font size=\"+1\">\n",
    "    <ul>\n",
    "        <li>This tells us the production plan is to produce $70$ units of the full-size ovens and $180$ units of the compact ovens, which gives a maximum earnings of $31,800$ dollars per this production period.</li>\n",
    "        <br>\n",
    "    </ul>\n",
    "</font>"
   ]
  },
  {
   "cell_type": "markdown",
   "metadata": {
    "id": "b6d65d3b"
   },
   "source": [
    "<hr style=\"border: 20px solid black\">"
   ]
  },
  {
   "cell_type": "markdown",
   "metadata": {
    "id": "8c2db1ee"
   },
   "source": [
    "<h1>Supply Chain Planning</h1>\n",
    "<br>\n",
    "<font size=\"+1\">\n",
    "    <ul>\n",
    "        <li style=\"color:red\">Warning: This problem is challenging and will not be graded by correctness, but rather effort, give it your best shot.</li>\n",
    "        <br>\n",
    "        <li>Every time Amazon has to ship an item from its fulfillment centers to a particular region, it incurs a shipping cost.</li>\n",
    "        <br>\n",
    "        <li>Consider the following shipping costs from three of Amazon's fulfillment centers (FC) to four regions (A, B, C, and D):</li>\n",
    "        <br>\n",
    "        <li><br><table>\n",
    "  <tr>\n",
    "    <th>Region \\ FC:</th>\n",
    "    <th>1</th>\n",
    "    <th>2</th>\n",
    "      <th>3</th>\n",
    "  </tr>\n",
    "  <tr>\n",
    "    <td>A: King's County, NY</td>\n",
    "    <td>20</td>\n",
    "    <td>8</td>\n",
    "      <td>25</td>\n",
    "  </tr>\n",
    "            <tr>\n",
    "    <td>B: LA County, CA</td>\n",
    "    <td>18</td>\n",
    "      <td>23</td>\n",
    "      <td>8</td>\n",
    "  </tr>\n",
    "  <tr>\n",
    "    <td>C: King County, WA</td>\n",
    "    <td>21</td>\n",
    "    <td>24</td>\n",
    "      <td>8</td>\n",
    "  </tr>\n",
    "            <tr>\n",
    "    <td>D: Harris County, TX</td>\n",
    "    <td>8</td>\n",
    "    <td>8</td>\n",
    "      <td>19</td>\n",
    "  </tr>\n",
    "       </table></li>\n",
    "        <br>\n",
    "        <li>It costs $20$ dollars to ship from fulfillment center $1$ to region $A$, for example.</li>\n",
    "        <br>\n",
    "        <li>We also have weekly demand estimates for the item in each region:</li>\n",
    "        <br>\n",
    "        <li>\n",
    "        <table>\n",
    "  <tr>\n",
    "    <th>Region A</th>\n",
    "    <th>Region B</th>\n",
    "    <th>Region C</th>\n",
    "      <th>Region D</th>\n",
    "  </tr>\n",
    "             <tr>\n",
    "    <th>30</th>\n",
    "    <th>50</th>\n",
    "    <th>10</th>\n",
    "      <th>20</th>\n",
    "            </tr></table></li>\n",
    "        <br>\n",
    "        <li>Further, assume each fulfillment center is able to ship up to $40$ units each week in total.</li>\n",
    "        <br>\n",
    "        <li>What is the minimum transportation cost needed to satisfy all weekly demand while respecting fulfillment center capacities, as well as the optimal shipment plan?</li>\n",
    "        <br>\n",
    "        <li style=\"color:red\">In other words, what is the shipment plan (i.e. number of units from what FC to what region) that minimizes transportation costs while satisfying total demand and not going above fulfillment center capacities?</li>\n",
    "        <br>\n",
    "        <li style=\"color:blue\">For this problem, formulate the problem in English, as well as in equations. Then, solve the problem using CVXPY by finding the minimum costs and the associated shipment plan that yields the minimum costs.</li>\n",
    "        <br>\n",
    "    </ul>\n",
    "</font>"
   ]
  },
  {
   "cell_type": "markdown",
   "metadata": {
    "id": "1a0e8586"
   },
   "source": [
    "<h2>Problem Formulation</h2>\n",
    "<br>\n",
    "<font size=\"+1\">\n",
    "    <ul>\n",
    "        <li>This consists of determining the decision variables, objective function, and constraint functions.</li>\n",
    "        <br>\n",
    "    </ul>\n",
    "</font>"
   ]
  },
  {
   "cell_type": "markdown",
   "metadata": {
    "id": "befb8266"
   },
   "source": [
    "<br>\n",
    "<font size=\"+1\">\n",
    "    <ul>\n",
    "        <li>What decisions do you, the transportation designer, have to make, i.e. what is in your control?</li>\n",
    "        <br>\n",
    "        <li>You have to decide how many units to transport from each fulfillment center to each region.</li>\n",
    "        <br>\n",
    "        <ul>\n",
    "            <li>$x_{ij} = $ number of units to tranport from FC $i \\in \\{1,2,3\\}$ to region $j \\in \\{A, B, C, D\\}$.</li>\n",
    "            <br>\n",
    "            <ul>\n",
    "                <li>note this is continuous variable </li>\n",
    "                <br>\n",
    "            </ul>\n",
    "        </ul>\n",
    "        <li>Now, we can instantiate a CVXPY variable object to represent the decision variables.</li>\n",
    "        <br>\n",
    "    </ul>\n",
    "</font>"
   ]
  },
  {
   "cell_type": "code",
   "execution_count": 16,
   "metadata": {},
   "outputs": [],
   "source": [
    "flow = cp.Variable((3,4), nonneg=True)"
   ]
  },
  {
   "cell_type": "markdown",
   "metadata": {
    "id": "6d856ec4"
   },
   "source": [
    "<h3>Objective Function</h3>\n",
    "<br>\n",
    "<font size=\"+1\">\n",
    "    <ul>\n",
    "        <li>What's the goal?</li>\n",
    "        <br>\n",
    "    </ul>\n",
    "</font>"
   ]
  },
  {
   "cell_type": "markdown",
   "metadata": {
    "id": "522f8951"
   },
   "source": [
    "<br>\n",
    "<font size=\"+1\">\n",
    "    <ul>\n",
    "        <li>The goal is to minimize the total shipping costs: $$\\text{minimize: } C = \\sum_{(i,j) \\in \\text{FC} \\times \\text{Region}}{\\text{cost}_{i,j}\\times \\text{flow}_{i,j}}$$</li>\n",
    "        <br>\n",
    "    </ul>\n",
    "</font>"
   ]
  },
  {
   "cell_type": "code",
   "execution_count": 17,
   "metadata": {},
   "outputs": [
    {
     "data": {
      "text/html": [
       "<div>\n",
       "<style scoped>\n",
       "    .dataframe tbody tr th:only-of-type {\n",
       "        vertical-align: middle;\n",
       "    }\n",
       "\n",
       "    .dataframe tbody tr th {\n",
       "        vertical-align: top;\n",
       "    }\n",
       "\n",
       "    .dataframe thead th {\n",
       "        text-align: right;\n",
       "    }\n",
       "</style>\n",
       "<table border=\"1\" class=\"dataframe\">\n",
       "  <thead>\n",
       "    <tr style=\"text-align: right;\">\n",
       "      <th></th>\n",
       "      <th></th>\n",
       "      <th>costs</th>\n",
       "    </tr>\n",
       "  </thead>\n",
       "  <tbody>\n",
       "    <tr>\n",
       "      <th>1</th>\n",
       "      <th>A</th>\n",
       "      <td>20</td>\n",
       "    </tr>\n",
       "    <tr>\n",
       "      <th>2</th>\n",
       "      <th>A</th>\n",
       "      <td>8</td>\n",
       "    </tr>\n",
       "    <tr>\n",
       "      <th>3</th>\n",
       "      <th>A</th>\n",
       "      <td>25</td>\n",
       "    </tr>\n",
       "    <tr>\n",
       "      <th>1</th>\n",
       "      <th>B</th>\n",
       "      <td>18</td>\n",
       "    </tr>\n",
       "    <tr>\n",
       "      <th>2</th>\n",
       "      <th>B</th>\n",
       "      <td>23</td>\n",
       "    </tr>\n",
       "    <tr>\n",
       "      <th>3</th>\n",
       "      <th>B</th>\n",
       "      <td>8</td>\n",
       "    </tr>\n",
       "    <tr>\n",
       "      <th>1</th>\n",
       "      <th>C</th>\n",
       "      <td>21</td>\n",
       "    </tr>\n",
       "    <tr>\n",
       "      <th>2</th>\n",
       "      <th>C</th>\n",
       "      <td>24</td>\n",
       "    </tr>\n",
       "    <tr>\n",
       "      <th>3</th>\n",
       "      <th>C</th>\n",
       "      <td>8</td>\n",
       "    </tr>\n",
       "    <tr>\n",
       "      <th>1</th>\n",
       "      <th>D</th>\n",
       "      <td>8</td>\n",
       "    </tr>\n",
       "    <tr>\n",
       "      <th>2</th>\n",
       "      <th>D</th>\n",
       "      <td>8</td>\n",
       "    </tr>\n",
       "    <tr>\n",
       "      <th>3</th>\n",
       "      <th>D</th>\n",
       "      <td>19</td>\n",
       "    </tr>\n",
       "  </tbody>\n",
       "</table>\n",
       "</div>"
      ],
      "text/plain": [
       "     costs\n",
       "1 A     20\n",
       "2 A      8\n",
       "3 A     25\n",
       "1 B     18\n",
       "2 B     23\n",
       "3 B      8\n",
       "1 C     21\n",
       "2 C     24\n",
       "3 C      8\n",
       "1 D      8\n",
       "2 D      8\n",
       "3 D     19"
      ]
     },
     "execution_count": 17,
     "metadata": {},
     "output_type": "execute_result"
    }
   ],
   "source": [
    "costs = pd.DataFrame({\n",
    "    ('1', 'A'): 20,\n",
    "    ('2', 'A'): 8,\n",
    "    ('3', 'A'): 25,\n",
    "    ('1', 'B'): 18,\n",
    "    ('2', 'B'): 23,\n",
    "    ('3', 'B'): 8,\n",
    "    ('1', 'C'): 21,\n",
    "    ('2', 'C'): 24,\n",
    "    ('3', 'C'): 8,\n",
    "    ('1', 'D'): 8,\n",
    "    ('2', 'D'): 8,\n",
    "    ('3', 'D'): 19\n",
    "}, index=['costs']).T\n",
    "\n",
    "costs"
   ]
  },
  {
   "cell_type": "code",
   "execution_count": 18,
   "metadata": {
    "scrolled": false
   },
   "outputs": [
    {
     "data": {
      "text/html": [
       "<div>\n",
       "<style scoped>\n",
       "    .dataframe tbody tr th:only-of-type {\n",
       "        vertical-align: middle;\n",
       "    }\n",
       "\n",
       "    .dataframe tbody tr th {\n",
       "        vertical-align: top;\n",
       "    }\n",
       "\n",
       "    .dataframe thead tr th {\n",
       "        text-align: left;\n",
       "    }\n",
       "</style>\n",
       "<table border=\"1\" class=\"dataframe\">\n",
       "  <thead>\n",
       "    <tr>\n",
       "      <th></th>\n",
       "      <th colspan=\"4\" halign=\"left\">costs</th>\n",
       "    </tr>\n",
       "    <tr>\n",
       "      <th></th>\n",
       "      <th>A</th>\n",
       "      <th>B</th>\n",
       "      <th>C</th>\n",
       "      <th>D</th>\n",
       "    </tr>\n",
       "  </thead>\n",
       "  <tbody>\n",
       "    <tr>\n",
       "      <th>1</th>\n",
       "      <td>20</td>\n",
       "      <td>18</td>\n",
       "      <td>21</td>\n",
       "      <td>8</td>\n",
       "    </tr>\n",
       "    <tr>\n",
       "      <th>2</th>\n",
       "      <td>8</td>\n",
       "      <td>23</td>\n",
       "      <td>24</td>\n",
       "      <td>8</td>\n",
       "    </tr>\n",
       "    <tr>\n",
       "      <th>3</th>\n",
       "      <td>25</td>\n",
       "      <td>8</td>\n",
       "      <td>8</td>\n",
       "      <td>19</td>\n",
       "    </tr>\n",
       "  </tbody>\n",
       "</table>\n",
       "</div>"
      ],
      "text/plain": [
       "  costs            \n",
       "      A   B   C   D\n",
       "1    20  18  21   8\n",
       "2     8  23  24   8\n",
       "3    25   8   8  19"
      ]
     },
     "execution_count": 18,
     "metadata": {},
     "output_type": "execute_result"
    }
   ],
   "source": [
    "costs = costs.unstack()\n",
    "\n",
    "costs"
   ]
  },
  {
   "cell_type": "code",
   "execution_count": 19,
   "metadata": {},
   "outputs": [],
   "source": [
    "total_flow_cost = sum([costs.values[i,j]*flow[i,j] for i in range(costs.shape[0]) for j in range(costs.shape[1])])"
   ]
  },
  {
   "cell_type": "code",
   "execution_count": 20,
   "metadata": {},
   "outputs": [],
   "source": [
    "objective_function = cp.Minimize(total_flow_cost)"
   ]
  },
  {
   "cell_type": "markdown",
   "metadata": {
    "id": "14067c15"
   },
   "source": [
    "<h3>Constraint Functions</h3>\n",
    "<br>\n",
    "<font size=\"+1\">\n",
    "    <ul>\n",
    "        <li>Recall, you want to find the shipment plan (i.e. number of units from a FC to a region) that minimizes transportation costs while satisfying total demand and not going above fulfillment center capacities.</li>\n",
    "        <br>\n",
    "    </ul>\n",
    "</font>"
   ]
  },
  {
   "cell_type": "code",
   "execution_count": 22,
   "metadata": {},
   "outputs": [
    {
     "data": {
      "text/html": [
       "<div>\n",
       "<style scoped>\n",
       "    .dataframe tbody tr th:only-of-type {\n",
       "        vertical-align: middle;\n",
       "    }\n",
       "\n",
       "    .dataframe tbody tr th {\n",
       "        vertical-align: top;\n",
       "    }\n",
       "\n",
       "    .dataframe thead th {\n",
       "        text-align: right;\n",
       "    }\n",
       "</style>\n",
       "<table border=\"1\" class=\"dataframe\">\n",
       "  <thead>\n",
       "    <tr style=\"text-align: right;\">\n",
       "      <th></th>\n",
       "      <th>FC_limits</th>\n",
       "    </tr>\n",
       "  </thead>\n",
       "  <tbody>\n",
       "    <tr>\n",
       "      <th>1</th>\n",
       "      <td>40</td>\n",
       "    </tr>\n",
       "    <tr>\n",
       "      <th>2</th>\n",
       "      <td>40</td>\n",
       "    </tr>\n",
       "    <tr>\n",
       "      <th>3</th>\n",
       "      <td>40</td>\n",
       "    </tr>\n",
       "  </tbody>\n",
       "</table>\n",
       "</div>"
      ],
      "text/plain": [
       "   FC_limits\n",
       "1         40\n",
       "2         40\n",
       "3         40"
      ]
     },
     "execution_count": 22,
     "metadata": {},
     "output_type": "execute_result"
    }
   ],
   "source": [
    "# Create data frame to capture fulfillment center limits\n",
    "\n",
    "FC = pd.DataFrame({'1': 40,\n",
    "                    '2': 40,\n",
    "                    '3': 40,}, index=['FC_limits']).T\n",
    "\n",
    "FC"
   ]
  },
  {
   "cell_type": "code",
   "execution_count": 23,
   "metadata": {
    "id": "5a151155"
   },
   "outputs": [
    {
     "data": {
      "text/html": [
       "<div>\n",
       "<style scoped>\n",
       "    .dataframe tbody tr th:only-of-type {\n",
       "        vertical-align: middle;\n",
       "    }\n",
       "\n",
       "    .dataframe tbody tr th {\n",
       "        vertical-align: top;\n",
       "    }\n",
       "\n",
       "    .dataframe thead th {\n",
       "        text-align: right;\n",
       "    }\n",
       "</style>\n",
       "<table border=\"1\" class=\"dataframe\">\n",
       "  <thead>\n",
       "    <tr style=\"text-align: right;\">\n",
       "      <th></th>\n",
       "      <th>demand</th>\n",
       "    </tr>\n",
       "  </thead>\n",
       "  <tbody>\n",
       "    <tr>\n",
       "      <th>A</th>\n",
       "      <td>30</td>\n",
       "    </tr>\n",
       "    <tr>\n",
       "      <th>B</th>\n",
       "      <td>50</td>\n",
       "    </tr>\n",
       "    <tr>\n",
       "      <th>C</th>\n",
       "      <td>10</td>\n",
       "    </tr>\n",
       "    <tr>\n",
       "      <th>D</th>\n",
       "      <td>20</td>\n",
       "    </tr>\n",
       "  </tbody>\n",
       "</table>\n",
       "</div>"
      ],
      "text/plain": [
       "   demand\n",
       "A      30\n",
       "B      50\n",
       "C      10\n",
       "D      20"
      ]
     },
     "execution_count": 23,
     "metadata": {},
     "output_type": "execute_result"
    }
   ],
   "source": [
    "# Create data frame to caputure customer demand\n",
    "\n",
    "demand = pd.DataFrame({'A': 30,\n",
    "               'B': 50,\n",
    "               'C': 10,\n",
    "               'D': 20,}, index=['demand']).T\n",
    "\n",
    "demand"
   ]
  },
  {
   "cell_type": "code",
   "execution_count": 24,
   "metadata": {},
   "outputs": [
    {
     "data": {
      "text/plain": [
       "[Inequality(Expression(AFFINE, NONNEGATIVE, ())),\n",
       " Inequality(Expression(AFFINE, NONNEGATIVE, ())),\n",
       " Inequality(Expression(AFFINE, NONNEGATIVE, ()))]"
      ]
     },
     "execution_count": 24,
     "metadata": {},
     "output_type": "execute_result"
    }
   ],
   "source": [
    "FC_output_constraints = [sum([flow[0, j] for j in [0,1,2,3]]) <= 40, \n",
    "                              sum([flow[1, j] for j in [0,1,2,3]]) <= 40,\n",
    "                          sum([flow[2, j] for j in [0,1,2,3]]) <= 40\n",
    "                        ]\n",
    "\n",
    "FC_output_constraints"
   ]
  },
  {
   "cell_type": "code",
   "execution_count": 25,
   "metadata": {},
   "outputs": [
    {
     "data": {
      "text/plain": [
       "[Equality(Expression(AFFINE, NONNEGATIVE, ()), Constant(CONSTANT, NONNEGATIVE, ())),\n",
       " Equality(Expression(AFFINE, NONNEGATIVE, ()), Constant(CONSTANT, NONNEGATIVE, ())),\n",
       " Equality(Expression(AFFINE, NONNEGATIVE, ()), Constant(CONSTANT, NONNEGATIVE, ())),\n",
       " Equality(Expression(AFFINE, NONNEGATIVE, ()), Constant(CONSTANT, NONNEGATIVE, ()))]"
      ]
     },
     "execution_count": 25,
     "metadata": {},
     "output_type": "execute_result"
    }
   ],
   "source": [
    "customer_demand_constraints = [sum([flow[i, 0] for i in [0,1,2]]) == demand.loc['A', 'demand'],\n",
    "                              sum([flow[i, 1] for i in [0,1,2]]) == demand.loc['B', 'demand'],\n",
    "                              sum([flow[i, 2] for i in [0,1,2]]) == demand.loc['C', 'demand'],\n",
    "                              sum([flow[i, 3] for i in [0,1,2]]) == demand.loc['D', 'demand']\n",
    "                              ]\n",
    "\n",
    "customer_demand_constraints"
   ]
  },
  {
   "cell_type": "markdown",
   "metadata": {
    "id": "2e57ff37"
   },
   "source": [
    "<h3>Solution</h3>\n",
    "<br>\n",
    "<font size=\"+1\">\n",
    "    <ul>\n",
    "        <li>What is the solution to the problem?</li>\n",
    "        <br>\n",
    "        <li>How can you interpret the solution?</li>\n",
    "        <br>\n",
    "    </ul>\n",
    "</font>"
   ]
  },
  {
   "cell_type": "code",
   "execution_count": 26,
   "metadata": {},
   "outputs": [],
   "source": [
    "constraints = FC_output_constraints + customer_demand_constraints"
   ]
  },
  {
   "cell_type": "code",
   "execution_count": 27,
   "metadata": {},
   "outputs": [],
   "source": [
    "problem = cp.Problem(objective_function, constraints)"
   ]
  },
  {
   "cell_type": "code",
   "execution_count": 28,
   "metadata": {
    "scrolled": true
   },
   "outputs": [
    {
     "name": "stderr",
     "output_type": "stream",
     "text": [
      "C:\\Users\\DELL\\Anaconda3\\lib\\site-packages\\cvxpy\\problems\\problem.py:1338: UserWarning: Solution may be inaccurate. Try another solver, adjusting the solver settings, or solve with verbose=True for more information.\n",
      "  \"Solution may be inaccurate. Try another solver, \"\n"
     ]
    },
    {
     "data": {
      "text/plain": [
       "1080.000000000002"
      ]
     },
     "execution_count": 28,
     "metadata": {},
     "output_type": "execute_result"
    }
   ],
   "source": [
    "problem.solve(feastol=1e-54, solver='ECOS_BB')"
   ]
  },
  {
   "cell_type": "code",
   "execution_count": 29,
   "metadata": {},
   "outputs": [
    {
     "data": {
      "text/plain": [
       "array([[ 0., 20.,  0., 14.],\n",
       "       [30.,  0.,  0.,  6.],\n",
       "       [ 0., 30., 10.,  0.]])"
      ]
     },
     "execution_count": 29,
     "metadata": {},
     "output_type": "execute_result"
    }
   ],
   "source": [
    "np.round(flow.value)"
   ]
  },
  {
   "cell_type": "code",
   "execution_count": 30,
   "metadata": {
    "id": "fb579346",
    "outputId": "94328a73-308f-4b1f-8fd8-4acc498a7fed"
   },
   "outputs": [
    {
     "data": {
      "text/plain": [
       "[[0.0, 20.0, 0.0, 13.8], [30.0, 0.0, 0.0, 6.2], [0.0, 30.0, 10.0, 0.0]]"
      ]
     },
     "execution_count": 30,
     "metadata": {},
     "output_type": "execute_result"
    }
   ],
   "source": [
    "# Weekly shipping plan x_{i,j} to ship from fulfillment centers (i) to regions (j)\n",
    "# stored in the matrix below\n",
    "\n",
    "[[ 0. , 20. ,  0. , 13.8],\n",
    "[30. ,  0. ,  0. ,  6.2],\n",
    "[0. , 30. , 10. , 0. ]]"
   ]
  },
  {
   "cell_type": "markdown",
   "metadata": {
    "id": "932e0e6b"
   },
   "source": [
    "<br>\n",
    "<font size=\"+1\">\n",
    "    <ul>\n",
    "        <li>This tells us the optimal shipment plan from fulfillment centers to regions that minimizes shipping costs to $1080$ dollars per week.</li>\n",
    "        <br>\n",
    "    </ul>\n",
    "</font>"
   ]
  },
  {
   "cell_type": "markdown",
   "metadata": {
    "id": "4d8e7ab3"
   },
   "source": [
    "<hr style=\"border: 20px solid black\">"
   ]
  }
 ],
 "metadata": {
  "colab": {
   "provenance": []
  },
  "hide_input": false,
  "kernelspec": {
   "display_name": "Python 3",
   "language": "python",
   "name": "python3"
  },
  "language_info": {
   "codemirror_mode": {
    "name": "ipython",
    "version": 3
   },
   "file_extension": ".py",
   "mimetype": "text/x-python",
   "name": "python",
   "nbconvert_exporter": "python",
   "pygments_lexer": "ipython3",
   "version": "3.7.4"
  },
  "toc": {
   "base_numbering": 1,
   "nav_menu": {},
   "number_sections": true,
   "sideBar": true,
   "skip_h1_title": false,
   "title_cell": "Table of Contents",
   "title_sidebar": "Contents",
   "toc_cell": true,
   "toc_position": {
    "height": "calc(100% - 180px)",
    "left": "10px",
    "top": "150px",
    "width": "178.448px"
   },
   "toc_section_display": true,
   "toc_window_display": true
  }
 },
 "nbformat": 4,
 "nbformat_minor": 5
}
