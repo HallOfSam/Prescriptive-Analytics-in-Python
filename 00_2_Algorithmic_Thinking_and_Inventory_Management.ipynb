{
 "cells": [
  {
   "cell_type": "markdown",
   "metadata": {
    "toc": true
   },
   "source": [
    "<h1>Table of Contents<span class=\"tocSkip\"></span></h1>\n",
    "<div class=\"toc\"><ul class=\"toc-item\"><li><span><a href=\"#Instructions\" data-toc-modified-id=\"Instructions-1\"><span class=\"toc-item-num\">1&nbsp;&nbsp;</span>Instructions</a></span></li><li><span><a href=\"#Before-You-Begin\" data-toc-modified-id=\"Before-You-Begin-2\"><span class=\"toc-item-num\">2&nbsp;&nbsp;</span>Before You Begin</a></span></li><li><span><a href=\"#Questions\" data-toc-modified-id=\"Questions-3\"><span class=\"toc-item-num\">3&nbsp;&nbsp;</span>Questions</a></span><ul class=\"toc-item\"><li><span><a href=\"#Writing-Functions\" data-toc-modified-id=\"Writing-Functions-3.1\"><span class=\"toc-item-num\">3.1&nbsp;&nbsp;</span>Writing Functions</a></span><ul class=\"toc-item\"><li><span><a href=\"#Payroll-Calculations\" data-toc-modified-id=\"Payroll-Calculations-3.1.1\"><span class=\"toc-item-num\">3.1.1&nbsp;&nbsp;</span>Payroll Calculations</a></span></li><li><span><a href=\"#Demand-Estimation\" data-toc-modified-id=\"Demand-Estimation-3.1.2\"><span class=\"toc-item-num\">3.1.2&nbsp;&nbsp;</span>Demand Estimation</a></span></li><li><span><a href=\"#Time-to-Sellout-Estimation\" data-toc-modified-id=\"Time-to-Sellout-Estimation-3.1.3\"><span class=\"toc-item-num\">3.1.3&nbsp;&nbsp;</span>Time-to-Sellout Estimation</a></span></li><li><span><a href=\"#Investment-Accounting\" data-toc-modified-id=\"Investment-Accounting-3.1.4\"><span class=\"toc-item-num\">3.1.4&nbsp;&nbsp;</span>Investment Accounting</a></span></li><li><span><a href=\"#Marketing-via-Referrals\" data-toc-modified-id=\"Marketing-via-Referrals-3.1.5\"><span class=\"toc-item-num\">3.1.5&nbsp;&nbsp;</span>Marketing via Referrals</a></span></li></ul></li><li><span><a href=\"#In-Class-Exercises\" data-toc-modified-id=\"In-Class-Exercises-3.2\"><span class=\"toc-item-num\">3.2&nbsp;&nbsp;</span>In-Class Exercises</a></span><ul class=\"toc-item\"><li><span><a href=\"#Optimal-Pricing\" data-toc-modified-id=\"Optimal-Pricing-3.2.1\"><span class=\"toc-item-num\">3.2.1&nbsp;&nbsp;</span>Optimal Pricing</a></span></li><li><span><a href=\"#Optimal-Stocking-Level\" data-toc-modified-id=\"Optimal-Stocking-Level-3.2.2\"><span class=\"toc-item-num\">3.2.2&nbsp;&nbsp;</span>Optimal Stocking Level</a></span></li></ul></li></ul></li></ul></div>"
   ]
  },
  {
   "cell_type": "markdown",
   "metadata": {},
   "source": [
    "<h1>Instructions</h1>\n",
    "<br>\n",
    "<font size=\"+1\">\n",
    "    <ul>\n",
    "        <li><b>Recommended Steps</b></li>\n",
    "        <br>\n",
    "        <ol>\n",
    "            <li>Read the prompt and summarize the task in your own words, using as few words as possible for ease of comprehension.</li>\n",
    "            <br>\n",
    "            <li>Pretend to be the computer program that you are trying to create. Examine the smaple inputs and manually produce the appropriate results. Afterward, verify the correctness of your logic by comparing with the given sample outputs.</li>\n",
    "            <br>\n",
    "            <li>On a scrap piece of paper, write step-by-step instructions so that someone else can pretend to be the computer program and produce the appropriate results for any possible inputs. These instructions should target a human audience who does not know the problem description and only has your instructions as a guide. These instructions should serve as the roadmap for your code.</li>\n",
    "            <br>\n",
    "            <li>On another scrap piece of paper, write fragments of Python code to implement each step in your roadmap, focusing especially on the trickiest parts of the logic.</li>\n",
    "            <br>\n",
    "            <li>With your roadmap and code fragments from the previous steps, type Python code into a new Jupyter notebook cel to solve the given problem. You should type incrementally and run the code whenever you add a small chunk. This allows you to correct errors as they occur. It may also be helpful to print intermediate results to verify that the code is carrying out the logic as desired.</li>\n",
    "            <br>\n",
    "            <li>Run your code with some sample inputs and verify that the outputs are exactly the same as the sample outputs.</li>\n",
    "            <br>\n",
    "            <li>Once all of your problems are finished, it is useful to click <i>Kernel</i> $\\rightarrow$ <i>Restart & Run All</i> to verify that your outputs for all of your problems continue to be correct. This helps to ensure that someone else will be able to replicate your results when running your notebook.</li>\n",
    "            <br>\n",
    "            <li style=\"color:red\">Submit the <i>.ipynb</i> file on TurnItIn on Blackboard by the deadline. Be sure to refresh the page and double check your submission actually went through. <b>Note that you only need to submit your solutions, not all of the other recommended steps.</b> The recommended steps are meant to serve as a guide for your thinking process.</li>\n",
    "            <br>\n",
    "        </ol>\n",
    "        <br>\n",
    "        <hr style=\"border: 10px solid black\">\n",
    "        <br>\n",
    "        <li><b>Grading</b></li>\n",
    "        <br>\n",
    "        <li>There are four possible scores you can get from submitting this assignment on time (submitting a blank file or one without any apparent effort does not count). Note that the rubric is designed to incentivize you to go for $100%$ mastery of the material, as the little details matter in programming.</li>\n",
    "        <br>\n",
    "        <ul>\n",
    "            <li>Grade of $5$ out of $5$ - perfect submission with no significant errors</li>\n",
    "            <br>\n",
    "            <li>Grade of $4$ out of $5$ - near perfect submission with one or more significant errors</li>\n",
    "            <br>\n",
    "            <li>Grade of $2$ out of $5$ - apparent effort but far from perfect</li>\n",
    "            <br>\n",
    "            <li>Grade of $0$ out of $5$ - no submission or no apparent effort</li>\n",
    "            <br>\n",
    "        </ul>\n",
    "    </ul>\n",
    "</font>"
   ]
  },
  {
   "cell_type": "markdown",
   "metadata": {},
   "source": [
    "<hr style=\"border: 20px solid black\">"
   ]
  },
  {
   "cell_type": "markdown",
   "metadata": {},
   "source": [
    "<h1>Before You Begin</h1>\n",
    "<br>\n",
    "<font size=\"+1\">\n",
    "    <ul>\n",
    "        <li>Please read: <b>01_Intro_to_Algorithmic_Thinking_with_Operations_Management_Examples.ipynb</b></li>\n",
    "        <br>\n",
    "    </ul>\n",
    "</font>"
   ]
  },
  {
   "cell_type": "markdown",
   "metadata": {},
   "source": [
    "<hr style=\"border: 20px solid black\">"
   ]
  },
  {
   "cell_type": "markdown",
   "metadata": {},
   "source": [
    "<h1>Questions</h1>"
   ]
  },
  {
   "cell_type": "markdown",
   "metadata": {},
   "source": [
    "<h2>Writing Functions</h2>"
   ]
  },
  {
   "cell_type": "markdown",
   "metadata": {},
   "source": [
    "<h3>Payroll Calculations</h3>\n",
    "<br>\n",
    "<font size=\"+1\">\n",
    "    <ul>\n",
    "        <li>In a particular company, the <b>part-time employees</b> receive a wage based on the number of hours logged each week.</li>\n",
    "        <br>\n",
    "        <li>Write a function called <i>part_time_payroll()</i> with two input arguments.</li>\n",
    "        <br>\n",
    "        <ul>\n",
    "            <li><b>hours</b>, which takes a list of non-negative numbers corresponding to the number of hours an employee logged in successive weeks,</li>\n",
    "            <br>\n",
    "            <li><b>rate</b>, which takes the hourly rate for the employee.</li>\n",
    "            <br>\n",
    "        </ul>\n",
    "        <li>Your function should account for the following constraints.</li>\n",
    "        <br>\n",
    "        <ul>\n",
    "            <li>A part-time employee can only be paid for at most $20$ hours in any given week.</li>\n",
    "            <br>\n",
    "            <li>If the employee logs more than $20$ hours in a week, then they will only be paid for $20$ hours.</li>\n",
    "            <br>\n",
    "        </ul>\n",
    "        <li>The function should print (not return) a statement summarizing the </li>\n",
    "        <br>\n",
    "        <ul>\n",
    "            <li>total wage,</li>\n",
    "            <br>\n",
    "            <li>and the average wage per week.</li>\n",
    "            <br>\n",
    "        </ul>\n",
    "        <li>Do some testing to make sure your code is working as intended on the following examples.</li>\n",
    "        <br>\n",
    "        <ul>\n",
    "            <li><i>part_time_payroll(hours=[5,3,2,4], rate=10)</i> $\\longrightarrow$ <i>The total earnings is $\\$140$. The average weekly earnings is $\\$35.0$ per week.</i></li>\n",
    "            <br>\n",
    "            <li><i>part_time_payroll(hours=[25,15,14,30,0], rate=12.5)</i> $\\longrightarrow$ <i>The total earnings is $\\$862.5$. The average weekly earnings is $\\$172.5$ per week.</i></li>\n",
    "            <br>\n",
    "        </ul>\n",
    "    </ul>\n",
    "<?font>"
   ]
  },
  {
   "cell_type": "code",
   "execution_count": 1,
   "metadata": {},
   "outputs": [],
   "source": [
    "def part_time_payroll(hours, rate):\n",
    "    \n",
    "    '''This function takes hours (a list of part-time employee's hours worked) and hourly rate as inputs, and returns\n",
    "    the total earnings as well as the average weekly earnings of them.'''\n",
    "    \n",
    "    total_wage = []\n",
    "    total_earnings = 0\n",
    "    for i in range(0, len(hours)):\n",
    "        if hours[i] <= 20:\n",
    "            total_wage.append(hours[i] * rate)\n",
    "            total_earnings = total_earnings + total_wage[i]\n",
    "        else:\n",
    "            total_wage.append(20 * rate)\n",
    "            total_earnings = total_earnings + total_wage[i]\n",
    "   \n",
    "    avg = total_earnings / len( total_wage)\n",
    "    print(\"The total earnings is ${}. The average weekly earnings is ${} per week.\".format(total_earnings, avg))"
   ]
  },
  {
   "cell_type": "code",
   "execution_count": 6,
   "metadata": {},
   "outputs": [
    {
     "name": "stdout",
     "output_type": "stream",
     "text": [
      "The total earnings is $140. The average weekly earnings is $35.0 per week.\n"
     ]
    }
   ],
   "source": [
    "part_time_payroll(hours=[5,3,2,4], rate=10)"
   ]
  },
  {
   "cell_type": "code",
   "execution_count": 4,
   "metadata": {},
   "outputs": [
    {
     "name": "stdout",
     "output_type": "stream",
     "text": [
      "The total earnings is $862.5. The average weekly earnings is $172.5 per week.\n"
     ]
    }
   ],
   "source": [
    "part_time_payroll(hours=[25,15,14,30,0], rate=12.5)"
   ]
  },
  {
   "cell_type": "markdown",
   "metadata": {},
   "source": [
    "<h3>Demand Estimation</h3>\n",
    "<br>\n",
    "<font size=\"+1\">\n",
    "    <ul>\n",
    "        <li>In a particular company, a new product has been released and the company needs help estimating the demand of this product for planning purposes.</li>\n",
    "        <br>\n",
    "        <li>Write a function called <i>demand_estimation()</i> with two input arguments.</li>\n",
    "        <br>\n",
    "        <ul>\n",
    "            <li><b>customer_valuations</b>, which takes a list of positive numbers corresponding to a potential customer's maximum price they're willing to pay for the product,</li>\n",
    "            <br>\n",
    "            <li><b>product_price</b>, which represents the price of the product set by the company.</li>\n",
    "            <br>\n",
    "        </ul>\n",
    "        <li>The function should return a non-negative integer that represents the potential demand for the given price, that is, the number of elements in the <i>customer_valuations</i> list that are greater than or equal to the <i>product_price</i>.</li>\n",
    "        <br>\n",
    "        <li>Do some testing to make sure your code is working as intended on the following examples.</li>\n",
    "        <br>\n",
    "        <ul>\n",
    "            <li><i>demand_estimation(customer_valuations=[3,1,9.5,10,9], product_price=9.5)</i> $\\longrightarrow$ <i>$2$</i> (which represents two customers that would be willing to pay the product price set by the company)</li>\n",
    "            <br>\n",
    "            <li><i>demand_estimation(customer_valuations=[10,53.5,33,12,15,19.5], product_price=100)</i> $\\longrightarrow$ <i>$0$</i> (which represents two customers that would be willing to pay the product price set by the company)</li>\n",
    "            <br>\n",
    "        </ul>\n",
    "    </ul>\n",
    "<?font>"
   ]
  },
  {
   "cell_type": "code",
   "execution_count": 7,
   "metadata": {},
   "outputs": [],
   "source": [
    "def demand_estimation(customer_valuations, product_price):\n",
    "    \n",
    "    '''This function takes the customer valuations (a list) and the product price as inputs, and returns\n",
    "    the total potential demand.'''\n",
    "    \n",
    "    potential_demand = 0\n",
    "    \n",
    "    for i in customer_valuations:\n",
    "        if i >= product_price:\n",
    "            potential_demand = potential_demand +1\n",
    "    \n",
    "    return(potential_demand)\n",
    "        "
   ]
  },
  {
   "cell_type": "code",
   "execution_count": 13,
   "metadata": {},
   "outputs": [
    {
     "data": {
      "text/plain": [
       "2"
      ]
     },
     "execution_count": 13,
     "metadata": {},
     "output_type": "execute_result"
    }
   ],
   "source": [
    "demand_estimation(customer_valuations=[3,1,9.5,10,9], product_price=9.5)"
   ]
  },
  {
   "cell_type": "code",
   "execution_count": 9,
   "metadata": {},
   "outputs": [
    {
     "data": {
      "text/plain": [
       "0"
      ]
     },
     "execution_count": 9,
     "metadata": {},
     "output_type": "execute_result"
    }
   ],
   "source": [
    "demand_estimation(customer_valuations=[10,53.5,33,12,15,19.5], product_price=100)"
   ]
  },
  {
   "cell_type": "markdown",
   "metadata": {},
   "source": [
    "<h3>Time-to-Sellout Estimation</h3>\n",
    "<br>\n",
    "<font size=\"+1\">\n",
    "    <ul>\n",
    "        <li>Suppose that there are a limited number of tickets to an event and your goal is to estimate when the tickets will be sold out.</li>\n",
    "        <br>\n",
    "        <li>Write a function called <i>time_to_sell_out()</i> with two input arguments.</li>\n",
    "        <br>\n",
    "        <ul>\n",
    "            <li><b>weekly_demand_forecasts</b>, which takes a list of positive integers and represents the forecasted demand in each week,</li>\n",
    "            <br>\n",
    "            <li><b>initial_inventory</b>, a positive integer that represents the initial supply of tickets.</li>\n",
    "            <br>\n",
    "        </ul>\n",
    "        <li>The function should return the week in which tickets will sell out, with week numbering starting at $1$ and not $0$. </li>\n",
    "        <br>\n",
    "        <li>If the tickets never sell out in the given weeks, then the function should return the week after the given horizon.</li>\n",
    "        <br>\n",
    "        <ul>\n",
    "            <li>As an example, if <i>weekly_demand_forecasts=[50,80,89]</i>, which represents a forecast for demand of 50 in week 1, a forecast for demand of 80 in week 2, and a forecast for demand of 89 in week 3, then </li>\n",
    "            <br>\n",
    "            <ul>\n",
    "                <li>if initial inventory is 10, the tickets will sell out in week 1, that is, the function returns 1.</li>\n",
    "                <br>\n",
    "                <li>if initial inventory is 50, then the function should still return 1,</li>\n",
    "                <br>\n",
    "                <li>if initial inventory is 60, then the function should return 2 since supply lasts into week 2.</li>\n",
    "                <br>\n",
    "                <li>if initial inventory is 300, then the function should return 4 since supply lasts even after the three weeks are over.</li>\n",
    "                <br>\n",
    "            </ul>\n",
    "        </ul>\n",
    "        <li style=\"color:red\">There are many different ways solve this problem.</li>\n",
    "        <br>\n",
    "    </ul>\n",
    "<?font>"
   ]
  },
  {
   "cell_type": "code",
   "execution_count": 2,
   "metadata": {},
   "outputs": [],
   "source": [
    "def time_to_sell_out(weekly_demand_forecasts, initial_inventory):\n",
    "    \n",
    "    '''This function takes the weekly_demand_forecasts (a list) and initial_inventory as arguments and\n",
    "    returns week where the tickets are predicted to be sold out.'''\n",
    "    \n",
    "    if initial_inventory ==0:\n",
    "        return 1\n",
    "    \n",
    "    sold_out_week = 0\n",
    "    \n",
    "    for demand in  weekly_demand_forecasts:\n",
    "        if initial_inventory - demand > 0:\n",
    "            sold_out_week = sold_out_week +1\n",
    "            initial_inventory = initial_inventory - demand\n",
    "        \n",
    "        else:\n",
    "            initial_inventory = initial_inventory - demand\n",
    "            sold_out_week = sold_out_week +1\n",
    "            break\n",
    "        \n",
    "    if len(weekly_demand_forecasts) == sold_out_week and initial_inventory >0:\n",
    "        sold_out_week = sold_out_week +1\n",
    "    \n",
    "    return sold_out_week\n"
   ]
  },
  {
   "cell_type": "code",
   "execution_count": 3,
   "metadata": {},
   "outputs": [
    {
     "data": {
      "text/plain": [
       "1"
      ]
     },
     "execution_count": 3,
     "metadata": {},
     "output_type": "execute_result"
    }
   ],
   "source": [
    "time_to_sell_out(weekly_demand_forecasts=[50,80,89], initial_inventory=10)"
   ]
  },
  {
   "cell_type": "code",
   "execution_count": 49,
   "metadata": {},
   "outputs": [
    {
     "data": {
      "text/plain": [
       "1"
      ]
     },
     "execution_count": 49,
     "metadata": {},
     "output_type": "execute_result"
    }
   ],
   "source": [
    "time_to_sell_out(weekly_demand_forecasts=[50,80,89], initial_inventory=50)"
   ]
  },
  {
   "cell_type": "code",
   "execution_count": 50,
   "metadata": {},
   "outputs": [
    {
     "data": {
      "text/plain": [
       "2"
      ]
     },
     "execution_count": 50,
     "metadata": {},
     "output_type": "execute_result"
    }
   ],
   "source": [
    "time_to_sell_out(weekly_demand_forecasts=[50,80,89], initial_inventory=60)"
   ]
  },
  {
   "cell_type": "code",
   "execution_count": 52,
   "metadata": {},
   "outputs": [
    {
     "data": {
      "text/plain": [
       "4"
      ]
     },
     "execution_count": 52,
     "metadata": {},
     "output_type": "execute_result"
    }
   ],
   "source": [
    "time_to_sell_out(weekly_demand_forecasts=[50,80,89], initial_inventory=300)"
   ]
  },
  {
   "cell_type": "markdown",
   "metadata": {},
   "source": [
    "<h3>Investment Accounting</h3>\n",
    "<br>\n",
    "<font size=\"+1\">\n",
    "    <ul>\n",
    "        <li>A particular company that trades stocks needs to keep track of their portfolio.</li>\n",
    "        <br>\n",
    "        <li>Write a function called <i>trade_accounting()</i> with two input arguments.</li>\n",
    "        <br>\n",
    "        <ul>\n",
    "            <li><b>stock_prices</b>, which takes a list of non-negative numbers corresponding to the price of a stock at the market close in successive business days,</li>\n",
    "            <br>\n",
    "            <li><b>change_in_share_holdings</b>, which is a list of positive or negative numbers corresponding to the change in the number of shares carried from one day to the next. A positive number corresponds to buying shares and a negative number corresponds to selling shares. </li>\n",
    "            <br>\n",
    "        </ul>\n",
    "        <li>Your function should account for the following constraint.</li>\n",
    "        <br>\n",
    "        <ul>\n",
    "            <li>Both lists should be of the same length.</li>\n",
    "            <br>\n",
    "        </ul>\n",
    "        <li>The function should return (not print) the following two numbers </li>\n",
    "        <br>\n",
    "        <ul>\n",
    "            <li>net change in shares, which is the sum of the numbers in the list <i>change_in_share_holdings</i>,</li>\n",
    "            <br>\n",
    "            <li>and the net change in cash from buying or selling stock, which is the net money spent or earned over the trades in the list <i>change_in_share_holdings</i>.</li>\n",
    "            <br>\n",
    "        </ul>\n",
    "        <li>For example, if <i>stock_prices=[10,12,13,8,7,15]</i> and <i>change_in_share_holdings=[3,2,-5,3,1,-5]</i>, then the following table illustrates the calculations</li>\n",
    "        <br>\n",
    "        <ul>\n",
    "            <li><table style=\"color:black\">\n",
    "    <tr>\n",
    "        <td bgcolor=\"#00ff00\"><b>stock_prices</b></td>\n",
    "        <td bgcolor=\"#00ff00\"><b>change_in_share_holdings</b></td>\n",
    "        <td bgcolor=\"#00ff00\"><b>Cashflow</b></td>\n",
    "    </tr>\n",
    "    <tr>\n",
    "        <td>10</td>\n",
    "        <td>+3</td>\n",
    "        <td>-30</td>\n",
    "    </tr>\n",
    "    <tr>\n",
    "        <td>12</td>\n",
    "        <td>+2</td>\n",
    "        <td>-24</td>\n",
    "    </tr>\n",
    "    <tr>\n",
    "        <td>13</td>\n",
    "        <td>-5</td>\n",
    "        <td>+65</td>\n",
    "    </tr>\n",
    "    <tr>\n",
    "        <td>8</td>\n",
    "        <td>+3</td>\n",
    "        <td>-24</td>\n",
    "    </tr>\n",
    "    <tr>\n",
    "        <td>7</td>\n",
    "        <td>+1</td>\n",
    "        <td>-7</td>\n",
    "    </tr>\n",
    "    <tr>\n",
    "        <td>15</td>\n",
    "        <td>-5</td>\n",
    "        <td>+75</td>\n",
    "    </tr>\n",
    "    <tr>\n",
    "        <td><b style=\"color:red\">Net</b></td>\n",
    "        <td><b style=\"color:red\">-1</b></td>\n",
    "        <td><b style=\"color:red\">+55</b></td>\n",
    "    </tr>\n",
    "</table></li>\n",
    "            <br>\n",
    "        </ul>\n",
    "        <li>Do some testing to make sure your code is working as intended on the previous example.</li>\n",
    "        <br>\n",
    "    </ul>\n",
    "<?font>"
   ]
  },
  {
   "cell_type": "code",
   "execution_count": 15,
   "metadata": {},
   "outputs": [],
   "source": [
    "def trade_accounting(stock_prices, change_in_share_holdings):\n",
    "    \n",
    "    '''This function takes stock prices (a list of prices of a stock at the market close in successive business days)\n",
    "    and change_in_share_holdings (a list of change in the number of shares carried from one day to the next) as input\n",
    "    arguments and returns the net change in shares of the stock held in the end as well as the net change of cash.'''\n",
    "    \n",
    "    if len(stock_prices) != len(change_in_share_holdings):\n",
    "        print(\"The two input lists should have the same length!\")\n",
    "        \n",
    "    else:\n",
    "        net_change_in_share = 0\n",
    "        net_change_in_cash = 0\n",
    "        \n",
    "        for i in range(0, len(stock_prices)):\n",
    "            cashflow = -stock_prices[i] * change_in_share_holdings[i]\n",
    "            net_change_in_share = net_change_in_share + change_in_share_holdings[i]\n",
    "            net_change_in_cash = net_change_in_cash + cashflow\n",
    "        \n",
    "        return(net_change_in_share, net_change_in_cash)"
   ]
  },
  {
   "cell_type": "code",
   "execution_count": 18,
   "metadata": {},
   "outputs": [
    {
     "data": {
      "text/plain": [
       "(-1, 55)"
      ]
     },
     "execution_count": 18,
     "metadata": {},
     "output_type": "execute_result"
    }
   ],
   "source": [
    "trade_accounting(stock_prices=[10,12,13,8,7,15], change_in_share_holdings=[3,2,-5,3,1,-5])"
   ]
  },
  {
   "cell_type": "markdown",
   "metadata": {},
   "source": [
    "## <h3>Marketing via Referrals</h3>\n",
    "<br>\n",
    "<font size=\"+1\">\n",
    "    <ul>\n",
    "        <li>The marketing team of a start-up is trying to predict the growth of a new product about to be launched, measured by the total number of sales within a given number of months from launch.</li>\n",
    "        <br>\n",
    "        <ul>\n",
    "            <li>Assuming that each person who buys the product will refer a friend, who hasn't seen the new product before, in the next month and the month after that, but will stop referring after the subsequent two months.</li>\n",
    "            <br>\n",
    "            <li>Each referred friend will buy the product upon hearing about it, and then follow the same referral pattern.</li>\n",
    "            <br>\n",
    "            <li>Additionally, assume that each customer only buys the product once.</li>\n",
    "            <br>\n",
    "            <li>Assume there is only one person who buys the product in month zero (pre-launch month).</li>\n",
    "            <br>\n",
    "            <li>Assume the only buyers of the product are those referred, as described above.</li>\n",
    "            <br>\n",
    "            <li style=\"color:blue\"><b>This pattern is known as the <a href=\"https://en.wikipedia.org/wiki/Fibonacci_number\">Fibonacci sequence</a></b>.</li>\n",
    "            <br>\n",
    "        </ul>\n",
    "        <li>Write a function called <i>total_number_of_buyers()</i> that is used to compute the total number of buyers of the newly launched product in a given number of months. The function should have one input argument.</li>\n",
    "        <br>\n",
    "        <ul>\n",
    "            <li><b>number_of_months</b>, which takes a positive integer corresponding to the number of months over which the company wants to calculate the number of buyers.</li>\n",
    "            <br>\n",
    "        </ul>\n",
    "        <li>The function should return the total number of buyers in the first <i>number_of_months</i> since the launch of the new product.</li>\n",
    "        <br>\n",
    "        <li>For example, if <i>number_of_months=12</i>, then the following table illustrates the calculations (note the pattern of referrals follows the Fibonacci sequence)</li>\n",
    "        <br>\n",
    "        <ul>\n",
    "            <li><table style=\"color:black\">\n",
    "    <tr>\n",
    "        <td bgcolor=\"#00ff00\"><b>month</b></td>\n",
    "        <td bgcolor=\"#00ff00\"><b>number of buyers</b></td>\n",
    "    </tr>\n",
    "    <tr>\n",
    "        <td>(pre-launch) 0</td>\n",
    "        <td>1</td>\n",
    "    </tr>\n",
    "    <tr>\n",
    "        <td>1</td>\n",
    "        <td>1</td>\n",
    "    </tr>\n",
    "    <tr>\n",
    "        <td>2</td>\n",
    "        <td>1+1 = 2</td>\n",
    "    </tr>\n",
    "    <tr>\n",
    "        <td>3</td>\n",
    "        <td>1+1+1 = 3</td>\n",
    "    </tr>\n",
    "    <tr>\n",
    "        <td>4</td>\n",
    "        <td>1+1+1+1+1 = 5</td>\n",
    "    </tr>\n",
    "    <tr>\n",
    "        <td>5</td>\n",
    "        <td>1+1+1+1+1+1+1+1 = 8</td>\n",
    "    </tr>\n",
    "    <tr>\n",
    "        <td>6</td>\n",
    "        <td>8+5 = 13</td>\n",
    "    </tr>\n",
    "    <tr>\n",
    "        <td>7</td>\n",
    "        <td>13+8 = 21</td>\n",
    "    </tr>\n",
    "    <tr>\n",
    "        <td>8</td>\n",
    "        <td>21+13 = 34</td>\n",
    "    </tr>\n",
    "    <tr>\n",
    "        <td>9</td>\n",
    "        <td>34+21 = 55</td>\n",
    "    </tr>\n",
    "    <tr>\n",
    "        <td>10</td>\n",
    "        <td>55+34 = 89</td>\n",
    "    </tr>\n",
    "    <tr>\n",
    "        <td>11</td>\n",
    "        <td>89+55 = 144</td>\n",
    "    </tr>\n",
    "    <tr>\n",
    "        <td>12</td>\n",
    "        <td>144+89 = 233</td>\n",
    "    </tr>\n",
    "    <tr>\n",
    "        <td><b style=\"color:red\">Net</b></td>\n",
    "        <td><b style=\"color:red\">609</b></td>\n",
    "    </tr>\n",
    "</table></li>\n",
    "            <br>\n",
    "        </ul>\n",
    "        <li>Do some testing to make sure your code is working as intended on the previous example.</li>\n",
    "        <br>\n",
    "    </ul>\n",
    "<?font>"
   ]
  },
  {
   "cell_type": "code",
   "execution_count": 19,
   "metadata": {},
   "outputs": [],
   "source": [
    "def buyers_of_this_month(number_of_months):\n",
    "    \n",
    "    '''This function takes the number of months as input and returns the total number of buyers.'''\n",
    "    \n",
    "    #base case 1\n",
    "    if number_of_months == 0:\n",
    "        return 1\n",
    "    #base case 2\n",
    "    elif number_of_months == 1:\n",
    "        return 1\n",
    "    else:\n",
    "        return buyers_of_this_month(number_of_months-1) + buyers_of_this_month(number_of_months-2)\n",
    "    \n",
    "    \n",
    "def total_number_of_buyers(number_of_months):\n",
    "    total = 0\n",
    "    for i in range(0, number_of_months+1):\n",
    "        total = total + buyers_of_this_month(i)\n",
    "    return total"
   ]
  },
  {
   "cell_type": "code",
   "execution_count": 21,
   "metadata": {},
   "outputs": [
    {
     "data": {
      "text/plain": [
       "609"
      ]
     },
     "execution_count": 21,
     "metadata": {},
     "output_type": "execute_result"
    }
   ],
   "source": [
    "total_number_of_buyers(12)"
   ]
  },
  {
   "cell_type": "markdown",
   "metadata": {},
   "source": [
    "<h2>In-Class Exercises</h2>\n",
    "<br>\n",
    "<font size=\"+1\">\n",
    "    <ul>\n",
    "        <li>Complete your own solution to the last two problems from the notebook <b>01_Intro_to_Algorithmic_Thinking_....ipynb</b>.</li>\n",
    "        <br>\n",
    "        <li>You may use the solution to help if you are stuck, but you should write your own functions in your own syntax.</li>\n",
    "        <br>\n",
    "        <li>Try your best to not look at the solutions until you are finished.</li>\n",
    "        <br>\n",
    "    </ul>\n",
    "</font>"
   ]
  },
  {
   "cell_type": "markdown",
   "metadata": {},
   "source": [
    "<h3>Optimal Pricing</h3>\n",
    "<br>\n",
    "<font size=\"+1\">\n",
    "    <ul>\n",
    "        <li><b>Assume:</b></li>\n",
    "        <br>\n",
    "        <ul>\n",
    "            <li>For a given price, the demand is equal to the number of customers with a willingness to pay greater than or equal to the price.</li>\n",
    "            <br>\n",
    "        </ul>\n",
    "        <li>Write a function called <i>optimal_price()</i> with two input arguments.</li>\n",
    "        <br>\n",
    "        <ul>\n",
    "            <li><b>prices</b>, which represents a list of proposed prices,</li>\n",
    "            <br>\n",
    "            <li><b>willingness_to_pay</b>, which is a list of numbers representing a particular customer's willingness to pay for a product.</li>\n",
    "            <br>\n",
    "        </ul>\n",
    "        <li>The function should iterate through the list of prices, and compute the estimated <b>revenue</b> for each price (revenue equals price times demand).</li>\n",
    "        <br>\n",
    "        <li>The function should return the best price found, which is measured by the price corresponding to the largest revenue, and a dictionary mapping each price to the estimated revenue for that price.</li>\n",
    "        <br>\n",
    "        <li>For example,</li>\n",
    "        <br>\n",
    "        <ul>\n",
    "            <li>if <i>prices=range(0,36,5)</i>,</li>\n",
    "            <br>\n",
    "            <li>and <i>willingness_to_pay=[32,10,15,18,25,40,50,43]</i>,</li>\n",
    "            <br>\n",
    "            <li>then the function should return an optimal price of <i>25</i> indicating <i>25</i> is the price that maximizes revenue, and a revenue dictionary of <i>{0:0, 5:40, 10:80, 15:105, 20:100, 25:125, 30:120, 35:105}</i>.</li>\n",
    "            <br>\n",
    "        </ul>\n",
    "    </ul>\n",
    "</font>"
   ]
  },
  {
   "cell_type": "code",
   "execution_count": 22,
   "metadata": {},
   "outputs": [],
   "source": [
    "def optimal_price(prices, willingness_to_pay):\n",
    "    \n",
    "    '''This functions returns the optimal price that leads to the \n",
    "    maximal revenue given a list of customer willingness to pay'''\n",
    "    \n",
    "    total_revenue = {}\n",
    "    max_revenue = 0\n",
    "    optimal_price = 0\n",
    "    \n",
    "    #record total revenue corresponding to every price\n",
    "    for price in prices:\n",
    "        revenue = 0\n",
    "        for will in willingness_to_pay:\n",
    "            if will >= price:\n",
    "                revenue = revenue + price\n",
    "        total_revenue[price] = revenue\n",
    "        \n",
    "        #find optimal price\n",
    "        if total_revenue[price] > max_revenue:\n",
    "            max_revenue = total_revenue[price]\n",
    "            optimal_price = price\n",
    "    \n",
    "    return optimal_price, total_revenue"
   ]
  },
  {
   "cell_type": "code",
   "execution_count": 26,
   "metadata": {},
   "outputs": [
    {
     "data": {
      "text/plain": [
       "(25, {0: 0, 5: 40, 10: 80, 15: 105, 20: 100, 25: 125, 30: 120, 35: 105})"
      ]
     },
     "execution_count": 26,
     "metadata": {},
     "output_type": "execute_result"
    }
   ],
   "source": [
    "optimal_price(prices=range(0,36,5), willingness_to_pay=[30,10,15,18,25,40,50,43])"
   ]
  },
  {
   "cell_type": "markdown",
   "metadata": {},
   "source": [
    "<h3>Optimal Stocking Level</h3>\n",
    "<br>\n",
    "<font size=\"+1\">\n",
    "    <ul>\n",
    "        <li><b>Assume:</b></li>\n",
    "        <br>\n",
    "        <ul>\n",
    "            <li>For a given price, the demand is equal to the number of customers with a willingness to pay greater than or equal to the price.</li>\n",
    "            <br>\n",
    "        </ul>\n",
    "        <li>Write a function called <i>optimal_stock_level()</i> with four input arguments.</li>\n",
    "        <br>\n",
    "        <ul>\n",
    "            <li><b>stock_levels</b>, which represents a list of possible stock levels to optimize over,</li>\n",
    "            <br>\n",
    "            <li><b>demand</b>, which is a list of given demand scenarios,</li>\n",
    "            <br>\n",
    "            <li><b>marginal_cost_of_low_stock</b>, which is a single number representing the unit cost of having too little inventory to meet demand (also called underage),</li>\n",
    "            <br>\n",
    "            <li><b>marginal_cost_of_high_stock</b>, which is a single number representing the unit cost of having too much inventory to meet demand (also called overage).</li>\n",
    "            <br>\n",
    "        </ul>\n",
    "        <li>For each possible stock level, the function should compute the average inventory cost, which is defined as the average over all demand scenarios of the total marginal cost of being under-stocked plus the total marginal cost of being over-stocked (i.e. the total underage plus overage).</li>\n",
    "        <br>\n",
    "        <li>For example, if the stock level is $10$, the demand scenarios are $[6, 12, 14]$, the marginal cost of being under-stocked is $9$, and the marginal cost of being over-stocked is $5$, then </li>\n",
    "        <br>\n",
    "        <ul>\n",
    "            <li>the inventory cost for demand being $6$ is $$\\underbrace{(\\text{stock level} - \\text{demand})}_{\\text{quantity over-stocked}} \\times (\\text{marginal cost of being over-stocked}) = (10 - 6) \\times 5 = 20, $$ because the stock level is $4$ units too high,</li>\n",
    "            <br>\n",
    "            <li>the inventory cost for demand being $12$ is $$\\underbrace{(\\text{demand} - \\text{stock level})}_{\\text{quantity under-stocked}} \\times (\\text{marginal cost of being under-stocked}) = (12 - 10) \\times 9 = 18, $$ because the stock level is $2$ units too low,</li>\n",
    "            <br>\n",
    "            <li>the inventory cost for demand being $14$ is $$\\underbrace{(\\text{demand} - \\text{stock level})}_{\\text{quantity under-stocked}} \\times (\\text{marginal cost of being under-stocked}) = (14 - 10) \\times 9 = 36, $$ because the stock level is $4$ units too low.</li>\n",
    "            <br>\n",
    "            <li style=\"color:red\">The average inventory cost for a stock level of $10$ is $$\\frac{20 + 18 + 36}{3} = \\frac{74}{3} \\approx 24.67,$$</li>\n",
    "            <br>\n",
    "        </ul>\n",
    "        <li>The function should return two objects,</li>\n",
    "        <br>\n",
    "        <ul>\n",
    "            <li><b>optimal_stock_level</b>, which represents a single number in <b>stock_levels</b> that achieves the minimum average inventory cost (if there is a tie, return the smallest stock level that yields the minimum average cost),</li>\n",
    "            <br>\n",
    "            <li><b>average_cost</b>, which is a dictionary that maps each stock level to the corresponding average inventory cost.</li>\n",
    "            <br>\n",
    "        </ul>\n",
    "        <li>For example,</li>\n",
    "        <br>\n",
    "        <ul>\n",
    "            <li>if <i>stock_levels=range(0,30,5)</i>,</li>\n",
    "            <br>\n",
    "            <li><i>demand=[10,18,5,20,16,30,15,3,5,10]</i>,</li>\n",
    "            <br>\n",
    "            <li><i>marginal_cost_of_low_stock=10</i>,</li>\n",
    "            <br>\n",
    "            <li><i>marginal_cost_of_high_stock=3</i>.</li>\n",
    "            <br>\n",
    "            <li>then the function should return an optimal stock level of <i>20</i> indicating <i>20</i> is the stock level that minimizes average cost, and an average cost dictionary of <i>{0: 132.0, 5: 84.6, 10: 54.1, 15: 36.6, 20: 33.4, 25: 41.9}</i>.</li>\n",
    "            <br>\n",
    "        </ul>\n",
    "    </ul>\n",
    "</font>"
   ]
  },
  {
   "cell_type": "code",
   "execution_count": 27,
   "metadata": {},
   "outputs": [],
   "source": [
    "def optimal_stock_level(stock_levels, demand, marginal_cost_of_low_stock, marginal_cost_of_high_stock):\n",
    "    \n",
    "    '''This functions returns the optimal stock level that minimizes the\n",
    "    average inventory cost given a list of demands; it also returns the \n",
    "    dictionary that shows the cost corresponding to every stock level.'''\n",
    "    \n",
    "    import numpy as np\n",
    "    average_cost = {}\n",
    "    optimal_stock_level = 0\n",
    "    lowest_cost = np.inf\n",
    "    \n",
    "    # Loop through the stock levels\n",
    "    for stock in stock_levels:\n",
    "        inventory_cost = 0\n",
    "        for d in demand:\n",
    "            if stock > d:\n",
    "                inventory_cost = inventory_cost + (stock - d) * marginal_cost_of_high_stock\n",
    "            elif stock < d:\n",
    "                inventory_cost = inventory_cost + (d - stock) * marginal_cost_of_low_stock\n",
    "    \n",
    "        #Record the average inventory cost corresponding to every stock level \n",
    "        avg = inventory_cost / len(demand)\n",
    "        average_cost[stock] = avg\n",
    "        \n",
    "        #Find the minimum average cost and its corresponding stock level\n",
    "        if average_cost[stock] < lowest_cost:\n",
    "            lowest_cost = average_cost[stock]\n",
    "            optimal_stock_level = stock\n",
    "    \n",
    "    return optimal_stock_level, average_cost"
   ]
  },
  {
   "cell_type": "code",
   "execution_count": 30,
   "metadata": {},
   "outputs": [
    {
     "data": {
      "text/plain": [
       "(20, {0: 132.0, 5: 84.6, 10: 54.1, 15: 36.6, 20: 33.4, 25: 41.9})"
      ]
     },
     "execution_count": 30,
     "metadata": {},
     "output_type": "execute_result"
    }
   ],
   "source": [
    "optimal_stock_level(range(0,30,5), [10,18,5,20,16,30,15,3,5,10], 10, 3)"
   ]
  }
 ],
 "metadata": {
  "hide_input": false,
  "kernelspec": {
   "display_name": "Python 3",
   "language": "python",
   "name": "python3"
  },
  "language_info": {
   "codemirror_mode": {
    "name": "ipython",
    "version": 3
   },
   "file_extension": ".py",
   "mimetype": "text/x-python",
   "name": "python",
   "nbconvert_exporter": "python",
   "pygments_lexer": "ipython3",
   "version": "3.7.4"
  },
  "toc": {
   "base_numbering": 1,
   "nav_menu": {},
   "number_sections": true,
   "sideBar": true,
   "skip_h1_title": false,
   "title_cell": "Table of Contents",
   "title_sidebar": "Contents",
   "toc_cell": true,
   "toc_position": {
    "height": "calc(100% - 180px)",
    "left": "10px",
    "top": "150px",
    "width": "165px"
   },
   "toc_section_display": true,
   "toc_window_display": true
  }
 },
 "nbformat": 4,
 "nbformat_minor": 5
}
