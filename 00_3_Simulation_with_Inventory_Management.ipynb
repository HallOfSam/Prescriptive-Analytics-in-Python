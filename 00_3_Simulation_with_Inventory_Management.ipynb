{
 "cells": [
  {
   "cell_type": "markdown",
   "metadata": {
    "toc": true
   },
   "source": [
    "<h1>Table of Contents<span class=\"tocSkip\"></span></h1>\n",
    "<div class=\"toc\"><ul class=\"toc-item\"><li><span><a href=\"#Instructions\" data-toc-modified-id=\"Instructions-1\"><span class=\"toc-item-num\">1&nbsp;&nbsp;</span>Instructions</a></span></li><li><span><a href=\"#Before-You-Begin\" data-toc-modified-id=\"Before-You-Begin-2\"><span class=\"toc-item-num\">2&nbsp;&nbsp;</span>Before You Begin</a></span></li><li><span><a href=\"#Imports\" data-toc-modified-id=\"Imports-3\"><span class=\"toc-item-num\">3&nbsp;&nbsp;</span>Imports</a></span></li><li><span><a href=\"#Questions\" data-toc-modified-id=\"Questions-4\"><span class=\"toc-item-num\">4&nbsp;&nbsp;</span>Questions</a></span><ul class=\"toc-item\"><li><span><a href=\"#Sampling-from-Simple-Distributions-with-Numpy\" data-toc-modified-id=\"Sampling-from-Simple-Distributions-with-Numpy-4.1\"><span class=\"toc-item-num\">4.1&nbsp;&nbsp;</span>Sampling from Simple Distributions with Numpy</a></span><ul class=\"toc-item\"><li><span><a href=\"#Uniform-Distribution\" data-toc-modified-id=\"Uniform-Distribution-4.1.1\"><span class=\"toc-item-num\">4.1.1&nbsp;&nbsp;</span>Uniform Distribution</a></span></li><li><span><a href=\"#Geometric-Distribution\" data-toc-modified-id=\"Geometric-Distribution-4.1.2\"><span class=\"toc-item-num\">4.1.2&nbsp;&nbsp;</span>Geometric Distribution</a></span></li><li><span><a href=\"#Poisson-Distribution\" data-toc-modified-id=\"Poisson-Distribution-4.1.3\"><span class=\"toc-item-num\">4.1.3&nbsp;&nbsp;</span>Poisson Distribution</a></span></li><li><span><a href=\"#Normal-Distribution\" data-toc-modified-id=\"Normal-Distribution-4.1.4\"><span class=\"toc-item-num\">4.1.4&nbsp;&nbsp;</span>Normal Distribution</a></span></li></ul></li><li><span><a href=\"#Sampling-from-Complex-Distributions-with-Algorithmic-Thinking-and-Numpy\" data-toc-modified-id=\"Sampling-from-Complex-Distributions-with-Algorithmic-Thinking-and-Numpy-4.2\"><span class=\"toc-item-num\">4.2&nbsp;&nbsp;</span>Sampling from Complex Distributions with Algorithmic Thinking and Numpy</a></span><ul class=\"toc-item\"><li><span><a href=\"#Mixture-of-Distributions\" data-toc-modified-id=\"Mixture-of-Distributions-4.2.1\"><span class=\"toc-item-num\">4.2.1&nbsp;&nbsp;</span>Mixture of Distributions</a></span></li><li><span><a href=\"#Serial-Correlation\" data-toc-modified-id=\"Serial-Correlation-4.2.2\"><span class=\"toc-item-num\">4.2.2&nbsp;&nbsp;</span>Serial Correlation</a></span></li><li><span><a href=\"#Accounting-for-Uncertain-Product-Quality-When-Forecasting-Demand\" data-toc-modified-id=\"Accounting-for-Uncertain-Product-Quality-When-Forecasting-Demand-4.2.3\"><span class=\"toc-item-num\">4.2.3&nbsp;&nbsp;</span>Accounting for Uncertain Product Quality When Forecasting Demand</a></span></li><li><span><a href=\"#Simulating-Serially-Correlated-Demand\" data-toc-modified-id=\"Simulating-Serially-Correlated-Demand-4.2.4\"><span class=\"toc-item-num\">4.2.4&nbsp;&nbsp;</span>Simulating Serially Correlated Demand</a></span></li><li><span><a href=\"#Forecasting-Bonus-Earnings\" data-toc-modified-id=\"Forecasting-Bonus-Earnings-4.2.5\"><span class=\"toc-item-num\">4.2.5&nbsp;&nbsp;</span>Forecasting Bonus Earnings</a></span></li><li><span><a href=\"#Simulating-Demand-Under-Price-Promotions\" data-toc-modified-id=\"Simulating-Demand-Under-Price-Promotions-4.2.6\"><span class=\"toc-item-num\">4.2.6&nbsp;&nbsp;</span>Simulating Demand Under Price Promotions</a></span></li></ul></li><li><span><a href=\"#Inventory-Management\" data-toc-modified-id=\"Inventory-Management-4.3\"><span class=\"toc-item-num\">4.3&nbsp;&nbsp;</span>Inventory Management</a></span><ul class=\"toc-item\"><li><span><a href=\"#Write-a-Summary\" data-toc-modified-id=\"Write-a-Summary-4.3.1\"><span class=\"toc-item-num\">4.3.1&nbsp;&nbsp;</span>Write a Summary</a></span></li></ul></li></ul></li></ul></div>"
   ]
  },
  {
   "cell_type": "markdown",
   "metadata": {},
   "source": [
    "<h1>Instructions</h1>\n",
    "<br>\n",
    "<font size=\"+1\">\n",
    "    <ul>\n",
    "        <li><b>Recommended Steps</b></li>\n",
    "        <br>\n",
    "        <ol>\n",
    "            <li>Read the prompt and summarize the task in your own words, using as few words as possible for ease of comprehension.</li>\n",
    "            <br>\n",
    "            <li>Pretend to be the computer program that you are trying to create. Examine the smaple inputs and manually produce the appropriate results. Afterward, verify the correctness of your logic by comparing with the given sample outputs.</li>\n",
    "            <br>\n",
    "            <li>On a scrap piece of paper, write step-by-step instructions so that someone else can pretend to be the computer program and produce the appropriate results for any possible inputs. These instructions should target a human audience who does not know the problem description and only has your instructions as a guide. These instructions should serve as the roadmap for your code.</li>\n",
    "            <br>\n",
    "            <li>On another scrap piece of paper, write fragments of Python code to implement each step in your roadmap, focusing especially on the trickiest parts of the logic.</li>\n",
    "            <br>\n",
    "            <li>With your roadmap and code fragments from the previous steps, type Python code into a new Jupyter notebook cel to solve the given problem. You should type incrementally and run the code whenever you add a small chunk. This allows you to correct errors as they occur. It may also be helpful to print intermediate results to verify that the code is carrying out the logic as desired.</li>\n",
    "            <br>\n",
    "            <li>Run your code with some sample inputs and verify that the outputs are exactly the same as the sample outputs.</li>\n",
    "            <br>\n",
    "            <li>Once all of your problems are finished, it is useful to click <i>Kernel</i> $\\rightarrow$ <i>Restart & Run All</i> to verify that your outputs for all of your problems continue to be correct. This helps to ensure that someone else will be able to replicate your results when running your notebook.</li>\n",
    "            <br>\n",
    "            <li style=\"color:red\">Submit the <i>.ipynb</i> file on TurnItIn on Blackboard by the deadline. Be sure to refresh the page and double check your submission actually went through. <b>Note that you only need to submit your solutions, not all of the other recommended steps.</b> The recommended steps are meant to serve as a guide for your thinking process.</li>\n",
    "            <br>\n",
    "        </ol>\n",
    "        <br>\n",
    "        <hr style=\"border: 10px solid black\">\n",
    "        <br>\n",
    "        <li><b>Grading</b></li>\n",
    "        <br>\n",
    "        <li>There are four possible scores you can get from submitting this assignment on time (submitting a blank file or one without any apparent effort does not count). Note that the rubric is designed to incentivize you to go for $100%$ mastery of the material, as the little details matter in programming.</li>\n",
    "        <br>\n",
    "        <ul>\n",
    "            <li>Grade of $5$ out of $5$ - perfect submission with no significant errors</li>\n",
    "            <br>\n",
    "            <li>Grade of $4$ out of $5$ - near perfect submission with one or more significant errors</li>\n",
    "            <br>\n",
    "            <li>Grade of $2$ out of $5$ - apparent effort but far from perfect</li>\n",
    "            <br>\n",
    "            <li>Grade of $0$ out of $5$ - no submission or no apparent effort</li>\n",
    "            <br>\n",
    "        </ul>\n",
    "    </ul>\n",
    "</font>"
   ]
  },
  {
   "cell_type": "markdown",
   "metadata": {},
   "source": [
    "<hr style=\"border: 20px solid black\">"
   ]
  },
  {
   "cell_type": "markdown",
   "metadata": {},
   "source": [
    "<h1>Before You Begin</h1>\n",
    "<br>\n",
    "<font size=\"+1\">\n",
    "    <ul>\n",
    "        <li>Please read: <b>02_Intro_to_Algorithmic_Thinking_and_Simulation_with_Inventory_Management.ipynb</b></li>\n",
    "        <br>\n",
    "    </ul>\n",
    "</font>"
   ]
  },
  {
   "cell_type": "markdown",
   "metadata": {},
   "source": [
    "<hr style=\"border: 20px solid black\">"
   ]
  },
  {
   "cell_type": "markdown",
   "metadata": {},
   "source": [
    "<h1>Imports</h1>\n",
    "<br>\n",
    "<font size=\"+1\">\n",
    "    <ul>\n",
    "        <li>Put your imports below.</li>\n",
    "        <br>\n",
    "        <li>Import Numpy and Pandas</li>\n",
    "        <br>\n",
    "    </ul>\n",
    "</font>"
   ]
  },
  {
   "cell_type": "code",
   "execution_count": 1,
   "metadata": {},
   "outputs": [],
   "source": [
    "import numpy as np\n",
    "import pandas as pd"
   ]
  },
  {
   "cell_type": "markdown",
   "metadata": {},
   "source": [
    "<hr style=\"border: 20px solid black\">"
   ]
  },
  {
   "cell_type": "markdown",
   "metadata": {},
   "source": [
    "<h1>Questions</h1>"
   ]
  },
  {
   "cell_type": "markdown",
   "metadata": {},
   "source": [
    "<h2>Sampling from Simple Distributions with Numpy</h2>\n",
    "<br>\n",
    "<font size=\"+1\">\n",
    "    <ul>\n",
    "        <li>Be sure to use the default random number generator as a seed for the simulations.</li>\n",
    "        <br>\n",
    "        <li>That is, use <i>rng = np.random.default_rng(seed=0)</i>.</li>\n",
    "        <br>\n",
    "    </ul>\n",
    "</font>"
   ]
  },
  {
   "cell_type": "code",
   "execution_count": 2,
   "metadata": {},
   "outputs": [],
   "source": [
    "rng = np.random.default_rng(seed=0)"
   ]
  },
  {
   "cell_type": "markdown",
   "metadata": {},
   "source": [
    "<h3>Uniform Distribution</h3>\n",
    "<br>\n",
    "<font size=\"+1\">\n",
    "    <ul>\n",
    "        <li>Simulate $100,000$ samples from a uniform distribution between $1$ and $3$.</li>\n",
    "        <br>\n",
    "        <li>Plot the histogram with $20$ bins.</li>\n",
    "        <br>\n",
    "    </ul>\n",
    "</font>"
   ]
  },
  {
   "cell_type": "code",
   "execution_count": 3,
   "metadata": {
    "scrolled": true
   },
   "outputs": [
    {
     "data": {
      "text/plain": [
       "<matplotlib.axes._subplots.AxesSubplot at 0x267f9aac9c8>"
      ]
     },
     "execution_count": 3,
     "metadata": {},
     "output_type": "execute_result"
    }
   ],
   "source": [
    "uniform =rng.uniform(1, 3, 100_000)\n",
    "\n",
    "uniform_sample = pd.DataFrame(uniform, columns=['Uniform Sample'])\n",
    "\n",
    "uniform_sample.plot(kind='hist', bins=20, title='Uniform Distribution')"
   ]
  },
  {
   "cell_type": "code",
   "execution_count": 4,
   "metadata": {},
   "outputs": [
    {
     "data": {
      "text/html": [
       "<div>\n",
       "<style scoped>\n",
       "    .dataframe tbody tr th:only-of-type {\n",
       "        vertical-align: middle;\n",
       "    }\n",
       "\n",
       "    .dataframe tbody tr th {\n",
       "        vertical-align: top;\n",
       "    }\n",
       "\n",
       "    .dataframe thead th {\n",
       "        text-align: right;\n",
       "    }\n",
       "</style>\n",
       "<table border=\"1\" class=\"dataframe\">\n",
       "  <thead>\n",
       "    <tr style=\"text-align: right;\">\n",
       "      <th></th>\n",
       "      <th>Uniform Sample</th>\n",
       "    </tr>\n",
       "  </thead>\n",
       "  <tbody>\n",
       "    <tr>\n",
       "      <th>count</th>\n",
       "      <td>100000.000000</td>\n",
       "    </tr>\n",
       "    <tr>\n",
       "      <th>mean</th>\n",
       "      <td>1.999149</td>\n",
       "    </tr>\n",
       "    <tr>\n",
       "      <th>std</th>\n",
       "      <td>0.576897</td>\n",
       "    </tr>\n",
       "    <tr>\n",
       "      <th>min</th>\n",
       "      <td>1.000007</td>\n",
       "    </tr>\n",
       "    <tr>\n",
       "      <th>25%</th>\n",
       "      <td>1.499772</td>\n",
       "    </tr>\n",
       "    <tr>\n",
       "      <th>50%</th>\n",
       "      <td>1.997900</td>\n",
       "    </tr>\n",
       "    <tr>\n",
       "      <th>75%</th>\n",
       "      <td>2.498577</td>\n",
       "    </tr>\n",
       "    <tr>\n",
       "      <th>max</th>\n",
       "      <td>2.999994</td>\n",
       "    </tr>\n",
       "  </tbody>\n",
       "</table>\n",
       "</div>"
      ],
      "text/plain": [
       "       Uniform Sample\n",
       "count   100000.000000\n",
       "mean         1.999149\n",
       "std          0.576897\n",
       "min          1.000007\n",
       "25%          1.499772\n",
       "50%          1.997900\n",
       "75%          2.498577\n",
       "max          2.999994"
      ]
     },
     "execution_count": 4,
     "metadata": {},
     "output_type": "execute_result"
    }
   ],
   "source": [
    "uniform_sample.describe()"
   ]
  },
  {
   "cell_type": "markdown",
   "metadata": {},
   "source": [
    "<h3>Geometric Distribution</h3>\n",
    "<br>\n",
    "<font size=\"+1\">\n",
    "    <ul>\n",
    "        <li>Simulate $100,000$ samples from a geometric distribution with parameter $p = 0.3$.</li>\n",
    "        <br>\n",
    "        <li>Plot the histogram with $30$ bins.</li>\n",
    "        <br>\n",
    "    </ul>\n",
    "</font>"
   ]
  },
  {
   "cell_type": "code",
   "execution_count": 3,
   "metadata": {},
   "outputs": [
    {
     "data": {
      "text/plain": [
       "<matplotlib.axes._subplots.AxesSubplot at 0x14fc8dd50c8>"
      ]
     },
     "execution_count": 3,
     "metadata": {},
     "output_type": "execute_result"
    }
   ],
   "source": [
    "geometric =rng.geometric(p=0.3, size=100_000)\n",
    "\n",
    "geometric_sample = pd.DataFrame(geometric, columns=['Geometric Sample'])\n",
    "\n",
    "geometric_sample.plot(kind='hist', bins=30, title='Geometric Distribution')"
   ]
  },
  {
   "cell_type": "code",
   "execution_count": 4,
   "metadata": {},
   "outputs": [
    {
     "data": {
      "text/html": [
       "<div>\n",
       "<style scoped>\n",
       "    .dataframe tbody tr th:only-of-type {\n",
       "        vertical-align: middle;\n",
       "    }\n",
       "\n",
       "    .dataframe tbody tr th {\n",
       "        vertical-align: top;\n",
       "    }\n",
       "\n",
       "    .dataframe thead th {\n",
       "        text-align: right;\n",
       "    }\n",
       "</style>\n",
       "<table border=\"1\" class=\"dataframe\">\n",
       "  <thead>\n",
       "    <tr style=\"text-align: right;\">\n",
       "      <th></th>\n",
       "      <th>Geometric Sample</th>\n",
       "    </tr>\n",
       "  </thead>\n",
       "  <tbody>\n",
       "    <tr>\n",
       "      <th>count</th>\n",
       "      <td>100000.00000</td>\n",
       "    </tr>\n",
       "    <tr>\n",
       "      <th>mean</th>\n",
       "      <td>3.32510</td>\n",
       "    </tr>\n",
       "    <tr>\n",
       "      <th>std</th>\n",
       "      <td>2.79465</td>\n",
       "    </tr>\n",
       "    <tr>\n",
       "      <th>min</th>\n",
       "      <td>1.00000</td>\n",
       "    </tr>\n",
       "    <tr>\n",
       "      <th>25%</th>\n",
       "      <td>1.00000</td>\n",
       "    </tr>\n",
       "    <tr>\n",
       "      <th>50%</th>\n",
       "      <td>2.00000</td>\n",
       "    </tr>\n",
       "    <tr>\n",
       "      <th>75%</th>\n",
       "      <td>4.00000</td>\n",
       "    </tr>\n",
       "    <tr>\n",
       "      <th>max</th>\n",
       "      <td>33.00000</td>\n",
       "    </tr>\n",
       "  </tbody>\n",
       "</table>\n",
       "</div>"
      ],
      "text/plain": [
       "       Geometric Sample\n",
       "count      100000.00000\n",
       "mean            3.32510\n",
       "std             2.79465\n",
       "min             1.00000\n",
       "25%             1.00000\n",
       "50%             2.00000\n",
       "75%             4.00000\n",
       "max            33.00000"
      ]
     },
     "execution_count": 4,
     "metadata": {},
     "output_type": "execute_result"
    }
   ],
   "source": [
    "geometric_sample.describe()"
   ]
  },
  {
   "cell_type": "markdown",
   "metadata": {},
   "source": [
    "<h3>Poisson Distribution</h3>\n",
    "<br>\n",
    "<font size=\"+1\">\n",
    "    <ul>\n",
    "        <li>Assume customers are arriving at a grocery store according to some probability distribution over any given $10$ minute interval.</li>\n",
    "        <br>\n",
    "        <li>Further, assume the number of customers arriving in a $10$ minute interval is distributed according to a Poisson distribution with intesity rate of $\\lambda = 8.5$.</li>\n",
    "        <br>\n",
    "        <li>Estimate the chance that the number of arrivals in a given $10$ minute interval is $15$ or higher.</li>\n",
    "        <br>\n",
    "        <li style=\"color:red\">Hint: Generate $1,000,000$ samples from a Poisson distribution with parameter $\\lambda = 8.5$ and count the <i>proportion</i> (use the mean function) of samples that are at least 15.</li>\n",
    "        <br>\n",
    "    </ul>\n",
    "</font>"
   ]
  },
  {
   "cell_type": "code",
   "execution_count": 6,
   "metadata": {},
   "outputs": [
    {
     "data": {
      "text/plain": [
       "Poisson Sample    0.027517\n",
       "dtype: float64"
      ]
     },
     "execution_count": 6,
     "metadata": {},
     "output_type": "execute_result"
    }
   ],
   "source": [
    "poisson =rng.poisson(lam=8.5, size=1_000_000)\n",
    "\n",
    "poisson_sample = pd.DataFrame(poisson, columns=['Poisson Sample'])\n",
    "\n",
    "#Probability of  number of arrivals is 15 or higher in a 10-min interval\n",
    "(poisson_sample>=15).mean()"
   ]
  },
  {
   "cell_type": "markdown",
   "metadata": {},
   "source": [
    "<h3>Normal Distribution</h3>\n",
    "<br>\n",
    "<font size=\"+1\">\n",
    "    <ul>\n",
    "        <li>Suppose there are two products, and a customer's willingness to pay for each of the two products are drawn independently from the following distributions:</li>\n",
    "        <br>\n",
    "        <ul>\n",
    "            <li>Product 1: $Normal(25, \\ 10)$</li>\n",
    "            <br>\n",
    "            <li>Product 2: $Normal(20, \\ 15)$</li>\n",
    "            <br>\n",
    "        </ul>\n",
    "        <li>Estimate the proportion of customers whose willingness to pay is higher for the second product than the first product, <b>and</b> whose willingness to pay for the second product is at least zero.</li>\n",
    "        <br>\n",
    "        <li style=\"color:red\">Hint: Generate $1,000,000$ samples from each distribution and compare the two series using vectorized operations.</li>\n",
    "        <br>\n",
    "    </ul>\n",
    "</font>"
   ]
  },
  {
   "cell_type": "code",
   "execution_count": 7,
   "metadata": {},
   "outputs": [],
   "source": [
    "product1 = pd.DataFrame(rng.normal(loc=25, scale=10, size=1_000_000))\n",
    "\n",
    "product2 = pd.DataFrame(rng.normal(loc=20, scale=15, size=1_000_000))"
   ]
  },
  {
   "cell_type": "code",
   "execution_count": 8,
   "metadata": {},
   "outputs": [
    {
     "data": {
      "text/plain": [
       "0.391179"
      ]
     },
     "execution_count": 8,
     "metadata": {},
     "output_type": "execute_result"
    }
   ],
   "source": [
    "#Estimate the proportion of customers whose willingness to pay is higher for the second product than the first product\n",
    "np.where((product2 > product1) & (product2 >0) , 1, 0).mean()"
   ]
  },
  {
   "cell_type": "markdown",
   "metadata": {},
   "source": [
    "<h2>Sampling from Complex Distributions with Algorithmic Thinking and Numpy</h2>"
   ]
  },
  {
   "cell_type": "markdown",
   "metadata": {},
   "source": [
    "<h3>Mixture of Distributions</h3>\n",
    "<br>\n",
    "<font size=\"+1\">\n",
    "    <ul>\n",
    "        <li>Suppose there are two market segments, <i>A</i> and <i>B</i>, and the willingness to pay for a product depends on the segment.</li>\n",
    "        <br>\n",
    "        <ul>\n",
    "            <li>Segment A: $Normal(150, \\ 50)$</li>\n",
    "            <br>\n",
    "            <li>Segment B: $Normal(50, \\ 20)$</li>\n",
    "            <br>\n",
    "        </ul>\n",
    "        <li>Moreover, each customer has a $0.2$ chance of being in segment A and $0.8$ chance of being in segment B.</li>\n",
    "        <br>\n",
    "        <li>Generate a simulated data set of the willingness to pay for $10,000$ customers and plot its histogram.</li>\n",
    "        <br>\n",
    "        <li style=\"color:red\">To generate a general mixture of simple distributions, you must first sample from the customer distribution, and then depending on the segment of the customer, sample from the willingness to pay distribution. You then repeat this logic for however many samples you wish to simulate.</li>\n",
    "        <br>\n",
    "    </ul>\n",
    "</font>"
   ]
  },
  {
   "cell_type": "code",
   "execution_count": 10,
   "metadata": {
    "scrolled": true
   },
   "outputs": [
    {
     "data": {
      "text/plain": [
       "<matplotlib.axes._subplots.AxesSubplot at 0x20cf295aa08>"
      ]
     },
     "execution_count": 10,
     "metadata": {},
     "output_type": "execute_result"
    },
    {
     "data": {
      "image/png": "[encoded data removed]",
      "text/plain": [
       "<Figure size 432x288 with 1 Axes>"
      ]
     },
     "metadata": {
      "needs_background": "light"
     },
     "output_type": "display_data"
    }
   ],
   "source": [
    "simulated_demand = []\n",
    "\n",
    "for customer in range(10_000):\n",
    "        which_segment = rng.choice(['A', 'B'], p=[0.2, 0.8])\n",
    "        \n",
    "        if which_segment == 'A':\n",
    "            simulated_demand.append(rng.normal(loc=150, scale=50))\n",
    "        else:\n",
    "             simulated_demand.append(rng.normal(loc=50, scale=20))\n",
    "\n",
    "#plot the simulated data set of the willingness to pay\n",
    "simulated_demand = pd.DataFrame(simulated_demand, columns = ['simulated_demand'])\n",
    "\n",
    "simulated_demand.plot(kind='hist', bins=50, title = 'Simulation of willingness to pay')"
   ]
  },
  {
   "cell_type": "code",
   "execution_count": 11,
   "metadata": {},
   "outputs": [
    {
     "data": {
      "text/html": [
       "<div>\n",
       "<style scoped>\n",
       "    .dataframe tbody tr th:only-of-type {\n",
       "        vertical-align: middle;\n",
       "    }\n",
       "\n",
       "    .dataframe tbody tr th {\n",
       "        vertical-align: top;\n",
       "    }\n",
       "\n",
       "    .dataframe thead th {\n",
       "        text-align: right;\n",
       "    }\n",
       "</style>\n",
       "<table border=\"1\" class=\"dataframe\">\n",
       "  <thead>\n",
       "    <tr style=\"text-align: right;\">\n",
       "      <th></th>\n",
       "      <th>simulated_demand</th>\n",
       "    </tr>\n",
       "  </thead>\n",
       "  <tbody>\n",
       "    <tr>\n",
       "      <th>count</th>\n",
       "      <td>10000.000000</td>\n",
       "    </tr>\n",
       "    <tr>\n",
       "      <th>mean</th>\n",
       "      <td>70.372514</td>\n",
       "    </tr>\n",
       "    <tr>\n",
       "      <th>std</th>\n",
       "      <td>49.562500</td>\n",
       "    </tr>\n",
       "    <tr>\n",
       "      <th>min</th>\n",
       "      <td>-20.638833</td>\n",
       "    </tr>\n",
       "    <tr>\n",
       "      <th>25%</th>\n",
       "      <td>40.057103</td>\n",
       "    </tr>\n",
       "    <tr>\n",
       "      <th>50%</th>\n",
       "      <td>56.225301</td>\n",
       "    </tr>\n",
       "    <tr>\n",
       "      <th>75%</th>\n",
       "      <td>78.505589</td>\n",
       "    </tr>\n",
       "    <tr>\n",
       "      <th>max</th>\n",
       "      <td>326.686390</td>\n",
       "    </tr>\n",
       "  </tbody>\n",
       "</table>\n",
       "</div>"
      ],
      "text/plain": [
       "       simulated_demand\n",
       "count      10000.000000\n",
       "mean          70.372514\n",
       "std           49.562500\n",
       "min          -20.638833\n",
       "25%           40.057103\n",
       "50%           56.225301\n",
       "75%           78.505589\n",
       "max          326.686390"
      ]
     },
     "execution_count": 11,
     "metadata": {},
     "output_type": "execute_result"
    }
   ],
   "source": [
    "simulated_demand.describe()"
   ]
  },
  {
   "cell_type": "markdown",
   "metadata": {},
   "source": [
    "<h3>Serial Correlation</h3>\n",
    "<br>\n",
    "<font size=\"+1\">\n",
    "    <ul>\n",
    "        <li>Suppose you want to simulate whether it will rain for $60$ days. Assume you have estimated that the overall proportion of rainy days is $0.2$.</li>\n",
    "        <br>\n",
    "        <li>First, simulate a time series of $60$ days by sampling from a variable with two outcomes, rain or no-rain, and plot the resulting data.</li>\n",
    "        <br>\n",
    "        <ul>\n",
    "            <li>Use the configuration <i>simulated_data.plot(style='ro', figsize=(10,3))</i> to display a visually appealing graph.</li>\n",
    "            <br>\n",
    "        </ul>\n",
    "        <li style=\"color:red\">Hint: Generate $60$ samples from a binomial distribution with $n=1$ and the appropriate probability.</li>\n",
    "        <br>\n",
    "        <li>Second, to make a more realistic simulation, you want to account for the dependence of the weather on given day on the weather from previous days.</li>\n",
    "        <br>\n",
    "        <ul>\n",
    "            <li>Specifically, assume the chance of rain occurring on a given day is</li>\n",
    "            <br>\n",
    "            <ul>\n",
    "                <li>$0.6$ if it rained yesterday</li>\n",
    "                <br>\n",
    "                <li>$0.1$ if it did not rain yesterday</li>\n",
    "                <br>\n",
    "            </ul>\n",
    "            <li>Simulate a time series of weather with the assumed conditional distribution and plot the resulting data.</li>\n",
    "            <br>\n",
    "            <li>Use the configuration <i>simulated_data.plot(style='ro', figsize=(10,3))</i> to display a visually appealing graph.</li>\n",
    "            <br>\n",
    "        </ul>\n",
    "        <li style=\"color:red\">Hint: Generate $1$ sample from the unconditional binomial distribution, then generate $59$ samples from a binomial distribution with parameters depending on the outcome of the previous observation.</li>\n",
    "        <br>\n",
    "    </ul>\n",
    "</font>"
   ]
  },
  {
   "cell_type": "code",
   "execution_count": 12,
   "metadata": {
    "scrolled": true
   },
   "outputs": [
    {
     "data": {
      "text/plain": [
       "<matplotlib.axes._subplots.AxesSubplot at 0x20cf05967c8>"
      ]
     },
     "execution_count": 12,
     "metadata": {},
     "output_type": "execute_result"
    },
    {
     "data": {
      "image/png": "[encoded data removed]",
      "text/plain": [
       "<Figure size 720x216 with 1 Axes>"
      ]
     },
     "metadata": {
      "needs_background": "light"
     },
     "output_type": "display_data"
    }
   ],
   "source": [
    "#simulation with no serial dependence\n",
    "simulated_data = pd.DataFrame( rng.binomial(n=1, p =0.2, size = 60), columns = ['No Serial Correlation'])\n",
    "\n",
    "simulated_data.plot(style='ro', figsize=(10,3))"
   ]
  },
  {
   "cell_type": "code",
   "execution_count": 13,
   "metadata": {},
   "outputs": [
    {
     "data": {
      "text/html": [
       "<div>\n",
       "<style scoped>\n",
       "    .dataframe tbody tr th:only-of-type {\n",
       "        vertical-align: middle;\n",
       "    }\n",
       "\n",
       "    .dataframe tbody tr th {\n",
       "        vertical-align: top;\n",
       "    }\n",
       "\n",
       "    .dataframe thead th {\n",
       "        text-align: right;\n",
       "    }\n",
       "</style>\n",
       "<table border=\"1\" class=\"dataframe\">\n",
       "  <thead>\n",
       "    <tr style=\"text-align: right;\">\n",
       "      <th></th>\n",
       "      <th>No Serial Correlation</th>\n",
       "    </tr>\n",
       "  </thead>\n",
       "  <tbody>\n",
       "    <tr>\n",
       "      <th>count</th>\n",
       "      <td>60.000000</td>\n",
       "    </tr>\n",
       "    <tr>\n",
       "      <th>mean</th>\n",
       "      <td>0.183333</td>\n",
       "    </tr>\n",
       "    <tr>\n",
       "      <th>std</th>\n",
       "      <td>0.390205</td>\n",
       "    </tr>\n",
       "    <tr>\n",
       "      <th>min</th>\n",
       "      <td>0.000000</td>\n",
       "    </tr>\n",
       "    <tr>\n",
       "      <th>25%</th>\n",
       "      <td>0.000000</td>\n",
       "    </tr>\n",
       "    <tr>\n",
       "      <th>50%</th>\n",
       "      <td>0.000000</td>\n",
       "    </tr>\n",
       "    <tr>\n",
       "      <th>75%</th>\n",
       "      <td>0.000000</td>\n",
       "    </tr>\n",
       "    <tr>\n",
       "      <th>max</th>\n",
       "      <td>1.000000</td>\n",
       "    </tr>\n",
       "  </tbody>\n",
       "</table>\n",
       "</div>"
      ],
      "text/plain": [
       "       No Serial Correlation\n",
       "count              60.000000\n",
       "mean                0.183333\n",
       "std                 0.390205\n",
       "min                 0.000000\n",
       "25%                 0.000000\n",
       "50%                 0.000000\n",
       "75%                 0.000000\n",
       "max                 1.000000"
      ]
     },
     "execution_count": 13,
     "metadata": {},
     "output_type": "execute_result"
    }
   ],
   "source": [
    "simulated_data.describe()"
   ]
  },
  {
   "cell_type": "code",
   "execution_count": 14,
   "metadata": {},
   "outputs": [
    {
     "data": {
      "text/plain": [
       "<matplotlib.axes._subplots.AxesSubplot at 0x20cf2b07d48>"
      ]
     },
     "execution_count": 14,
     "metadata": {},
     "output_type": "execute_result"
    },
    {
     "data": {
      "image/png": "[encoded data removed]",
      "text/plain": [
       "<Figure size 720x216 with 1 Axes>"
      ]
     },
     "metadata": {
      "needs_background": "light"
     },
     "output_type": "display_data"
    }
   ],
   "source": [
    "#simulation with serial dependence\n",
    "\n",
    "simulated_rain = [rng.binomial(n=1, p=0.2, size=1)]\n",
    "\n",
    "for t in range(1, 60):\n",
    "    if simulated_rain[t-1] == 1:\n",
    "        simulated_rain.append(rng.binomial(n =1, p=0.6, size=1))\n",
    "        \n",
    "    else:\n",
    "        simulated_rain.append(rng.binomial(n =1, p=0.1, size=1))\n",
    "        \n",
    "simulated_rain = pd.DataFrame(simulated_rain, columns=['Simulated Rain With Serial Correlation'])\n",
    "simulated_rain.plot(style='ro', figsize=(10,3))"
   ]
  },
  {
   "cell_type": "code",
   "execution_count": 16,
   "metadata": {},
   "outputs": [
    {
     "data": {
      "text/html": [
       "<div>\n",
       "<style scoped>\n",
       "    .dataframe tbody tr th:only-of-type {\n",
       "        vertical-align: middle;\n",
       "    }\n",
       "\n",
       "    .dataframe tbody tr th {\n",
       "        vertical-align: top;\n",
       "    }\n",
       "\n",
       "    .dataframe thead th {\n",
       "        text-align: right;\n",
       "    }\n",
       "</style>\n",
       "<table border=\"1\" class=\"dataframe\">\n",
       "  <thead>\n",
       "    <tr style=\"text-align: right;\">\n",
       "      <th></th>\n",
       "      <th>Simulated Rain With Serial Correlation</th>\n",
       "    </tr>\n",
       "  </thead>\n",
       "  <tbody>\n",
       "    <tr>\n",
       "      <th>count</th>\n",
       "      <td>60.000000</td>\n",
       "    </tr>\n",
       "    <tr>\n",
       "      <th>mean</th>\n",
       "      <td>0.333333</td>\n",
       "    </tr>\n",
       "    <tr>\n",
       "      <th>std</th>\n",
       "      <td>0.475383</td>\n",
       "    </tr>\n",
       "    <tr>\n",
       "      <th>min</th>\n",
       "      <td>0.000000</td>\n",
       "    </tr>\n",
       "    <tr>\n",
       "      <th>25%</th>\n",
       "      <td>0.000000</td>\n",
       "    </tr>\n",
       "    <tr>\n",
       "      <th>50%</th>\n",
       "      <td>0.000000</td>\n",
       "    </tr>\n",
       "    <tr>\n",
       "      <th>75%</th>\n",
       "      <td>1.000000</td>\n",
       "    </tr>\n",
       "    <tr>\n",
       "      <th>max</th>\n",
       "      <td>1.000000</td>\n",
       "    </tr>\n",
       "  </tbody>\n",
       "</table>\n",
       "</div>"
      ],
      "text/plain": [
       "       Simulated Rain With Serial Correlation\n",
       "count                               60.000000\n",
       "mean                                 0.333333\n",
       "std                                  0.475383\n",
       "min                                  0.000000\n",
       "25%                                  0.000000\n",
       "50%                                  0.000000\n",
       "75%                                  1.000000\n",
       "max                                  1.000000"
      ]
     },
     "execution_count": 16,
     "metadata": {},
     "output_type": "execute_result"
    }
   ],
   "source": [
    "simulated_rain.describe()"
   ]
  },
  {
   "cell_type": "markdown",
   "metadata": {},
   "source": [
    "<h3>Accounting for Uncertain Product Quality When Forecasting Demand</h3>\n",
    "<br>\n",
    "<font size=\"+1\">\n",
    "    <ul>\n",
    "        <li>Suppose you want to forecast demand for a new product.</li>\n",
    "        <br>\n",
    "        <li>Based on past data and your domain-specific knowledge of the product, you estimate that the product quality will be</li>\n",
    "        <br>\n",
    "        <ul>\n",
    "            <li><i>Great</i> with probability $0.1$</li>\n",
    "            <br>\n",
    "            <li><i>Average</i> with probability $0.5$</li>\n",
    "            <br>\n",
    "            <li><i>Bad</i> with probability $0.4$</li>\n",
    "            <br>\n",
    "        </ul>\n",
    "        <li>You then model demand as a random variable that is normally distributed with a mean and standard deviation that depends on the product quality as follows</li>\n",
    "        <br>\n",
    "        <ul>\n",
    "            <li>$(\\mu, \\sigma) = (10000, 2000)$ if product quality is <i>Great</i></li>\n",
    "            <br>\n",
    "            <li>$(\\mu, \\sigma) = (5000, 1000)$ if product quality is <i>Average</i></li>\n",
    "            <br>\n",
    "            <li>$(\\mu, \\sigma) = (1000, 300)$ if product quality is <i>Bad</i></li>\n",
    "            <br>\n",
    "        </ul>\n",
    "        <li>Create a series called <i>forecast</i> with $10,000$ samples of the demand forecast, and compute the mean and standard deviation of the samples, as well as the probability that demand is more than $6000$.</li>\n",
    "        <br>\n",
    "        <li>Finally, plot a histogram of the samples with $100$ bins.</li>\n",
    "        <br>\n",
    "        <li>Note, you can ignore the constraint that demand should be a non-negative integer.</li>\n",
    "        <br>\n",
    "    </ul>\n",
    "</font>"
   ]
  },
  {
   "cell_type": "code",
   "execution_count": 17,
   "metadata": {},
   "outputs": [],
   "source": [
    "forecast = []\n",
    "\n",
    "for customer in range(10_000):\n",
    "    quality = rng.choice(['Great', 'Average', 'Bad'], p=[0.1, 0.5, 0.4])\n",
    "    \n",
    "    if quality == 'Great':\n",
    "        forecast.append(rng.normal(10_000, 2_000))\n",
    "        \n",
    "    elif quality == 'Average':\n",
    "        forecast.append(rng.normal(5_000, 1_000))\n",
    "        \n",
    "    else:\n",
    "        forecast.append(rng.normal(1_000, 300))\n",
    "        \n",
    "forecast = pd.DataFrame(forecast, columns=['Demand Distribution'])\n"
   ]
  },
  {
   "cell_type": "code",
   "execution_count": 18,
   "metadata": {},
   "outputs": [
    {
     "name": "stdout",
     "output_type": "stream",
     "text": [
      "Demand Distribution    3929.505146\n",
      "dtype: float64\n",
      "Demand Distribution    2967.122333\n",
      "dtype: float64\n"
     ]
    }
   ],
   "source": [
    "#mean and sd of the sample\n",
    "print(np.mean(forecast))\n",
    "\n",
    "print(np.std(forecast))\n"
   ]
  },
  {
   "cell_type": "code",
   "execution_count": 19,
   "metadata": {},
   "outputs": [
    {
     "data": {
      "text/plain": [
       "Demand Distribution    0.1835\n",
       "dtype: float64"
      ]
     },
     "execution_count": 19,
     "metadata": {},
     "output_type": "execute_result"
    }
   ],
   "source": [
    "#probability that the demand is  greater than 6000\n",
    "(forecast>6000).sum() / len(forecast)"
   ]
  },
  {
   "cell_type": "code",
   "execution_count": 18,
   "metadata": {},
   "outputs": [
    {
     "data": {
      "text/plain": [
       "<matplotlib.axes._subplots.AxesSubplot at 0x14fce41f448>"
      ]
     },
     "execution_count": 18,
     "metadata": {},
     "output_type": "execute_result"
    },
    {
     "data": {
      "image/png": "[encoded data removed]",
      "text/plain": [
       "<Figure size 432x288 with 1 Axes>"
      ]
     },
     "metadata": {
      "needs_background": "light"
     },
     "output_type": "display_data"
    }
   ],
   "source": [
    "#plot a histogram of the samples with  100  bins\n",
    "forecast.plot(kind='hist', bins=100, title='Simulated Histogram of Customer Demand')"
   ]
  },
  {
   "cell_type": "markdown",
   "metadata": {},
   "source": [
    "<h3>Simulating Serially Correlated Demand</h3>\n",
    "<br>\n",
    "<font size=\"+1\">\n",
    "    <ul>\n",
    "        <li>Suppose a logistics company would like to simulate demand for a given product.</li>\n",
    "        <br>\n",
    "        <li>Assume that there are <i>Good</i> and <i>Bad</i> weeks.</li>\n",
    "        <br>\n",
    "        <ul>\n",
    "            <li>On a good week, the demand is normally distributed with mean $200$ and standard deviation $50$</li>\n",
    "            <br>\n",
    "            <li>On a bad week, the demand is normally distributed with mean $100$ and standard deviation $30$</li>\n",
    "            <br>\n",
    "            <li>As a practical constraint, you should round the decimal part of demand to the nearest integer and set it to zero if it is ever negative.</li>\n",
    "        <br>\n",
    "        </ul>\n",
    "        <li>Additionally, we should assume that a week being <i>good</i> or <i>bad</i> is serially correlated across time.</li>\n",
    "        <br>\n",
    "        <ul>\n",
    "            <li>Conditional on a given week being <i>Good</i>, the next week remains <i>Good</i>  with probability $0.9$.</li>\n",
    "            <br>\n",
    "            <li>Similarly, conditional on a given week being <i>Bad</i>, the next week remains <i>Bad</i>  with probability $0.9$.</li>\n",
    "            <br>\n",
    "        </ul>\n",
    "        <li>You are to simulate a time series of demand for $100$ weeks, assuming the first week starts <i>Good</i>. Also, plot the demand over time.</li>\n",
    "        <br>\n",
    "    </ul>\n",
    "</font>"
   ]
  },
  {
   "cell_type": "code",
   "execution_count": 20,
   "metadata": {
    "scrolled": true
   },
   "outputs": [],
   "source": [
    "#Assume the first week starts Good\n",
    "good_bad_week = 'Good'\n",
    "weekly_demand = []\n",
    "\n",
    "for week in range(100):\n",
    "    \n",
    "    #when the current week is a good week\n",
    "    if good_bad_week == 'Good':\n",
    "        good_bad_week = rng.choice(['Good', 'Bad'], p=[0.9, 0.1])\n",
    "        demand = rng.normal(200, 50)\n",
    "        \n",
    "        #check if demand is negative\n",
    "        if demand <= 0:\n",
    "            weekly_demand.append(0)\n",
    "        #round to nearest integer\n",
    "        else:\n",
    "            weekly_demand.append(round(demand))\n",
    "    \n",
    "     #when the current week is a bad week\n",
    "    else:\n",
    "        good_bad_week = rng.choice(['Good', 'Bad'], p=[0.1, 0.9])\n",
    "        demand = rng.normal(100, 30)\n",
    "        if demand <= 0:\n",
    "            weekly_demand.append(0)\n",
    "        else:\n",
    "            weekly_demand.append(round(demand))"
   ]
  },
  {
   "cell_type": "code",
   "execution_count": 21,
   "metadata": {},
   "outputs": [
    {
     "data": {
      "text/plain": [
       "<matplotlib.axes._subplots.AxesSubplot at 0x20cf3ba0bc8>"
      ]
     },
     "execution_count": 21,
     "metadata": {},
     "output_type": "execute_result"
    },
    {
     "data": {
      "image/png": "[encoded data removed]",
      "text/plain": [
       "<Figure size 720x216 with 1 Axes>"
      ]
     },
     "metadata": {
      "needs_background": "light"
     },
     "output_type": "display_data"
    }
   ],
   "source": [
    "weekly_demand = pd.DataFrame(weekly_demand, columns=['Demand Time Series'])\n",
    "weekly_demand.plot(figsize=(10,3))"
   ]
  },
  {
   "cell_type": "code",
   "execution_count": 22,
   "metadata": {},
   "outputs": [
    {
     "data": {
      "text/html": [
       "<div>\n",
       "<style scoped>\n",
       "    .dataframe tbody tr th:only-of-type {\n",
       "        vertical-align: middle;\n",
       "    }\n",
       "\n",
       "    .dataframe tbody tr th {\n",
       "        vertical-align: top;\n",
       "    }\n",
       "\n",
       "    .dataframe thead th {\n",
       "        text-align: right;\n",
       "    }\n",
       "</style>\n",
       "<table border=\"1\" class=\"dataframe\">\n",
       "  <thead>\n",
       "    <tr style=\"text-align: right;\">\n",
       "      <th></th>\n",
       "      <th>Demand Time Series</th>\n",
       "    </tr>\n",
       "  </thead>\n",
       "  <tbody>\n",
       "    <tr>\n",
       "      <th>count</th>\n",
       "      <td>100.000000</td>\n",
       "    </tr>\n",
       "    <tr>\n",
       "      <th>mean</th>\n",
       "      <td>135.980000</td>\n",
       "    </tr>\n",
       "    <tr>\n",
       "      <th>std</th>\n",
       "      <td>61.096212</td>\n",
       "    </tr>\n",
       "    <tr>\n",
       "      <th>min</th>\n",
       "      <td>18.000000</td>\n",
       "    </tr>\n",
       "    <tr>\n",
       "      <th>25%</th>\n",
       "      <td>88.000000</td>\n",
       "    </tr>\n",
       "    <tr>\n",
       "      <th>50%</th>\n",
       "      <td>126.500000</td>\n",
       "    </tr>\n",
       "    <tr>\n",
       "      <th>75%</th>\n",
       "      <td>183.500000</td>\n",
       "    </tr>\n",
       "    <tr>\n",
       "      <th>max</th>\n",
       "      <td>297.000000</td>\n",
       "    </tr>\n",
       "  </tbody>\n",
       "</table>\n",
       "</div>"
      ],
      "text/plain": [
       "       Demand Time Series\n",
       "count          100.000000\n",
       "mean           135.980000\n",
       "std             61.096212\n",
       "min             18.000000\n",
       "25%             88.000000\n",
       "50%            126.500000\n",
       "75%            183.500000\n",
       "max            297.000000"
      ]
     },
     "execution_count": 22,
     "metadata": {},
     "output_type": "execute_result"
    }
   ],
   "source": [
    "weekly_demand.describe()"
   ]
  },
  {
   "cell_type": "markdown",
   "metadata": {},
   "source": [
    "<h3>Forecasting Bonus Earnings</h3>\n",
    "<br>\n",
    "<font size=\"+1\">\n",
    "    <ul>\n",
    "        <li>Assume you are a salesperson for cars and your pay is tied to an incentive scheme.</li>\n",
    "        <br>\n",
    "        <ul>\n",
    "            <li>For each month, there is a <i>target profit</i> of $80,000$ that the car dealership sets.</li>\n",
    "            <br>\n",
    "            <li>If you make more profit, above the target profit, for the dealership that month, then you receive a $20\\%$ bonus on the amount of profit over the target</li>\n",
    "            <br>\n",
    "            <li>However, if you do not meet the target, then you receive no bonus.</li>\n",
    "            <br>\n",
    "        </ul>\n",
    "        <li>As an example, consider the following:</li>\n",
    "        <br>\n",
    "        <ul>\n",
    "            <li>If you make $\\$100,000$ of profit, then you receive $\\$4,000 = (100,000 - 80,000)\\times 0.2$ in bonus.</li>\n",
    "            <br>\n",
    "            <li>However, if you make $\\$70,000$, then you receive no bonus.</li>\n",
    "            <br>\n",
    "        </ul>\n",
    "        <li>You would like to understand the distribution of outcomes for your monthly bonus.</li>\n",
    "        <br>\n",
    "        <ul>\n",
    "            <li>You estimate that the number of cars you sell is binomially distributed with $n=200$ and $p=0.2$.</li>\n",
    "            <br>\n",
    "            <li>On every car you sell, the amount of profit you make for the dealership is normally distributed with $\\mu=3000$ and $\\sigma=1000$, and the profit from each car is independent from eachother.</li>\n",
    "            <br>\n",
    "            <li>This means that the profit for two different cars should be two independent draws from the normal distribution.</li>\n",
    "            <br>\n",
    "        </ul>\n",
    "        <li>You are to create a series called <i>monthly_bonus</i> with $100,000$ samples of your monthly bonus.</li>\n",
    "        <br>\n",
    "        <ul>\n",
    "            <li>Additionally, print the mean and standard deviation rounded to the nearest integer, as well as the probability that the bonus is less than $\\$5,000$ (round the probability to three decimal places).</li>\n",
    "            <br>\n",
    "            <li>Finally, plot a histogram (use $100$ bins) of the distribution of your monthly bonus.</li>\n",
    "            <br>\n",
    "        </ul>\n",
    "    </ul>\n",
    "</font>"
   ]
  },
  {
   "cell_type": "code",
   "execution_count": 24,
   "metadata": {},
   "outputs": [],
   "source": [
    "monthly_bonus = []\n",
    "\n",
    "car_sold = rng.binomial(n=200, p=0.2, size = 100_000)\n",
    "\n",
    "for t in range(100_000):\n",
    "    profit = 0\n",
    "    \n",
    "    #for every month, every car sold, the profit is a draw from the normal distributino N(3000, 1000) \n",
    "    for cars in range(car_sold[t]):\n",
    "        profit = profit + rng.normal(3000, 1000)\n",
    "        \n",
    "    #if the monthly profit > 80,000\n",
    "    if profit > 80_000:\n",
    "        monthly_bonus.append(0.2*(profit-80_000))\n",
    "    #else if monthly profit <= 80,000\n",
    "    else:\n",
    "         monthly_bonus.append(0)"
   ]
  },
  {
   "cell_type": "code",
   "execution_count": 25,
   "metadata": {},
   "outputs": [
    {
     "name": "stdout",
     "output_type": "stream",
     "text": [
      "Monthly Bonus    8005.0\n",
      "dtype: float64\n",
      "Monthly Bonus    3596.0\n",
      "dtype: float64\n"
     ]
    }
   ],
   "source": [
    "monthly_bonus = pd.DataFrame(monthly_bonus,columns=['Monthly Bonus'])\n",
    "\n",
    "#print the mean of monthly bonus rounded to the nearest integer\n",
    "print(round(monthly_bonus.mean()))\n",
    "\n",
    "#print the standard deviation of monthly bonus rounded to the nearest integer\n",
    "print(round(monthly_bonus.std()))"
   ]
  },
  {
   "cell_type": "code",
   "execution_count": 26,
   "metadata": {},
   "outputs": [
    {
     "name": "stdout",
     "output_type": "stream",
     "text": [
      "Monthly Bonus    0.207\n",
      "dtype: float64\n"
     ]
    }
   ],
   "source": [
    "#print the probability of monthly bonus greater than 5000\n",
    "print( round((monthly_bonus<5000).sum() / len(monthly_bonus), 3) )"
   ]
  },
  {
   "cell_type": "code",
   "execution_count": 9,
   "metadata": {},
   "outputs": [
    {
     "data": {
      "text/plain": [
       "<matplotlib.axes._subplots.AxesSubplot at 0x1cf8218cc88>"
      ]
     },
     "execution_count": 9,
     "metadata": {},
     "output_type": "execute_result"
    },
    {
     "data": {
      "image/png": "[encoded data removed]",
      "text/plain": [
       "<Figure size 432x288 with 1 Axes>"
      ]
     },
     "metadata": {
      "needs_background": "light"
     },
     "output_type": "display_data"
    }
   ],
   "source": [
    "#histogram of monthly bonus\n",
    "\n",
    "monthly_bonus.plot(kind='hist', bins=100, title='Simulated Histogram of Monthly Bonus')"
   ]
  },
  {
   "cell_type": "code",
   "execution_count": 10,
   "metadata": {},
   "outputs": [
    {
     "data": {
      "text/html": [
       "<div>\n",
       "<style scoped>\n",
       "    .dataframe tbody tr th:only-of-type {\n",
       "        vertical-align: middle;\n",
       "    }\n",
       "\n",
       "    .dataframe tbody tr th {\n",
       "        vertical-align: top;\n",
       "    }\n",
       "\n",
       "    .dataframe thead th {\n",
       "        text-align: right;\n",
       "    }\n",
       "</style>\n",
       "<table border=\"1\" class=\"dataframe\">\n",
       "  <thead>\n",
       "    <tr style=\"text-align: right;\">\n",
       "      <th></th>\n",
       "      <th>Monthly Bonus</th>\n",
       "    </tr>\n",
       "  </thead>\n",
       "  <tbody>\n",
       "    <tr>\n",
       "      <th>count</th>\n",
       "      <td>100000.000000</td>\n",
       "    </tr>\n",
       "    <tr>\n",
       "      <th>mean</th>\n",
       "      <td>8000.139757</td>\n",
       "    </tr>\n",
       "    <tr>\n",
       "      <th>std</th>\n",
       "      <td>3576.197996</td>\n",
       "    </tr>\n",
       "    <tr>\n",
       "      <th>min</th>\n",
       "      <td>0.000000</td>\n",
       "    </tr>\n",
       "    <tr>\n",
       "      <th>25%</th>\n",
       "      <td>5504.669638</td>\n",
       "    </tr>\n",
       "    <tr>\n",
       "      <th>50%</th>\n",
       "      <td>7915.492421</td>\n",
       "    </tr>\n",
       "    <tr>\n",
       "      <th>75%</th>\n",
       "      <td>10388.303474</td>\n",
       "    </tr>\n",
       "    <tr>\n",
       "      <th>max</th>\n",
       "      <td>25303.410029</td>\n",
       "    </tr>\n",
       "  </tbody>\n",
       "</table>\n",
       "</div>"
      ],
      "text/plain": [
       "       Monthly Bonus\n",
       "count  100000.000000\n",
       "mean     8000.139757\n",
       "std      3576.197996\n",
       "min         0.000000\n",
       "25%      5504.669638\n",
       "50%      7915.492421\n",
       "75%     10388.303474\n",
       "max     25303.410029"
      ]
     },
     "execution_count": 10,
     "metadata": {},
     "output_type": "execute_result"
    }
   ],
   "source": [
    "monthly_bonus.describe()"
   ]
  },
  {
   "cell_type": "markdown",
   "metadata": {},
   "source": [
    "<h3>Simulating Demand Under Price Promotions</h3>\n",
    "<br>\n",
    "<font size=\"+1\">\n",
    "    <ul>\n",
    "        <li>Suppose a grocery store offers promotions on a certain product with probability $0.3$ every month, independent from other months.</li>\n",
    "        <br>\n",
    "        <li>Assume that the distribution of the monthly demand for the product is independent and normally distributed with the following parameters:</li>\n",
    "        <br>\n",
    "        <ul>\n",
    "            <li>on a month without promotions, the demand is normally distributed with mean $500$ and standard deviation $100$</li>\n",
    "            <br>\n",
    "            <li>on a month with promotions, the demand is normally distributed with mean $800+100t$ and standard deviation $150$, where $t$ is the number of months without a promotion since the last promotion</li>\n",
    "            <br>\n",
    "            <li>For example, if the last month had a promotion, then $t=0$. If neither of the last two months had a promotion but the month before had one, then $t=2$.</li>\n",
    "            <br>\n",
    "            <li>You can ignore the practical constraint of rounding the decimal part of demand to the nearest integer and set it to zero if it is ever negative.</li>\n",
    "            <br>\n",
    "        </ul>\n",
    "        <li>Write a function called <i>simulate_demand()</i> with one input argument:</li>\n",
    "        <br>\n",
    "        <ul>\n",
    "            <li><b>num_months</b>, which is a positive integer representing the number of months to simulate.</li>\n",
    "            <br>\n",
    "        </ul>\n",
    "        <li>The function should return a list of <b>num_months</b>-many numbers corresponding to consecutive months of simulated demand for the product.</li>\n",
    "        <br>\n",
    "        <li>Assume that prior to the simulated months there was a promotion, so $t=0$ initially.</li>\n",
    "        <br>\n",
    "    </ul>\n",
    "</font>"
   ]
  },
  {
   "cell_type": "code",
   "execution_count": 5,
   "metadata": {},
   "outputs": [],
   "source": [
    "#find the window between last month where there was an promotion and this month\n",
    "\n",
    "def find_last_promotion(promotion_record):\n",
    "    i = len(promotion_record) - 1\n",
    "    record = 0\n",
    "    \n",
    "    while i > 0 and promotion_record [i-1] == 'No':\n",
    "        i = i-1\n",
    "        record = record + 1\n",
    "    \n",
    "    return record"
   ]
  },
  {
   "cell_type": "code",
   "execution_count": 3,
   "metadata": {},
   "outputs": [],
   "source": [
    "def simulate_demand(num_months):\n",
    "    t = 0\n",
    "    montly_demand = []\n",
    "    promotion_record = ['Yes']\n",
    "\n",
    "    for month in range (1, num_months+1):\n",
    "        promotion = rng.choice(['Yes', 'No'], p = [0.3, 0.7])\n",
    "    \n",
    "        #when there is NO promotion\n",
    "        if promotion == 'No':\n",
    "            promotion_record.append('No')\n",
    "            montly_demand.append(rng.normal(500, 100))\n",
    "        \n",
    "        #when there IS a promotion\n",
    "        else:\n",
    "            promotion_record.append('Yes')\n",
    "            t = find_last_promotion(promotion_record)\n",
    "            montly_demand.append(rng.normal(800+100*t , 150))\n",
    "        \n",
    "    return montly_demand"
   ]
  },
  {
   "cell_type": "code",
   "execution_count": 7,
   "metadata": {},
   "outputs": [
    {
     "data": {
      "text/plain": [
       "310.91726902024357"
      ]
     },
     "execution_count": 7,
     "metadata": {},
     "output_type": "execute_result"
    }
   ],
   "source": [
    " np.std(simulate_demand(1000))"
   ]
  },
  {
   "cell_type": "markdown",
   "metadata": {},
   "source": [
    "<h2>Inventory Management</h2>"
   ]
  },
  {
   "cell_type": "markdown",
   "metadata": {},
   "source": [
    "<h3>Write a Summary</h3>\n",
    "<br>\n",
    "<font size=\"+1\">\n",
    "    <ul>\n",
    "        <li>In your own words, using Markdown, write a detailed summary of the inventory demand simulator that was built in class.</li>\n",
    "        <br>\n",
    "        <li>Describe what we did, how we did it, and what changes you might make to make the model more realistic.</li>\n",
    "        <br>\n",
    "    </ul>\n",
    "</font>"
   ]
  },
  {
   "cell_type": "markdown",
   "metadata": {},
   "source": [
    "Write summary using Markdown."
   ]
  },
  {
   "cell_type": "markdown",
   "metadata": {},
   "source": [
    "- Summary \n",
    "    - In class, we built a rough simulation of the annual inventory demand following a log-normalmixture distribution\n",
    "    \n",
    "    - First we define a function to simulate lognormal mixture distribution: by calculating the probability of an order received, as well as the (log-normalized) conditional mean and (log-normalized) standard deviation of the demand given that an order is received, we then model a list of decisions about whether an order is received using the random number generator (rng.choice()) in the numpy package. When no order is received, we simply append the number \"0\" to the simulate list of demands; when an order is received, we simulate the amount using the log-normal distribution with the conditional mean and standard deviation calculated earlier. By repeatedly doing so, we can generate a list of simulated demands.\n",
    "    \n",
    "    - Based on the function built above, we define the annual inventory simulation function, where we keep track of the the following data using a dictionary: inventory level, daily demand, units sold, units lost, and orders. In the function, we loop through each day in a year and simulate daily demand using the lognormal mixture distribution function built above, and we adjust the lists of data in the dictionary accordingly. Also, if the current day is a multiple review period, we inspect the inventory level and decide on the amount of the order we need, as well as record the list of orders data in the dictionary accordingly.\n",
    "    \n",
    "    - On top of what we have, we then simulate multiple annual inventory simulations (and annual profits) in order to find a single average behavior, followed by a periodic review process simulation. Eventually, we can find the optimal order level by calculating different annual profits corresponding to diffent order up to levels.\n",
    "    \n",
    "    - Possible changes: we might need certain mechanism to incorporate shocks when we are generating simulated demands to make the model more realistic."
   ]
  }
 ],
 "metadata": {
  "hide_input": false,
  "kernelspec": {
   "display_name": "Python 3",
   "language": "python",
   "name": "python3"
  },
  "language_info": {
   "codemirror_mode": {
    "name": "ipython",
    "version": 3
   },
   "file_extension": ".py",
   "mimetype": "text/x-python",
   "name": "python",
   "nbconvert_exporter": "python",
   "pygments_lexer": "ipython3",
   "version": "3.7.4"
  },
  "toc": {
   "base_numbering": 1,
   "nav_menu": {},
   "number_sections": true,
   "sideBar": true,
   "skip_h1_title": false,
   "title_cell": "Table of Contents",
   "title_sidebar": "Contents",
   "toc_cell": true,
   "toc_position": {
    "height": "calc(100% - 180px)",
    "left": "10px",
    "top": "150px",
    "width": "176.948px"
   },
   "toc_section_display": true,
   "toc_window_display": true
  }
 },
 "nbformat": 4,
 "nbformat_minor": 5
}
