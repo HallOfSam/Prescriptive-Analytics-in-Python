{
 "cells": [
  {
   "cell_type": "markdown",
   "metadata": {
    "toc": true
   },
   "source": [
    "<h1>Table of Contents<span class=\"tocSkip\"></span></h1>\n",
    "<div class=\"toc\"><ul class=\"toc-item\"><li><span><a href=\"#Instructions\" data-toc-modified-id=\"Instructions-1\"><span class=\"toc-item-num\">1&nbsp;&nbsp;</span>Instructions</a></span></li><li><span><a href=\"#Before-You-Begin\" data-toc-modified-id=\"Before-You-Begin-2\"><span class=\"toc-item-num\">2&nbsp;&nbsp;</span>Before You Begin</a></span></li><li><span><a href=\"#Imports\" data-toc-modified-id=\"Imports-3\"><span class=\"toc-item-num\">3&nbsp;&nbsp;</span>Imports</a></span></li><li><span><a href=\"#Questions\" data-toc-modified-id=\"Questions-4\"><span class=\"toc-item-num\">4&nbsp;&nbsp;</span>Questions</a></span><ul class=\"toc-item\"><li><span><a href=\"#Optimal-Bond-Allocation-for-the-USC-Investment-Office\" data-toc-modified-id=\"Optimal-Bond-Allocation-for-the-USC-Investment-Office-4.1\"><span class=\"toc-item-num\">4.1&nbsp;&nbsp;</span>Optimal Bond Allocation for the USC Investment Office</a></span><ul class=\"toc-item\"><li><span><a href=\"#Decision-Variables\" data-toc-modified-id=\"Decision-Variables-4.1.1\"><span class=\"toc-item-num\">4.1.1&nbsp;&nbsp;</span>Decision Variables</a></span></li><li><span><a href=\"#Objective\" data-toc-modified-id=\"Objective-4.1.2\"><span class=\"toc-item-num\">4.1.2&nbsp;&nbsp;</span>Objective</a></span></li><li><span><a href=\"#Constraints\" data-toc-modified-id=\"Constraints-4.1.3\"><span class=\"toc-item-num\">4.1.3&nbsp;&nbsp;</span>Constraints</a></span></li><li><span><a href=\"#Solution\" data-toc-modified-id=\"Solution-4.1.4\"><span class=\"toc-item-num\">4.1.4&nbsp;&nbsp;</span>Solution</a></span></li></ul></li><li><span><a href=\"#Bond-Dedication\" data-toc-modified-id=\"Bond-Dedication-4.2\"><span class=\"toc-item-num\">4.2&nbsp;&nbsp;</span>Bond Dedication</a></span><ul class=\"toc-item\"><li><span><a href=\"#Decision-Variables\" data-toc-modified-id=\"Decision-Variables-4.2.1\"><span class=\"toc-item-num\">4.2.1&nbsp;&nbsp;</span>Decision Variables</a></span></li><li><span><a href=\"#Objective\" data-toc-modified-id=\"Objective-4.2.2\"><span class=\"toc-item-num\">4.2.2&nbsp;&nbsp;</span>Objective</a></span></li><li><span><a href=\"#Constraints\" data-toc-modified-id=\"Constraints-4.2.3\"><span class=\"toc-item-num\">4.2.3&nbsp;&nbsp;</span>Constraints</a></span></li><li><span><a href=\"#Solution\" data-toc-modified-id=\"Solution-4.2.4\"><span class=\"toc-item-num\">4.2.4&nbsp;&nbsp;</span>Solution</a></span></li><li><span><a href=\"#ASIDE:-Abstract-(General)-Formulation---Linear-Optimization-Model-for-Bond-Dedication\" data-toc-modified-id=\"ASIDE:-Abstract-(General)-Formulation---Linear-Optimization-Model-for-Bond-Dedication-4.2.5\"><span class=\"toc-item-num\">4.2.5&nbsp;&nbsp;</span>ASIDE: Abstract (General) Formulation - Linear Optimization Model for Bond Dedication</a></span></li><li><span><a href=\"#ASIDE:-Some-Practical-Details-About-Bonds\" data-toc-modified-id=\"ASIDE:-Some-Practical-Details-About-Bonds-4.2.6\"><span class=\"toc-item-num\">4.2.6&nbsp;&nbsp;</span>ASIDE: Some Practical Details About Bonds</a></span></li></ul></li><li><span><a href=\"#Quadratic-Asset-Allocation\" data-toc-modified-id=\"Quadratic-Asset-Allocation-4.3\"><span class=\"toc-item-num\">4.3&nbsp;&nbsp;</span>Quadratic Asset Allocation</a></span><ul class=\"toc-item\"><li><span><a href=\"#Decision-Variables\" data-toc-modified-id=\"Decision-Variables-4.3.1\"><span class=\"toc-item-num\">4.3.1&nbsp;&nbsp;</span>Decision Variables</a></span></li><li><span><a href=\"#Objective\" data-toc-modified-id=\"Objective-4.3.2\"><span class=\"toc-item-num\">4.3.2&nbsp;&nbsp;</span>Objective</a></span></li><li><span><a href=\"#Constraints\" data-toc-modified-id=\"Constraints-4.3.3\"><span class=\"toc-item-num\">4.3.3&nbsp;&nbsp;</span>Constraints</a></span></li><li><span><a href=\"#Solution\" data-toc-modified-id=\"Solution-4.3.4\"><span class=\"toc-item-num\">4.3.4&nbsp;&nbsp;</span>Solution</a></span></li></ul></li></ul></li></ul></div>"
   ]
  },
  {
   "cell_type": "markdown",
   "metadata": {},
   "source": [
    "<h1>Instructions</h1>\n",
    "<br>\n",
    "<font size=\"+1\">\n",
    "    <ul>\n",
    "        <li style=\"color:red\">This problem set assesses your ability to analyze a given business decision by creating a concrete formulation of an optimization model, as well as practice solving your optimizaton model with CVXPY and summarizing the results. You should typeset math within Markdown using $\\LaTeX$.</li>\n",
    "        <br>\n",
    "        <li><b>Recommended Steps</b></li>\n",
    "        <br>\n",
    "        <ol>\n",
    "            <li>Read the prompt and summarize the task in your own words, using as few words as possible for ease of comprehension.</li>\n",
    "            <br>\n",
    "            <li>Pretend to be the computer program that you are trying to create. Examine the smaple inputs and manually produce the appropriate results. Afterward, verify the correctness of your logic by comparing with the given sample outputs.</li>\n",
    "            <br>\n",
    "            <li>On a scrap piece of paper, write step-by-step instructions so that someone else can pretend to be the computer program and produce the appropriate results for any possible inputs. These instructions should target a human audience who does not know the problem description and only has your instructions as a guide. These instructions should serve as the roadmap for your code.</li>\n",
    "            <br>\n",
    "            <li>On another scrap piece of paper, write fragments of Python code to implement each step in your roadmap, focusing especially on the trickiest parts of the logic.</li>\n",
    "            <br>\n",
    "            <li>With your roadmap and code fragments from the previous steps, type Python code into a new Jupyter notebook cel to solve the given problem. You should type incrementally and run the code whenever you add a small chunk. This allows you to correct errors as they occur. It may also be helpful to print intermediate results to verify that the code is carrying out the logic as desired.</li>\n",
    "            <br>\n",
    "            <li>Run your code with some sample inputs and verify that the outputs are exactly the same as the sample outputs.</li>\n",
    "            <br>\n",
    "            <li>Once all of your problems are finished, it is useful to click <i>Kernel</i> $\\rightarrow$ <i>Restart & Run All</i> to verify that your outputs for all of your problems continue to be correct. This helps to ensure that someone else will be able to replicate your results when running your notebook.</li>\n",
    "            <br>\n",
    "            <li style=\"color:red\">Submit the <i>.ipynb</i> file on TurnItIn on Blackboard by the deadline. Be sure to refresh the page and double check your submission actually went through. <b>Note that you only need to submit your solutions, not all of the other recommended steps.</b> The recommended steps are meant to serve as a guide for your thinking process.</li>\n",
    "            <br>\n",
    "        </ol>\n",
    "        <br>\n",
    "        <hr style=\"border: 10px solid black\">\n",
    "        <br>\n",
    "        <li><b>Grading</b></li>\n",
    "        <br>\n",
    "        <li>There are four possible scores you can get from submitting this assignment on time (submitting a blank file or one without any apparent effort does not count). Note that the rubric is designed to incentivize you to go for $100%$ mastery of the material, as the little details matter in programming.</li>\n",
    "        <br>\n",
    "        <ul>\n",
    "            <li>Grade of $5$ out of $5$ - perfect submission with no significant errors</li>\n",
    "            <br>\n",
    "            <li>Grade of $4$ out of $5$ - near perfect submission with one or more significant errors</li>\n",
    "            <br>\n",
    "            <li>Grade of $2$ out of $5$ - apparent effort but far from perfect</li>\n",
    "            <br>\n",
    "            <li>Grade of $0$ out of $5$ - no submission or no apparent effort</li>\n",
    "            <br>\n",
    "        </ul>\n",
    "    </ul>\n",
    "</font>"
   ]
  },
  {
   "cell_type": "markdown",
   "metadata": {},
   "source": [
    "<hr style=\"border: 20px solid black\">"
   ]
  },
  {
   "cell_type": "markdown",
   "metadata": {},
   "source": [
    "<h1>Before You Begin</h1>\n",
    "<br>\n",
    "<font size=\"+1\">\n",
    "    <ul>\n",
    "        <li>Please read: <b>01_Portfolio_Optimization.ipynb</b></li>\n",
    "        <br>\n",
    "        <li>Please read: <b>02_Indexing_and_the_Rise_of_ETFs.ipynb</b></li>\n",
    "        <br>\n",
    "    </ul>\n",
    "</font>"
   ]
  },
  {
   "cell_type": "markdown",
   "metadata": {},
   "source": [
    "<hr style=\"border: 20px solid black\">"
   ]
  },
  {
   "cell_type": "markdown",
   "metadata": {},
   "source": [
    "<h1>Imports</h1>\n",
    "<br>\n",
    "<font size=\"+1\">\n",
    "    <ul>\n",
    "        <li>Put your imports below.</li>\n",
    "        <br>\n",
    "        <li>Import Numpy and Pandas and CVXPY</li>\n",
    "        <br>\n",
    "    </ul>\n",
    "</font>"
   ]
  },
  {
   "cell_type": "code",
   "execution_count": 1,
   "metadata": {},
   "outputs": [],
   "source": [
    "import numpy as np\n",
    "import pandas as pd\n",
    "import cvxpy as cp"
   ]
  },
  {
   "cell_type": "markdown",
   "metadata": {},
   "source": [
    "<hr style=\"border: 20px solid black\">"
   ]
  },
  {
   "cell_type": "markdown",
   "metadata": {},
   "source": [
    "<h1>Questions</h1>"
   ]
  },
  {
   "cell_type": "markdown",
   "metadata": {},
   "source": [
    "<h2>Optimal Bond Allocation for the USC Investment Office</h2>\n",
    "<br>\n",
    "<font size=\"+1\">\n",
    "    <ul>\n",
    "        <li>Assume the <a href=\"http://departmentsdirectory.usc.edu/investment_office.html\">USC Investment Office</a> has decided they want to allocate $\\$100,000$ of the endowment fund into two different bonds: a corporate bond, and a government bond. The bonds have the following</li>\n",
    "        <br>\n",
    "        <ul>\n",
    "        <li><a href=\"https://www.investopedia.com/terms/b/bond-yield.asp\">yield</a> (coupon relative to current price),</li>\n",
    "        <br>\n",
    "        <li>risk level (some KPI statistic that measures risk),</li>\n",
    "        <br>\n",
    "        <li>and <a href=\"https://en.wikipedia.org/wiki/Bond_(finance)#Maturity\">maturity</a> (time before your principal is returned).</li>\n",
    "        <br>\n",
    "        </ul>\n",
    "        <li><table>\n",
    "  <tr>\n",
    "    <th>Bond</th>\n",
    "    <th>Yield</th>\n",
    "    <th>Risk Level</th>\n",
    "    <th>Maturity</th>\n",
    "  </tr>\n",
    "  <tr>\n",
    "    <td>Corporate</td>\n",
    "    <td>$4\\%$</td>\n",
    "    <td>2</td>\n",
    "    <td>3 years</td>\n",
    "  </tr>\n",
    "  <tr>\n",
    "    <td>Government</td>\n",
    "    <td>$3\\%$</td>\n",
    "    <td>1</td>\n",
    "    <td>4 years</td>\n",
    "  </tr>\n",
    "</table></li>\n",
    "        <br>\n",
    "        <li>One of the endowment's investment officer would like allocate the $\\$100,000$ slice of the endowment so that</li>\n",
    "        <br>\n",
    "        <ul>\n",
    "            <li>the <b>average</b> risk level of the portfolio is at most $1.5$,</li>\n",
    "            <br>\n",
    "            <li>the <b>average</b> maturity is at most $3.6$ years,</li>\n",
    "            <br>\n",
    "            <li>and any amount not invested in the bonds will be kept in a cash account that is assumed to generate no interest and does not contribute to the average risk level; that is, assume cash has zero yield, zero risk level, and zero maturity.</li>\n",
    "            <br>\n",
    "        </ul>\n",
    "        <li style=\"color:blue\">The goal of this exercise is to formulate and solve a linear optimization problem.</li>\n",
    "        <br>\n",
    "        <li style=\"color:red\">NOT REQUIRED: How might you write these objectives and constraints in matrix notation?</li>\n",
    "        <br>\n",
    "    </ul>\n",
    "</font>"
   ]
  },
  {
   "cell_type": "markdown",
   "metadata": {},
   "source": [
    "<h3>Decision Variables</h3>\n",
    "<br>\n",
    "<font size=\"+1\">\n",
    "    <ul>\n",
    "        <li>What are the decision variables and how should you formulate them?</li>\n",
    "        <br>\n",
    "    </ul>\n",
    "</font>"
   ]
  },
  {
   "cell_type": "code",
   "execution_count": 2,
   "metadata": {},
   "outputs": [],
   "source": [
    "portfolio_weights = cp.Variable(3, nonneg=True)\n",
    "\n",
    "weight_Corp = portfolio_weights[0]\n",
    "\n",
    "weight_Gov = portfolio_weights[1]\n",
    "\n",
    "weight_Cash = portfolio_weights[2]"
   ]
  },
  {
   "cell_type": "markdown",
   "metadata": {},
   "source": [
    "<h3>Objective</h3>\n",
    "<br>\n",
    "<font size=\"+1\">\n",
    "    <ul>\n",
    "        <li>What is the objective USC's investment office seeks to optimize (maximize or minimize) and how should they formulate the objective using the decision variables and the parameters about the bonds?</li>\n",
    "        <br>\n",
    "    </ul>\n",
    "</font>"
   ]
  },
  {
   "cell_type": "markdown",
   "metadata": {},
   "source": [
    "- We want to maximize the expected return while controlling that the risk level of the entire portfolio is no higher than 1.5"
   ]
  },
  {
   "cell_type": "code",
   "execution_count": 3,
   "metadata": {},
   "outputs": [],
   "source": [
    "expected_return = weight_Corp *0.04 + weight_Gov * 0.03 + weight_Cash * 0\n",
    "\n",
    "objective = cp.Maximize(expected_return)"
   ]
  },
  {
   "cell_type": "markdown",
   "metadata": {},
   "source": [
    "<h3>Constraints</h3>\n",
    "<br>\n",
    "<font size=\"+1\">\n",
    "    <ul>\n",
    "        <li>What are the constraints imposed by USC's investment office, and how should they be formulated using the decision variables and the parameters about the bonds?</li>\n",
    "        <br>\n",
    "        <ul>\n",
    "            <li><i>Hint: the average risk level is equal to $\\frac{\\text{\\$ of risk}}{\\text{\\$ total}}$, and $\\text{\\$ of risk}$ equals the sum of the products of the risk level for a given bond and the dollars allocated to a given bond</i></li>\n",
    "            <br>\n",
    "            <li><i>Hint: the average maturity is equal to $\\frac{\\text{\\$ in maturity}}{\\text{\\$ total}}$, and $\\text{\\$ in maturity}$ equals the sum of the products of the maturity for a given bond and the dollars allocated to a given bond</i></li>\n",
    "            <br>\n",
    "        </ul>\n",
    "    </ul>\n",
    "</font>"
   ]
  },
  {
   "cell_type": "code",
   "execution_count": 4,
   "metadata": {
    "scrolled": true
   },
   "outputs": [],
   "source": [
    "avg_risk_level = (weight_Corp * 100_000 * 2 + weight_Gov *100_000 * 1) / 100_000\n",
    "\n",
    "avg_maturity = (weight_Corp * 100_000 * 3 + weight_Gov *100_000 * 4) / 100_000"
   ]
  },
  {
   "cell_type": "code",
   "execution_count": 5,
   "metadata": {},
   "outputs": [],
   "source": [
    "constraint_1 = (avg_risk_level <=1.5)\n",
    "\n",
    "constraint_2 = (avg_maturity <= 3.6)\n",
    "\n",
    "constraint_3 = (weight_Corp + weight_Gov + weight_Cash ==1)\n",
    "\n",
    "constraints = [constraint_1, constraint_2, constraint_3]"
   ]
  },
  {
   "cell_type": "markdown",
   "metadata": {},
   "source": [
    "<h3>Solution</h3>\n",
    "<br>\n",
    "<font size=\"+1\">\n",
    "    <ul>\n",
    "        <li>What is the solution to the problem?</li>\n",
    "        <br>\n",
    "        <li>How can you interpret the solution?</li>\n",
    "        <br>\n",
    "    </ul>\n",
    "</font>"
   ]
  },
  {
   "cell_type": "code",
   "execution_count": 6,
   "metadata": {},
   "outputs": [],
   "source": [
    "prob = cp.Problem(objective, constraints)"
   ]
  },
  {
   "cell_type": "code",
   "execution_count": 7,
   "metadata": {},
   "outputs": [
    {
     "data": {
      "text/plain": [
       "0.034999995901758424"
      ]
     },
     "execution_count": 7,
     "metadata": {},
     "output_type": "execute_result"
    }
   ],
   "source": [
    "prob.solve()"
   ]
  },
  {
   "cell_type": "code",
   "execution_count": 8,
   "metadata": {},
   "outputs": [
    {
     "data": {
      "text/plain": [
       "array([0.5, 0.5, 0. ])"
      ]
     },
     "execution_count": 8,
     "metadata": {},
     "output_type": "execute_result"
    }
   ],
   "source": [
    "np.round(portfolio_weights.value,2)"
   ]
  },
  {
   "cell_type": "markdown",
   "metadata": {},
   "source": [
    "- Intepretation: the USC Investment Office should invest 50% of their money in corporate bonds, and 50% in government bonds, which will yield an expected return of 3.5%."
   ]
  },
  {
   "cell_type": "markdown",
   "metadata": {},
   "source": [
    "<br>\n",
    "<font size=\"+1\">\n",
    "    <ul>\n",
    "        <li style=\"color:red\">NOT REQUIRED: If you want an extra challenge, forumlate this problem in matrix notation and then use CVXPY to solve.</li>\n",
    "        <br>\n",
    "    </ul>\n",
    "</font>"
   ]
  },
  {
   "cell_type": "markdown",
   "metadata": {},
   "source": [
    "<hr style=\"border: 20px solid black\">"
   ]
  },
  {
   "cell_type": "markdown",
   "metadata": {},
   "source": [
    "<h2>Bond Dedication</h2>\n",
    "<br>\n",
    "<font size=\"+1\">\n",
    "    <ul>\n",
    "        <li>Even if you aren't interest in bonds, I claim the basics are very important to know for all aspects of business.</li>\n",
    "        <br>\n",
    "        <li>Why? </li>\n",
    "        <br>\n",
    "        <ul>\n",
    "            <li>Because a bond is a fancy word for a type of loan.</li>\n",
    "            <br>\n",
    "            <li>Everyone interacts with loans if they have a credit card, if they have a mortgage, or if they are involved in any type of funding for a business.</li>\n",
    "            <br>\n",
    "            <li>Using the vocabulary of bonds, one can say that selling a bond is equivalent to taking out a loan or borrowing capital, and buying a bond is equivalent to lending capital.</li>\n",
    "            <br>\n",
    "        </ul>\n",
    "        <hr style=\"border: 10px solid black\">\n",
    "        <br>\n",
    "        <li style=\"color:blue\">A common application of optimization for decision making within a company is to cover <b>known</b> liabilities (unknown liabilities are a different story) by constructing a <b>dedicated</b> fixed-income (bond) portfolio.</li>\n",
    "        <br>\n",
    "        <li style=\"color:blue\">A <b>dedicated</b> bond portfolio is a portfolio of bonds constructed today with cash flows that offset the liabilities.</li>\n",
    "        <br>\n",
    "        <li style=\"color:blue\">Often, when the liabilities span multiple years, many companies make the simplifying assumption that the only sources of risk are changes in interest rates (more specifically, the term structure of interest rates).</li>\n",
    "        <br>\n",
    "        <li>Consider a business facing the general problem of funding a stream of liabilities, such as labor costs, or the planning of an acquisition, expansion, product development, or other operational costs, that extends over the future.</li>\n",
    "        <br>\n",
    "        <li>Assume you have a forecast of future liabilities, which is reasonably accurate (not so easy to do in practice).</li>\n",
    "        <br>\n",
    "        <hr style=\"border: 10px solid black\">\n",
    "        <br>\n",
    "        <li>Specifically, suppose a pension fund needs to cover some liabilities, due to people retiring, in the next six years.</li>\n",
    "        <br>\n",
    "        <li>The cash requirements (in millions) needing to be funded are:<table>\n",
    "  <tr>\n",
    "    <th>Year</th>\n",
    "    <th>1</th>\n",
    "    <th>2</th>\n",
    "    <th>3</th>\n",
    "      <th>4</th>\n",
    "      <th>5</th>\n",
    "      <th>6</th>\n",
    "  </tr>\n",
    "  <tr>\n",
    "    <td>Liability Needing To Be Covered</td>\n",
    "    <td>100</td>\n",
    "    <td>200</td>\n",
    "    <td>800</td>\n",
    "      <td>100</td>\n",
    "      <td>800</td>\n",
    "      <td>1200</td>\n",
    "  </tr>\n",
    "            </table></li>\n",
    "        <br>\n",
    "        <li>Assume the pension fund can invest in the following ten government bonds of various maturities with the given cash flows and current prices (both in millions): <table>\n",
    "  <tr>\n",
    "    <th>Bond $\\downarrow$,  Year $\\rightarrow$</th>\n",
    "    <th>1</th>\n",
    "    <th>2</th>\n",
    "    <th>3</th>\n",
    "      <th>4</th>\n",
    "      <th>5</th>\n",
    "      <th>6</th>\n",
    "      <th>Price</th>\n",
    "  </tr>\n",
    "  <tr>\n",
    "    <td>Bond 1</td>\n",
    "    <td>10</td>\n",
    "    <td>10</td>\n",
    "    <td>10</td>\n",
    "      <td>10</td>\n",
    "      <td>10</td>\n",
    "      <td>100+10</td>\n",
    "      <td>109</td>\n",
    "  </tr>\n",
    "              <tr>\n",
    "    <td>Bond 2</td>\n",
    "    <td>7</td>\n",
    "    <td>7</td>\n",
    "    <td>7</td>\n",
    "      <td>7</td>\n",
    "      <td>7</td>\n",
    "      <td>100+7</td>\n",
    "      <td>94.8</td>\n",
    "  </tr>\n",
    "              <tr>\n",
    "    <td>Bond 3</td>\n",
    "    <td>8</td>\n",
    "    <td>8</td>\n",
    "    <td>8</td>\n",
    "      <td>8</td>\n",
    "      <td>8</td>\n",
    "      <td>100+8</td>\n",
    "      <td>99.5</td>\n",
    "  </tr>\n",
    "              <tr>\n",
    "    <td>Bond 4</td>\n",
    "    <td>6</td>\n",
    "    <td>6</td>\n",
    "    <td>6</td>\n",
    "      <td>6</td>\n",
    "      <td>100+6</td>\n",
    "      <td>n/a</td>\n",
    "      <td>93.1</td>\n",
    "  </tr>\n",
    "              <tr>\n",
    "    <td>Bond 5</td>\n",
    "    <td>7</td>\n",
    "    <td>7</td>\n",
    "    <td>7</td>\n",
    "      <td>7</td>\n",
    "      <td>100+7</td>\n",
    "      <td>n/a</td>\n",
    "      <td>97.2</td>\n",
    "  </tr>\n",
    "              <tr>\n",
    "    <td>Bond 6</td>\n",
    "    <td>5</td>\n",
    "    <td>5</td>\n",
    "    <td>5</td>\n",
    "      <td>100+5</td>\n",
    "      <td>n/a</td>\n",
    "      <td>n/a</td>\n",
    "      <td>92.7</td>\n",
    "  </tr>\n",
    "              <tr>\n",
    "    <td>Bond 7</td>\n",
    "    <td>10</td>\n",
    "    <td>10</td>\n",
    "    <td>100+10</td>\n",
    "      <td>n/a</td>\n",
    "      <td>n/a</td>\n",
    "      <td>n/a</td>\n",
    "      <td>110</td>\n",
    "  </tr>\n",
    "              <tr>\n",
    "    <td>Bond 8</td>\n",
    "    <td>8</td>\n",
    "    <td>8</td>\n",
    "    <td>100+8</td>\n",
    "      <td>n/a</td>\n",
    "      <td>n/a</td>\n",
    "      <td>n/a</td>\n",
    "      <td>104</td>\n",
    "  </tr>\n",
    "              <tr>\n",
    "    <td>Bond 9</td>\n",
    "    <td>7</td>\n",
    "    <td>100+7</td>\n",
    "    <td>n/a</td>\n",
    "      <td>n/a</td>\n",
    "      <td>n/a</td>\n",
    "      <td>n/a</td>\n",
    "      <td>102</td>\n",
    "  </tr>\n",
    "              <tr>\n",
    "    <td>Bond 10</td>\n",
    "    <td>100</td>\n",
    "    <td>n/a</td>\n",
    "    <td>n/a</td>\n",
    "      <td>n/a</td>\n",
    "      <td>n/a</td>\n",
    "      <td>n/a</td>\n",
    "      <td>95.2</td>\n",
    "  </tr>\n",
    "            </table>\n",
    "        </li>\n",
    "        <br>\n",
    "        <li>Find the least expensive portfolio of bonds whose cash flows will be sufficient to cover the cash requirements. This portfolio of bonds is the <b>dedicated portfolio</b>.</li>\n",
    "        <br>\n",
    "        <li>After every year, the dedicated bond portfolio must cover the liability for that year, but it can also pay more than the liability, which is called a surplus.</li>\n",
    "        <br>\n",
    "        <li>The yearly surplus is something the pension fund can choose to control.</li>\n",
    "        <br>\n",
    "        <li>Assume any surplus cash can be carried from one year to the next, but will earn zero interest.</li>\n",
    "        <br>\n",
    "        <li style=\"color:blue\">The goal of this exercise is to formulate and solve a linear optimization problem.</li>\n",
    "        <br>\n",
    "        <hr style=\"border: 10px solid black\">\n",
    "        <br>\n",
    "        <li style=\"color:red\">NOT REQUIRED: How might you write these objectives and constraints in matrix notation? It isn't necessary to use a matrix formulation, however it will considerably reduce the number of things you need to type.</li>\n",
    "        <br>\n",
    "        <li style=\"color:red\">NOT REQUIRED: How might you write these objectives and constraints in matrix notation using an <i>abstract</i> formulation?</li>\n",
    "        <br>\n",
    "        <hr style=\"border: 10px solid black\">\n",
    "        <br>\n",
    "    </ul>\n",
    "</font>"
   ]
  },
  {
   "cell_type": "markdown",
   "metadata": {},
   "source": [
    "<h3>Decision Variables</h3>\n",
    "<br>\n",
    "<font size=\"+1\">\n",
    "    <ul>\n",
    "        <li>What are the decision variables and how should you formulate them?</li>\n",
    "        <br>\n",
    "    </ul>\n",
    "</font>"
   ]
  },
  {
   "cell_type": "code",
   "execution_count": 9,
   "metadata": {},
   "outputs": [],
   "source": [
    "portfolio_units = cp.Variable(10, nonneg=True)\n",
    "\n",
    "unit_1 = portfolio_units[0]\n",
    "unit_2 = portfolio_units[1]\n",
    "unit_3 = portfolio_units[2]\n",
    "unit_4 = portfolio_units[3]\n",
    "unit_5 = portfolio_units[4]\n",
    "unit_6 = portfolio_units[5]\n",
    "unit_7 = portfolio_units[6]\n",
    "unit_8 = portfolio_units[7]\n",
    "unit_9 = portfolio_units[8]\n",
    "unit_10 = portfolio_units[9]\n",
    "\n",
    "\n",
    "surplus = cp.Variable(6, nonneg = True)\n",
    "\n",
    "surplus_year_1 = surplus[0]\n",
    "surplus_year_2 = surplus[1]\n",
    "surplus_year_3 = surplus[2]\n",
    "surplus_year_4 = surplus[3]\n",
    "surplus_year_5 = surplus[4]\n",
    "surplus_year_6 = surplus[5]"
   ]
  },
  {
   "cell_type": "markdown",
   "metadata": {},
   "source": [
    "<h3>Objective</h3>\n",
    "<br>\n",
    "<font size=\"+1\">\n",
    "    <ul>\n",
    "        <li>What is the objective that the pension fund seeks to optimize (maximize or minimize) and how should they formulate the objective using the decision variables and the parameters about the bonds?</li>\n",
    "        <br>\n",
    "    </ul>\n",
    "</font>"
   ]
  },
  {
   "cell_type": "code",
   "execution_count": 10,
   "metadata": {},
   "outputs": [],
   "source": [
    "objective = cp.Minimize(unit_1 * 109 + unit_2 * 94.8 + unit_3 * 99.5 + unit_4 * 93.1 + unit_5 * 97.2 +\n",
    "                       unit_6 * 92.7 + unit_7 * 110 + unit_8 * 104 + unit_9 * 102 + unit_10 * 95.2)"
   ]
  },
  {
   "cell_type": "markdown",
   "metadata": {},
   "source": [
    "<h3>Constraints</h3>\n",
    "<br>\n",
    "<font size=\"+1\">\n",
    "    <ul>\n",
    "        <li>What are the constraints imposed the cash flow liabilities on the pension fund, and how should they be formulated using the decision variables and the parameters about the bonds used to construct the dedicated portfolio, and how does the surplus affect these consraints?</li>\n",
    "        <br>\n",
    "        <ul>\n",
    "            <li><i>Hint: for all years, the pension fund needs the cash flow coming from the dedicated bond portfolio to equal the liability plus some surplus;</i></li>\n",
    "            <br>\n",
    "            <ul>\n",
    "                <li><i>and the surplus gained in a given year gets carried (with zero interest) to the cash flow coming from the dedicated bond portfolio in the subsequent year.</i></li>\n",
    "            <br>\n",
    "            </ul>\n",
    "        </ul>\n",
    "    </ul>\n",
    "</font>"
   ]
  },
  {
   "cell_type": "code",
   "execution_count": 11,
   "metadata": {},
   "outputs": [],
   "source": [
    "constraint_1 = [unit_1 * 10 + unit_2 * 7 + unit_3 * 8 \n",
    "                + unit_4 * 6 + unit_5 * 7 + unit_6 * 5 +\n",
    "unit_7 * 10 + unit_8 * 8 + unit_9 * 7 + unit_10 * 100 == 100 + surplus_year_1]\n",
    "\n",
    "\n",
    "constraint_2 = [unit_1*10 + unit_2*7 + unit_3*8 \n",
    "                 + unit_4*6 + unit_5*7 + unit_6*5 +unit_7*10 + unit_8*8 + unit_9*107 == 200 + surplus_year_2]\n",
    "\n",
    "constraint_3 = [unit_1*10 + unit_2*7 + unit_3*8 + unit_4*6 + unit_5*7 + unit_6*5 +\n",
    "unit_7*110 + unit_8*108 == 800 + surplus_year_3]\n",
    "\n",
    "\n",
    "constraint_4 = [unit_1*10 + unit_2*7 + unit_3*8 \n",
    "                + unit_4*6 + unit_5*7 + unit_6*105 == 100 + surplus_year_4]\n",
    "\n",
    "constraint_5 = [unit_1*10 + unit_2*7 + unit_3*8 \n",
    "                + unit_4*106 + unit_5*107 == 800 + surplus_year_5]\n",
    "\n",
    "\n",
    "constraint_6 = [unit_1*110 + unit_2*107 + unit_3*108 == 1200 + surplus_year_6]"
   ]
  },
  {
   "cell_type": "code",
   "execution_count": 12,
   "metadata": {},
   "outputs": [],
   "source": [
    "constraints = constraint_1 + constraint_2 + constraint_3 + constraint_4 + constraint_5 + constraint_6"
   ]
  },
  {
   "cell_type": "markdown",
   "metadata": {},
   "source": [
    "<h3>Solution</h3>\n",
    "<br>\n",
    "<font size=\"+1\">\n",
    "    <ul>\n",
    "        <li>What is the solution to the problem?</li>\n",
    "        <br>\n",
    "        <li>How can you interpret the solution?</li>\n",
    "        <br>\n",
    "    </ul>\n",
    "</font>"
   ]
  },
  {
   "cell_type": "code",
   "execution_count": 13,
   "metadata": {},
   "outputs": [],
   "source": [
    "prob = cp.Problem(objective, constraints)"
   ]
  },
  {
   "cell_type": "code",
   "execution_count": 14,
   "metadata": {},
   "outputs": [
    {
     "data": {
      "text/plain": [
       "2381.1388317859164"
      ]
     },
     "execution_count": 14,
     "metadata": {},
     "output_type": "execute_result"
    }
   ],
   "source": [
    "prob.solve()"
   ]
  },
  {
   "cell_type": "code",
   "execution_count": 15,
   "metadata": {},
   "outputs": [
    {
     "data": {
      "text/plain": [
       "array([ 0.  , 11.21,  0.  ,  6.81,  0.  ,  0.  ,  0.  ,  6.3 ,  0.28,\n",
       "        0.  ])"
      ]
     },
     "execution_count": 15,
     "metadata": {},
     "output_type": "execute_result"
    }
   ],
   "source": [
    "np.round(portfolio_units.value, 2)"
   ]
  },
  {
   "cell_type": "markdown",
   "metadata": {},
   "source": [
    "- This means that the least expensive portfolio is about 2381 million dollars, which contains: 11.21 units of bond 2, 6.81 units of bond 4, 6.3 units of bond 8, 0.28 units of bond 9."
   ]
  },
  {
   "cell_type": "markdown",
   "metadata": {},
   "source": [
    "<hr style=\"border: 20px solid black\">"
   ]
  },
  {
   "cell_type": "markdown",
   "metadata": {},
   "source": [
    "<h3 style=\"color:red\">ASIDE: Abstract (General) Formulation - Linear Optimization Model for Bond Dedication</h3>"
   ]
  },
  {
   "cell_type": "markdown",
   "metadata": {},
   "source": [
    "<br>\n",
    "<font size=\"+1\">\n",
    "    <ul>\n",
    "        <li style=\"color:red\">NOT REQUIRED: If you want an extra challenge, forumlate this problem in matrix notation for an abstract formulation, and then use CVXPY to solve.</li>\n",
    "        <br>\n",
    "    </ul>\n",
    "</font>"
   ]
  },
  {
   "cell_type": "markdown",
   "metadata": {},
   "source": [
    "<h3 style=\"color:green\">ASIDE: Some Practical Details About Bonds</h3>\n",
    "<br>\n",
    "<font size=\"+1\" style=\"color:green\">\n",
    "    <ul>\n",
    "        <li><b>YOU MAY SKIP THIS ENTIRE SUB-SECTION, IT IS NOT NECESSARY TO COMPLETE THE PROBLEM.</b></li>\n",
    "        <br>\n",
    "        <li>There are many particular details about the way bonds are quoted and traded in actual exchanges. This is known as bond market microstructure.</li>\n",
    "        <br>\n",
    "        <li>Specifically, we are only going to discuss some shallow facts regarding vanilla treasury bonds.</li>\n",
    "        <br>\n",
    "        <li style=\"color:blue\"><b>Principal Value, Coupon Payments, Clean and Dirty Prices</b></li>\n",
    "        <br>\n",
    "        <li>Below are some definitions.</li>\n",
    "        <br>\n",
    "        <ul>\n",
    "            <li>The <b>principal value</b> (also known as <b>par</b> or simply <b>principal</b>) of a bond is the amount that the bond issuer agrees to repay the bondholder.</li>\n",
    "            <br>\n",
    "            <li>The <b>term to maturity</b> of a bond is the time remaining until principal payment.</li>\n",
    "            <br>\n",
    "            <li>The <b>maturity date</b> of a bond is the date when the issuer will pay the principal.</li>\n",
    "            <br>\n",
    "            <li>The <b>coupon rate</b> or <b>nominal rate</b> of a bond is the annual interest rate that the issuer pays the bondholder.</li>\n",
    "            <br>\n",
    "        </ul>\n",
    "        <li>Treasury bonds pay their coupons semiannually.</li>\n",
    "        <br>\n",
    "        <ul>\n",
    "            <li>For example, a bond with an $8\\%$ coupon rate and a principal of $\\$1,000$ will pay a $\\$40 = \\$1,000 \\times \\frac{0.08}{2}$ installment to the holder every six months. At the maturity date, it will pay the $\\$40$ installment plus the $\\$1,000$ principal.</li>\n",
    "            <br>\n",
    "        </ul>\n",
    "        <li>When an investor purchases a bond between coupon payments, the investor must compensate the seller of the bond for the coupon interest earned since the last coupon payment. This is called the <b>accrued interest</b> and is computed based on the proportion of time since the last coupon payment.</li>\n",
    "        <br>\n",
    "        <li>The convention for U.S. treasuries is not to include the accrued interest in the price quote. This price without the accrued interest is called the <b>clean price</b>.</li>\n",
    "        <br>\n",
    "        <li>It is customary to present the price quote as a percentage of the par value of the bond.</li>\n",
    "        <br>\n",
    "        <li>The clean price plus the accrued interest is called the <b>dirty price</b> or <b>full price</b>.</li>\n",
    "        <br>\n",
    "        <li>Consider an example.</li>\n",
    "        <br>\n",
    "        <ul>\n",
    "            <li>Suppose on February $15^{th}$, 2051, investor $B$ buys a treasury bond with $\\$10,000$ face value (par), $5.5\\%$ coupon rate that matures on January 31, 2053.</li>\n",
    "            <br>\n",
    "            <li>In this case, the coupon payment is $\\$275 = \\frac{0.055}{2} \\times \\$10,000$ and the accrued interest is $\\frac{15}{181}\\times 275 = 22.79$.</li>\n",
    "            <br>\n",
    "            <li>Assume the price quote on February 15, 2051 is $101.45$. Then the full price of the bond, that is, the price paid by the buyer to the seller, is $\\$ 10,114.5 + \\$ 22.79 = \\$ 10,137.29$.</li>\n",
    "            <br>\n",
    "        </ul>\n",
    "        <li style=\"color:blue\"><b>Yield Curve and Term Structure</b></li>\n",
    "        <br>\n",
    "        <li>Recall, the <b>yield</b> of a bond is the interest rate that makes the discounted value of the cash flows match the current price of the bond. In a way, it is the <i>implied interest rate</i> (similar to implied volatility being the volatility that makes the Black-Scholes pricing formula match the current price of the option).</li>\n",
    "        <br>\n",
    "        <li>By convention, the yield is quoted on an annualized basis.</li>\n",
    "        <br>\n",
    "        <li>The <b>treasury yield curve</b> is the curve of yields for <b>on-the-run</b> (most recently auctioned, i.e hot-off-the-press) treasuries.</li>\n",
    "        <br>\n",
    "        <li>The <b>term structure of interest rates</b> is the curve of yields on a risk-free <b>zero-coupon</b> bond as a function of maturity. Note that zero-coupon bonds do not actually trade, except the edge case of <a href=\"https://www.treasurydirect.gov/instit/marketables/strips/strips.htm\">Treasury STRIPS</a>.</li>\n",
    "        <br>\n",
    "        <li>Note: Depending on how you precisely define the yield curve and term structure of rates, it can be the case that the yield curve $\\neq$ term structure of interest rates.</li>\n",
    "        <br>\n",
    "        <ul>\n",
    "            <li>This is because treasuries with maturity greater than one year are not zero-coupon bonds.</li>\n",
    "            <br>\n",
    "            <li>Specifically, the term structure of interest rates is actually a theoretical construct that must be estimated from actual traded bonds.</li>\n",
    "            <br>\n",
    "            <li>This begs the question of how to estimate the term structure of interest rates?</li>\n",
    "            <br>\n",
    "        </ul>\n",
    "        <li>A quick and dirty approach is to completely ignore the subtle difference between term structure of rates and yield curve and use the yield curve as a proxy for the term structure of interest rates.</li>\n",
    "        <br>\n",
    "        <li>Another approach is to use a <b>bootstrapping</b> approach.</li>\n",
    "        <br>\n",
    "        <ul>\n",
    "            <li>Use several coupon bonds with various maturities.</li>\n",
    "            <br>\n",
    "            <li>Determine the spot rate (present value) implied by the bond with the shortest maturity.</li>\n",
    "            <br>\n",
    "            <li>Use that knowledge to compute the spot rate implied by the bond with the next shortest maturity, and so on.</li>\n",
    "            <br>\n",
    "        </ul>\n",
    "        <li>Another more elaborate approach to estimating the term structure is to consider all bonds with similar characteristics available in the market and perform a regression analysis. You can learn more about this approach in <a href=\"https://www.google.com/books/edition/The_Econometrics_of_Financial_Markets/7Gkri6HWWkgC?hl=en&gbpv=1&printsec=frontcover\">The Econometrics of Financial Markets</a>.</li>\n",
    "        <li>If you want to read more, see <a href=\"https://www.pimco.com/en-us/resources/education/everything-you-need-to-know-about-bonds/\">PIMCO's notes on everything you need to know about bonds.</a></li>\n",
    "        <br>\n",
    "        <li>If you want to read more about corporate or municipal bond markets, see <a href=\"https://papers.ssrn.com/sol3/papers.cfm?abstract_id=2661801\">Transaction Costs, Trade Throughs, and Riskless Principal Trading in Corporate Bond Markets</a> and <a href=\"https://www.tandfonline.com/doi/abs/10.2469/faj.v71.n6.3\">The Structure of Trading in Bond Markets</a></li>\n",
    "        <br>\n",
    "    </ul>\n",
    "</font>"
   ]
  },
  {
   "cell_type": "markdown",
   "metadata": {},
   "source": [
    "<hr style=\"border: 20px solid black\">"
   ]
  },
  {
   "cell_type": "markdown",
   "metadata": {},
   "source": [
    "<h2>Quadratic Asset Allocation</h2>\n",
    "<br>\n",
    "<font size=\"+1\">\n",
    "    <ul>\n",
    "        <li>Assume you have estimated, with the best possible machine learning algorithm, the one-year correlations and standard deviations of the following groups of large stocks, small stocks, and bonds.</li>\n",
    "        <br>\n",
    "        <li><table>\n",
    "  <tr>\n",
    "    <th bgcolor=\"dodgerblue\">Correlations</th>\n",
    "    <th>Large Stocks</th>\n",
    "    <th>Small Stocks</th>\n",
    "    <th>Bonds</th>\n",
    "      <th bgcolor=\"pink\">Standard Deviation</th>\n",
    "  </tr>\n",
    "  <tr>\n",
    "    <td>Large Stocks</td>\n",
    "    <td bgcolor=\"dodgerblue\" >1</td>\n",
    "    <td bgcolor=\"dodgerblue\">0.6</td>\n",
    "    <td bgcolor=\"dodgerblue\">0.2</td>\n",
    "      <td bgcolor=\"pink\">0.12</td>\n",
    "  </tr>\n",
    "  <tr>\n",
    "    <td>Small Stocks</td>\n",
    "    <td bgcolor=\"dodgerblue\">0.6</td>\n",
    "    <td bgcolor=\"dodgerblue\">1</td>\n",
    "    <td bgcolor=\"dodgerblue\">0.5</td>\n",
    "      <td bgcolor=\"pink\">0.2</td>\n",
    "  </tr>\n",
    "  <tr>\n",
    "    <td>Bonds</td>\n",
    "    <td bgcolor=\"dodgerblue\">0.2</td>\n",
    "    <td bgcolor=\"dodgerblue\">0.5</td>\n",
    "    <td bgcolor=\"dodgerblue\">1</td>\n",
    "      <td bgcolor=\"pink\">0.05</td>\n",
    "  </tr>\n",
    "</table></li>\n",
    "        <br>\n",
    "        <li>Recall the covariance of asset $i$ and asset $j$ equals the product of the correlation of asset $i$ and $j$ with the standard deviation of asset $i$ and the standard deviation of asset $j$.</li>\n",
    "        <br>\n",
    "        <li>After doing some computations, you compute the covariances corresponding to the different asset classes are as follows: </li>\n",
    "        <br>\n",
    "        <li><table>\n",
    "  <tr>\n",
    "    <th bgcolor=\"orange\">Covariance</th>\n",
    "    <th>Large Stocks</th>\n",
    "    <th>Small Stocks</th>\n",
    "    <th>Bonds</th>\n",
    "  </tr>\n",
    "  <tr>\n",
    "    <td>Large Stocks</td>\n",
    "    <td bgcolor=\"orange\" >0.0144</td>\n",
    "    <td bgcolor=\"orange\">0.0144</td>\n",
    "    <td bgcolor=\"orange\">0.0012</td>\n",
    "  </tr>\n",
    "  <tr>\n",
    "    <td>Small Stocks</td>\n",
    "    <td bgcolor=\"orange\">0.0144</td>\n",
    "    <td bgcolor=\"orange\">0.04</td>\n",
    "    <td bgcolor=\"orange\">0.005</td>\n",
    "  </tr>\n",
    "     <tr>\n",
    "    <td>Bonds</td>\n",
    "    <td bgcolor=\"orange\">0.0012</td>\n",
    "    <td bgcolor=\"orange\">0.005</td>\n",
    "    <td bgcolor=\"orange\">0.0025</td>\n",
    "  </tr>\n",
    "</table></li>\n",
    "        <br>\n",
    "        <li>Given the above estimates, determine the asset allocation that produces the smallest amount of risk.</li>\n",
    "        <br>\n",
    "        <li>Specifically, find a portfolio comprised of these three asset classes whose return has the lowest variance.</li>\n",
    "        <br>\n",
    "        <li>Assume the portfolio can only hold long positions in each of the three asset classes and you are to be fully invested.</li>\n",
    "        <br>\n",
    "        <li style=\"color:blue\">The goal of this exercise is to formulate and solve a quadratic (convex) optimization problem.</li>\n",
    "        <br>\n",
    "        <li style=\"color:blue\">CVXPY requires you to write these objectives and constraints in matrix notation.</li>\n",
    "        <br>\n",
    "        <li style=\"color:blue\">In order to formulate this problem, you need to do the following.</li>\n",
    "        <br>\n",
    "        <ul style=\"color:blue\">\n",
    "            <li>First, construct the <b>covariance matrix</b>.</li>\n",
    "            <br>\n",
    "            <li>Next, to construct the objective, you will have to use the <b>cp.quad_form(w, V)</b> method from CVXPY.</li>\n",
    "            <br>\n",
    "            <li>Finally, the problem can be solved <i>\"as usual\"</i>.</li>\n",
    "            <br>\n",
    "        </ul>\n",
    "        <hr style=\"border: 10px solid black\">\n",
    "        <br>\n",
    "        <li style=\"color:red\">NOT REQUIRED: How might you write these objectives and constraints in matrix notation using an <i>abstract</i> formulation?</li>\n",
    "        <br>\n",
    "        <hr style=\"border: 10px solid black\">\n",
    "        <br>\n",
    "    </ul>\n",
    "</font>"
   ]
  },
  {
   "cell_type": "markdown",
   "metadata": {},
   "source": [
    "<h3>Decision Variables</h3>\n",
    "<br>\n",
    "<font size=\"+1\">\n",
    "    <ul>\n",
    "        <li>What are the decision variables and how should you formulate them?</li>\n",
    "        <br>\n",
    "    </ul>\n",
    "</font>"
   ]
  },
  {
   "cell_type": "code",
   "execution_count": 16,
   "metadata": {},
   "outputs": [],
   "source": [
    "std_correlations = pd.DataFrame({'Large Stocks': [1, 0.6, 0.2],\n",
    "                              'Small Stocks': [0.6, 1, 0.5],\n",
    "                                 'Bonds': [0.2, 0.5, 1],\n",
    "                                'Standard Deviation': [0.12, 0.2, 0.5]}, index = ['Large Stocks',  'Small Stocks', 'Bonds'])"
   ]
  },
  {
   "cell_type": "code",
   "execution_count": 17,
   "metadata": {},
   "outputs": [
    {
     "data": {
      "text/html": [
       "<div>\n",
       "<style scoped>\n",
       "    .dataframe tbody tr th:only-of-type {\n",
       "        vertical-align: middle;\n",
       "    }\n",
       "\n",
       "    .dataframe tbody tr th {\n",
       "        vertical-align: top;\n",
       "    }\n",
       "\n",
       "    .dataframe thead th {\n",
       "        text-align: right;\n",
       "    }\n",
       "</style>\n",
       "<table border=\"1\" class=\"dataframe\">\n",
       "  <thead>\n",
       "    <tr style=\"text-align: right;\">\n",
       "      <th></th>\n",
       "      <th>Large Stocks</th>\n",
       "      <th>Small Stocks</th>\n",
       "      <th>Bonds</th>\n",
       "      <th>Standard Deviation</th>\n",
       "    </tr>\n",
       "  </thead>\n",
       "  <tbody>\n",
       "    <tr>\n",
       "      <th>Large Stocks</th>\n",
       "      <td>1.0</td>\n",
       "      <td>0.6</td>\n",
       "      <td>0.2</td>\n",
       "      <td>0.12</td>\n",
       "    </tr>\n",
       "    <tr>\n",
       "      <th>Small Stocks</th>\n",
       "      <td>0.6</td>\n",
       "      <td>1.0</td>\n",
       "      <td>0.5</td>\n",
       "      <td>0.20</td>\n",
       "    </tr>\n",
       "    <tr>\n",
       "      <th>Bonds</th>\n",
       "      <td>0.2</td>\n",
       "      <td>0.5</td>\n",
       "      <td>1.0</td>\n",
       "      <td>0.50</td>\n",
       "    </tr>\n",
       "  </tbody>\n",
       "</table>\n",
       "</div>"
      ],
      "text/plain": [
       "              Large Stocks  Small Stocks  Bonds  Standard Deviation\n",
       "Large Stocks           1.0           0.6    0.2                0.12\n",
       "Small Stocks           0.6           1.0    0.5                0.20\n",
       "Bonds                  0.2           0.5    1.0                0.50"
      ]
     },
     "execution_count": 17,
     "metadata": {},
     "output_type": "execute_result"
    }
   ],
   "source": [
    "std_correlations"
   ]
  },
  {
   "cell_type": "code",
   "execution_count": 18,
   "metadata": {},
   "outputs": [],
   "source": [
    "covariance_matrix = pd.DataFrame({'Large Stocks': [0.0144, 0.0144, 0.0012],\n",
    "                              'Small Stocks': [0.0144, 0.04, 0.005],\n",
    "                                 'Bonds': [0.0012, 0.005, 0.0025]}, index = ['Large Stocks',  'Small Stocks', 'Bonds'])"
   ]
  },
  {
   "cell_type": "code",
   "execution_count": 19,
   "metadata": {},
   "outputs": [
    {
     "data": {
      "text/html": [
       "<div>\n",
       "<style scoped>\n",
       "    .dataframe tbody tr th:only-of-type {\n",
       "        vertical-align: middle;\n",
       "    }\n",
       "\n",
       "    .dataframe tbody tr th {\n",
       "        vertical-align: top;\n",
       "    }\n",
       "\n",
       "    .dataframe thead th {\n",
       "        text-align: right;\n",
       "    }\n",
       "</style>\n",
       "<table border=\"1\" class=\"dataframe\">\n",
       "  <thead>\n",
       "    <tr style=\"text-align: right;\">\n",
       "      <th></th>\n",
       "      <th>Large Stocks</th>\n",
       "      <th>Small Stocks</th>\n",
       "      <th>Bonds</th>\n",
       "    </tr>\n",
       "  </thead>\n",
       "  <tbody>\n",
       "    <tr>\n",
       "      <th>Large Stocks</th>\n",
       "      <td>0.0144</td>\n",
       "      <td>0.0144</td>\n",
       "      <td>0.0012</td>\n",
       "    </tr>\n",
       "    <tr>\n",
       "      <th>Small Stocks</th>\n",
       "      <td>0.0144</td>\n",
       "      <td>0.0400</td>\n",
       "      <td>0.0050</td>\n",
       "    </tr>\n",
       "    <tr>\n",
       "      <th>Bonds</th>\n",
       "      <td>0.0012</td>\n",
       "      <td>0.0050</td>\n",
       "      <td>0.0025</td>\n",
       "    </tr>\n",
       "  </tbody>\n",
       "</table>\n",
       "</div>"
      ],
      "text/plain": [
       "              Large Stocks  Small Stocks   Bonds\n",
       "Large Stocks        0.0144        0.0144  0.0012\n",
       "Small Stocks        0.0144        0.0400  0.0050\n",
       "Bonds               0.0012        0.0050  0.0025"
      ]
     },
     "execution_count": 19,
     "metadata": {},
     "output_type": "execute_result"
    }
   ],
   "source": [
    "covariance_matrix"
   ]
  },
  {
   "cell_type": "code",
   "execution_count": 20,
   "metadata": {},
   "outputs": [],
   "source": [
    "# Decision variables\n",
    "\n",
    "portfolio_weights = cp.Variable(len(std_correlations))\n",
    "\n",
    "weight_Large_Stock = portfolio_weights[0]\n",
    "\n",
    "weight_Small_Stock = portfolio_weights[1]\n",
    "\n",
    "weight_Bond = portfolio_weights[2]"
   ]
  },
  {
   "cell_type": "markdown",
   "metadata": {},
   "source": [
    "<h3>Objective</h3>\n",
    "<br>\n",
    "<font size=\"+1\">\n",
    "    <ul>\n",
    "        <li>What is your objective that you seek to optimize (maximize or minimize) and how should you formulate the objective using the decision variables and the parameters about the asset classes?</li>\n",
    "        <br>\n",
    "    </ul>\n",
    "</font>"
   ]
  },
  {
   "cell_type": "code",
   "execution_count": 21,
   "metadata": {},
   "outputs": [],
   "source": [
    "objective = cp.Minimize(cp.quad_form(portfolio_weights, covariance_matrix))"
   ]
  },
  {
   "cell_type": "markdown",
   "metadata": {},
   "source": [
    "<h3>Constraints</h3>\n",
    "<br>\n",
    "<font size=\"+1\">\n",
    "    <ul>\n",
    "        <li>What are your constraints, and how should they be formulated using the decision variables and the parameters about the asset classes?</li>\n",
    "        <br>\n",
    "    </ul>\n",
    "</font>"
   ]
  },
  {
   "cell_type": "code",
   "execution_count": 22,
   "metadata": {},
   "outputs": [],
   "source": [
    "constraint_no_short_selling = [weight_Large_Stock >= 0,\n",
    "                              weight_Small_Stock >= 0,\n",
    "                              weight_Bond >= 0]\n",
    "\n",
    "constraint_no_leverage = [weight_Large_Stock <= 1,\n",
    "                          weight_Small_Stock <= 1,\n",
    "                          weight_Bond <= 1]\n",
    "\n",
    "constraint_fully_vested = [weight_Large_Stock + weight_Small_Stock + weight_Bond == 1]\n",
    "\n",
    "constraints = constraint_no_short_selling + constraint_no_leverage + constraint_fully_vested"
   ]
  },
  {
   "cell_type": "markdown",
   "metadata": {},
   "source": [
    "<h3>Solution</h3>\n",
    "<br>\n",
    "<font size=\"+1\">\n",
    "    <ul>\n",
    "        <li>What is the solution to the problem?</li>\n",
    "        <br>\n",
    "        <li>How can you interpret the solution?</li>\n",
    "        <br>\n",
    "    </ul>\n",
    "</font>"
   ]
  },
  {
   "cell_type": "code",
   "execution_count": 23,
   "metadata": {},
   "outputs": [],
   "source": [
    "prob = cp.Problem(objective, constraints)"
   ]
  },
  {
   "cell_type": "code",
   "execution_count": 24,
   "metadata": {
    "scrolled": true
   },
   "outputs": [
    {
     "data": {
      "text/plain": [
       "0.002383448275862069"
      ]
     },
     "execution_count": 24,
     "metadata": {},
     "output_type": "execute_result"
    }
   ],
   "source": [
    "prob.solve()"
   ]
  },
  {
   "cell_type": "code",
   "execution_count": 25,
   "metadata": {},
   "outputs": [
    {
     "data": {
      "text/plain": [
       "array([8.96551724e-02, 9.29600321e-22, 9.10344828e-01])"
      ]
     },
     "execution_count": 25,
     "metadata": {},
     "output_type": "execute_result"
    }
   ],
   "source": [
    "portfolio_weights.value"
   ]
  },
  {
   "cell_type": "code",
   "execution_count": 26,
   "metadata": {},
   "outputs": [
    {
     "name": "stdout",
     "output_type": "stream",
     "text": [
      "Optimal portfolio\n",
      "----------------------\n",
      " Investment in Large Stocks : 8.97% of the portfolio\n",
      " Investment in Small Stocks : 0.0% of the portfolio\n",
      " Investment in Bonds : 91.03% of the portfolio\n",
      "----------------------\n",
      "Expected risk    = 4.88%\n"
     ]
    }
   ],
   "source": [
    "try:\n",
    "    prob.solve()\n",
    "    print (\"Optimal portfolio\")\n",
    "    print (\"----------------------\")\n",
    "    for s in range(len(std_correlations)):\n",
    "        print (\" Investment in {} : {}% of the portfolio\".format(std_correlations.index[s],\n",
    "                                                                 round(100*portfolio_weights.value[s],2)))\n",
    "    print (\"----------------------\")\n",
    "    print (\"Expected risk    = {}%\".format(round(100*((cp.quad_form(portfolio_weights.value, covariance_matrix).value)**(1/2)),2)))\n",
    "except:\n",
    "    print (\"Error\")"
   ]
  },
  {
   "cell_type": "markdown",
   "metadata": {},
   "source": [
    "<hr style=\"border: 20px solid black\">"
   ]
  }
 ],
 "metadata": {
  "hide_input": false,
  "kernelspec": {
   "display_name": "Python 3",
   "language": "python",
   "name": "python3"
  },
  "language_info": {
   "codemirror_mode": {
    "name": "ipython",
    "version": 3
   },
   "file_extension": ".py",
   "mimetype": "text/x-python",
   "name": "python",
   "nbconvert_exporter": "python",
   "pygments_lexer": "ipython3",
   "version": "3.7.4"
  },
  "toc": {
   "base_numbering": 1,
   "nav_menu": {},
   "number_sections": true,
   "sideBar": true,
   "skip_h1_title": false,
   "title_cell": "Table of Contents",
   "title_sidebar": "Contents",
   "toc_cell": true,
   "toc_position": {
    "height": "calc(100% - 180px)",
    "left": "10px",
    "top": "150px",
    "width": "166.094px"
   },
   "toc_section_display": true,
   "toc_window_display": true
  }
 },
 "nbformat": 4,
 "nbformat_minor": 5
}
