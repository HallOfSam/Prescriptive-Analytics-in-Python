{
 "cells": [
  {
   "cell_type": "markdown",
   "metadata": {
    "toc": true
   },
   "source": [
    "<h1>Table of Contents<span class=\"tocSkip\"></span></h1>\n",
    "<div class=\"toc\"><ul class=\"toc-item\"><li><span><a href=\"#Instructions\" data-toc-modified-id=\"Instructions-1\"><span class=\"toc-item-num\">1&nbsp;&nbsp;</span>Instructions</a></span></li><li><span><a href=\"#Before-You-Begin\" data-toc-modified-id=\"Before-You-Begin-2\"><span class=\"toc-item-num\">2&nbsp;&nbsp;</span>Before You Begin</a></span></li><li><span><a href=\"#Imports\" data-toc-modified-id=\"Imports-3\"><span class=\"toc-item-num\">3&nbsp;&nbsp;</span>Imports</a></span></li><li><span><a href=\"#Questions\" data-toc-modified-id=\"Questions-4\"><span class=\"toc-item-num\">4&nbsp;&nbsp;</span>Questions</a></span><ul class=\"toc-item\"><li><span><a href=\"#$\\LaTeX$-Typesetting\" data-toc-modified-id=\"$\\LaTeX$-Typesetting-4.1\"><span class=\"toc-item-num\">4.1&nbsp;&nbsp;</span>$\\LaTeX$ Typesetting</a></span><ul class=\"toc-item\"><li><span><a href=\"#Typeset-a-Constrained-Linear-Optimization-Problem\" data-toc-modified-id=\"Typeset-a-Constrained-Linear-Optimization-Problem-4.1.1\"><span class=\"toc-item-num\">4.1.1&nbsp;&nbsp;</span>Typeset a Constrained Linear Optimization Problem</a></span></li><li><span><a href=\"#Typeset-a-Constrained-Quadratic-Optimization-Problem\" data-toc-modified-id=\"Typeset-a-Constrained-Quadratic-Optimization-Problem-4.1.2\"><span class=\"toc-item-num\">4.1.2&nbsp;&nbsp;</span>Typeset a Constrained Quadratic Optimization Problem</a></span></li></ul></li><li><span><a href=\"#CVXPY\" data-toc-modified-id=\"CVXPY-4.2\"><span class=\"toc-item-num\">4.2&nbsp;&nbsp;</span>CVXPY</a></span><ul class=\"toc-item\"><li><span><a href=\"#Linear-Optimization\" data-toc-modified-id=\"Linear-Optimization-4.2.1\"><span class=\"toc-item-num\">4.2.1&nbsp;&nbsp;</span>Linear Optimization</a></span></li><li><span><a href=\"#Linear-Optimization\" data-toc-modified-id=\"Linear-Optimization-4.2.2\"><span class=\"toc-item-num\">4.2.2&nbsp;&nbsp;</span>Linear Optimization</a></span></li><li><span><a href=\"#Quadratic-Optimization\" data-toc-modified-id=\"Quadratic-Optimization-4.2.3\"><span class=\"toc-item-num\">4.2.3&nbsp;&nbsp;</span>Quadratic Optimization</a></span></li><li><span><a href=\"#Quadratic-Optimization\" data-toc-modified-id=\"Quadratic-Optimization-4.2.4\"><span class=\"toc-item-num\">4.2.4&nbsp;&nbsp;</span>Quadratic Optimization</a></span></li></ul></li><li><span><a href=\"#Optimal-Advertising-Plan\" data-toc-modified-id=\"Optimal-Advertising-Plan-4.3\"><span class=\"toc-item-num\">4.3&nbsp;&nbsp;</span>Optimal Advertising Plan</a></span><ul class=\"toc-item\"><li><span><a href=\"#Decision-Variables\" data-toc-modified-id=\"Decision-Variables-4.3.1\"><span class=\"toc-item-num\">4.3.1&nbsp;&nbsp;</span>Decision Variables</a></span></li><li><span><a href=\"#Objective\" data-toc-modified-id=\"Objective-4.3.2\"><span class=\"toc-item-num\">4.3.2&nbsp;&nbsp;</span>Objective</a></span></li><li><span><a href=\"#Constraints\" data-toc-modified-id=\"Constraints-4.3.3\"><span class=\"toc-item-num\">4.3.3&nbsp;&nbsp;</span>Constraints</a></span></li><li><span><a href=\"#Solution\" data-toc-modified-id=\"Solution-4.3.4\"><span class=\"toc-item-num\">4.3.4&nbsp;&nbsp;</span>Solution</a></span></li></ul></li></ul></li></ul></div>"
   ]
  },
  {
   "cell_type": "markdown",
   "metadata": {},
   "source": [
    "<h1>Instructions</h1>\n",
    "<br>\n",
    "<font size=\"+1\">\n",
    "    <ul>\n",
    "        <li style=\"color:red\">This problem set assesses your ability to analyze a given business decision by creating a concrete formulation of an optimization model, as well as practice solving your optimizaton model with CVXPY and summarizing the results. You should typeset math within Markdown using $\\LaTeX$.</li>\n",
    "        <br>\n",
    "        <li><b>Recommended Steps</b></li>\n",
    "        <br>\n",
    "        <ol>\n",
    "            <li>Read the prompt and summarize the task in your own words, using as few words as possible for ease of comprehension.</li>\n",
    "            <br>\n",
    "            <li>Pretend to be the computer program that you are trying to create. Examine the sample inputs and manually produce the appropriate results. Afterward, verify the correctness of your logic by comparing with the given sample outputs.</li>\n",
    "            <br>\n",
    "            <li>On a scrap piece of paper, write step-by-step instructions so that someone else can pretend to be the computer program and produce the appropriate results for any possible inputs. These instructions should target a human audience who does not know the problem description and only has your instructions as a guide. These instructions should serve as the roadmap for your code.</li>\n",
    "            <br>\n",
    "            <li>On another scrap piece of paper, write fragments of Python code to implement each step in your roadmap, focusing especially on the trickiest parts of the logic.</li>\n",
    "            <br>\n",
    "            <li>With your roadmap and code fragments from the previous steps, type Python code into a new Jupyter notebook cell to solve the given problem. You should type incrementally and run the code whenever you add a small chunk. This allows you to correct errors as they occur. It may also be helpful to print intermediate results to verify that the code is carrying out the logic as desired.</li>\n",
    "            <br>\n",
    "            <li>Run your code with some sample inputs and verify that the outputs are exactly the same as the sample outputs.</li>\n",
    "            <br>\n",
    "            <li>Once all of your problems are finished, it is useful to click <i>Kernel</i> $\\rightarrow$ <i>Restart & Run All</i> to verify that your outputs for all of your problems continue to be correct. This helps to ensure that someone else will be able to replicate your results when running your notebook.</li>\n",
    "            <br>\n",
    "            <li style=\"color:red\">Submit the <i>.ipynb</i> file on TurnItIn on Blackboard by the deadline. Be sure to refresh the page and double check your submission actually went through. <b>Note that you only need to submit your solutions, not all of the other recommended steps.</b> The recommended steps are meant to serve as a guide for your thinking process.</li>\n",
    "            <br>\n",
    "        </ol>\n",
    "        <br>\n",
    "        <hr style=\"border: 10px solid black\">\n",
    "        <br>\n",
    "        <li><b>Grading</b></li>\n",
    "        <br>\n",
    "        <li>There are four possible scores you can get from submitting this assignment on time (submitting a blank file or one without any apparent effort does not count). Note that the rubric is designed to incentivize you to go for $100%$ mastery of the material, as the little details matter in programming.</li>\n",
    "        <br>\n",
    "        <ul>\n",
    "            <li>Grade of $5$ out of $5$ - perfect submission with no significant errors</li>\n",
    "            <br>\n",
    "            <li>Grade of $4$ out of $5$ - near perfect submission with one or more significant errors</li>\n",
    "            <br>\n",
    "            <li>Grade of $2$ out of $5$ - apparent effort but far from perfect</li>\n",
    "            <br>\n",
    "            <li>Grade of $0$ out of $5$ - no submission or no apparent effort</li>\n",
    "            <br>\n",
    "        </ul>\n",
    "    </ul>\n",
    "</font>"
   ]
  },
  {
   "cell_type": "markdown",
   "metadata": {},
   "source": [
    "<hr style=\"border: 20px solid black\">"
   ]
  },
  {
   "cell_type": "markdown",
   "metadata": {},
   "source": [
    "<h1>Before You Begin</h1>\n",
    "<br>\n",
    "<font size=\"+1\">\n",
    "    <ul>\n",
    "        <li>Please read: <b>01_Intro_to_Optimization_The_Business_of_Banking_Formulation.ipynb</b></li>\n",
    "        <br>\n",
    "        <li>Please read: <b>02_Intro_to_CVXPY.ipynb</b></li>\n",
    "        <br>\n",
    "        <li>Please read: <b>03_Intro_to_Optimization_The_Business_of_Banking_and_CVXPY.ipynb</b></li>\n",
    "        <br>\n",
    "        <li>Please read: <b>AUXILLARY_Typesetting_Math_with_LaTeX.ipynb</b></li>\n",
    "        <br>\n",
    "    </ul>\n",
    "</font>"
   ]
  },
  {
   "cell_type": "markdown",
   "metadata": {},
   "source": [
    "<hr style=\"border: 20px solid black\">"
   ]
  },
  {
   "cell_type": "markdown",
   "metadata": {},
   "source": [
    "<h1>Imports</h1>\n",
    "<br>\n",
    "<font size=\"+1\">\n",
    "    <ul>\n",
    "        <li>Put your imports below.</li>\n",
    "        <br>\n",
    "        <li>Import Numpy and Pandas</li>\n",
    "        <br>\n",
    "    </ul>\n",
    "</font>"
   ]
  },
  {
   "cell_type": "code",
   "execution_count": 1,
   "metadata": {},
   "outputs": [],
   "source": [
    "import numpy as np\n",
    "import pandas as pd"
   ]
  },
  {
   "cell_type": "markdown",
   "metadata": {},
   "source": [
    "<hr style=\"border: 20px solid black\">"
   ]
  },
  {
   "cell_type": "markdown",
   "metadata": {},
   "source": [
    "<h1>Questions</h1>"
   ]
  },
  {
   "cell_type": "markdown",
   "metadata": {},
   "source": [
    "<h2>$\\LaTeX$ Typesetting</h2>\n",
    "<br>\n",
    "<h3>Typeset a Constrained Linear Optimization Problem</h3>\n",
    "<br>\n",
    "<font size=\"+1\">\n",
    "    <ul>\n",
    "        <li>Use $\\LaTeX$ to format the following constrained optimization problem.</li>\n",
    "        <br>\n",
    "        <li>Be sure equations are aligned, you can choose the specific alignment.</li>\n",
    "        <br>\n",
    "    </ul>\n",
    "</font>\n",
    "<br>\n",
    "<br>\n",
    "<img src=\"https://d2vlcm61l7u1fs.cloudfront.net/media%2F94c%2F94c630eb-9872-4594-8944-3f09f8ea2182%2Fphpw5gPgE.png\">"
   ]
  },
  {
   "cell_type": "markdown",
   "metadata": {},
   "source": [
    "$$\\begin{align}\n",
    "\\text{ maximize: } & 20x_1 + 15x_2 & \\\\ \\\\\n",
    "\\text{ subject to: } & 4x_1 + 2x_2 & \\leq 50 \\\\\n",
    "& 2x_1 + 8x_2 & \\leq 35 \\\\\n",
    "& x_1 & \\geq 0 \\\\\n",
    "& x_2 & \\geq 0 \\\\\n",
    "\\end{align}$$"
   ]
  },
  {
   "cell_type": "markdown",
   "metadata": {},
   "source": [
    "<br>\n",
    "<h3>Typeset a Constrained Quadratic Optimization Problem</h3>\n",
    "<br>\n",
    "<font size=\"+1\">\n",
    "    <ul>\n",
    "        <li>Use $\\LaTeX$ to format the following constrained optimization problem.</li>\n",
    "        <br>\n",
    "        <li>Note this is a <b>quadratic</b> optimization problem since some of the decision variables are squared and multiplied together, these are called cross-terms.</li>\n",
    "        <br>\n",
    "        <li>Be sure equations are aligned, you can choose the specific alignment.</li>\n",
    "        <br>\n",
    "    </ul>\n",
    "</font>\n",
    "<br>\n",
    "<br>\n",
    "<img src=\"https://miro.medium.com/max/1348/1*FPIP1_Nmmmf46vewAYkh4Q.png\">"
   ]
  },
  {
   "cell_type": "markdown",
   "metadata": {},
   "source": [
    "$$\\begin{align}\n",
    "\\text{ minimize: } & 3x_1^2 + 4x_2^2 + 2x_1x_2 + 5x_1 + x_2 & \\\\ \\\\\n",
    "\\text{ subject to: } & x_1 & \\geq 0 \\\\\n",
    "& x_2  & \\geq 0 \\\\\n",
    "& x_1 + 2x_2 & = 1 \\\\\n",
    "\\end{align}$$\n"
   ]
  },
  {
   "cell_type": "markdown",
   "metadata": {},
   "source": [
    "<h2>CVXPY</h2>\n",
    "<br>\n",
    "<font size=\"+1\">\n",
    "    <ul>\n",
    "        <li>For the following problems, the goal is to practice CVXPY syntax, rather than any particulars about modeling.</li>\n",
    "        <br>\n",
    "    </ul>\n",
    "</font>"
   ]
  },
  {
   "cell_type": "code",
   "execution_count": 2,
   "metadata": {},
   "outputs": [],
   "source": [
    "import cvxpy as cp"
   ]
  },
  {
   "cell_type": "markdown",
   "metadata": {},
   "source": [
    "<h3>Linear Optimization</h3>\n",
    "<br>\n",
    "<font size=\"+1\">\n",
    "    <ul>\n",
    "        <li>What is the optimal solution for the following two variable linear optimization problem?</li>\n",
    "        <br>\n",
    "        <li>$$\\begin{align}\n",
    "        \\text{maximize: } & 2x_1 - x_2 \\\\ \\\\\n",
    "        \\text{subject to: } & x_1 + x_2 & \\geq 1 \\\\\n",
    "        & x_1 - x_2  & \\leq 0 \\\\\n",
    "        & 3x_1 + x_2 & \\leq 6 \\\\\n",
    "        & x_1, x_2 \\geq 0 \\\\ \\end{align}$$</li>\n",
    "        <br>\n",
    "    </ul>\n",
    "</font>"
   ]
  },
  {
   "cell_type": "code",
   "execution_count": 3,
   "metadata": {},
   "outputs": [],
   "source": [
    "x = cp.Variable(2)"
   ]
  },
  {
   "cell_type": "code",
   "execution_count": 4,
   "metadata": {},
   "outputs": [],
   "source": [
    "g= 2*x[0]-x[1]\n",
    "\n",
    "objective = cp.Maximize(g)"
   ]
  },
  {
   "cell_type": "code",
   "execution_count": 5,
   "metadata": {},
   "outputs": [],
   "source": [
    "f_1 = (x[0] + x[1] >=1)\n",
    "\n",
    "f_2 = (x[0] - x[1] <=0)\n",
    "\n",
    "f_3 =  (3 * x[0]+ x[1] <=6)\n",
    "\n",
    "f_4 =  (x >=0)"
   ]
  },
  {
   "cell_type": "code",
   "execution_count": 6,
   "metadata": {},
   "outputs": [],
   "source": [
    "prob = cp.Problem(objective, [f_1, f_2, f_3, f_4])"
   ]
  },
  {
   "cell_type": "code",
   "execution_count": 7,
   "metadata": {},
   "outputs": [
    {
     "data": {
      "text/plain": [
       "1.500000000002468"
      ]
     },
     "execution_count": 7,
     "metadata": {},
     "output_type": "execute_result"
    }
   ],
   "source": [
    "prob.solve()"
   ]
  },
  {
   "cell_type": "code",
   "execution_count": 8,
   "metadata": {},
   "outputs": [
    {
     "data": {
      "text/plain": [
       "array([1.5, 1.5])"
      ]
     },
     "execution_count": 8,
     "metadata": {},
     "output_type": "execute_result"
    }
   ],
   "source": [
    "x.value"
   ]
  },
  {
   "cell_type": "markdown",
   "metadata": {},
   "source": [
    "<h3>Linear Optimization</h3>\n",
    "<br>\n",
    "<font size=\"+1\">\n",
    "    <ul>\n",
    "        <li>What is the optimal solution for the following two variable linear optimization problem?</li>\n",
    "        <br>\n",
    "        <li>$$\\begin{align}\n",
    "        \\text{maximize: } & 2x_1 + 3x_2 \\\\ \\\\\n",
    "        \\text{subject to: } & x_1 + x_2 & \\leq 5 \\\\\n",
    "        & x_1  & \\geq 1 \\\\\n",
    "        & x_2 & \\geq 2 \\\\ \\end{align}$$</li>\n",
    "        <br>\n",
    "    </ul>\n",
    "</font>"
   ]
  },
  {
   "cell_type": "code",
   "execution_count": 9,
   "metadata": {},
   "outputs": [],
   "source": [
    "x = cp.Variable(2)"
   ]
  },
  {
   "cell_type": "code",
   "execution_count": 10,
   "metadata": {},
   "outputs": [],
   "source": [
    "g= 2*x[0] + 3*x[1]\n",
    "\n",
    "objective = cp.Maximize(g)"
   ]
  },
  {
   "cell_type": "code",
   "execution_count": 11,
   "metadata": {},
   "outputs": [],
   "source": [
    "f_1 = (x[0] + x[1] <=5)\n",
    "\n",
    "f_2 = (x[0] >=1)\n",
    "\n",
    "f_3 =  (x[1]>=2)"
   ]
  },
  {
   "cell_type": "code",
   "execution_count": 12,
   "metadata": {},
   "outputs": [],
   "source": [
    "prob = cp.Problem(objective, [f_1, f_2, f_3])"
   ]
  },
  {
   "cell_type": "code",
   "execution_count": 13,
   "metadata": {},
   "outputs": [
    {
     "data": {
      "text/plain": [
       "13.999999988444877"
      ]
     },
     "execution_count": 13,
     "metadata": {},
     "output_type": "execute_result"
    }
   ],
   "source": [
    "prob.solve()"
   ]
  },
  {
   "cell_type": "code",
   "execution_count": 14,
   "metadata": {},
   "outputs": [
    {
     "data": {
      "text/plain": [
       "array([1.00000001, 3.99999999])"
      ]
     },
     "execution_count": 14,
     "metadata": {},
     "output_type": "execute_result"
    }
   ],
   "source": [
    "x.value"
   ]
  },
  {
   "cell_type": "markdown",
   "metadata": {},
   "source": [
    "<h3>Quadratic Optimization</h3>\n",
    "<br>\n",
    "<font size=\"+1\">\n",
    "    <ul>\n",
    "        <li>What is the optimal solution for the following two variable <b>quadratic</b> optimization problem?</li>\n",
    "        <br>\n",
    "        <li>Note this is a quadratic optimization problem since some of the decision variables are squared.</li>\n",
    "        <br>\n",
    "        <li>$$\n",
    "\\begin{align}\n",
    "\\text{minimize: } & 3x_1^2 + 4x_2^2 + 5x_1 + x_2 \\\\ \\\\ \n",
    "\\text{subject to: } & x_1 & \\geq 0 \\\\\n",
    "& x_2 & \\geq 0 \\\\\n",
    "& x_1 + x_2 & = 1 \\\\\n",
    "\\end{align}\n",
    "$$</li>\n",
    "        <br>\n",
    "    </ul>\n",
    "</font>"
   ]
  },
  {
   "cell_type": "code",
   "execution_count": 15,
   "metadata": {},
   "outputs": [],
   "source": [
    "x = cp.Variable(2)"
   ]
  },
  {
   "cell_type": "code",
   "execution_count": 16,
   "metadata": {},
   "outputs": [],
   "source": [
    "g= 3*x[0]**2 + 4*x[1]**2 + 5*x[0] + x[1]\n",
    "\n",
    "objective = cp.Minimize(g)"
   ]
  },
  {
   "cell_type": "code",
   "execution_count": 17,
   "metadata": {},
   "outputs": [],
   "source": [
    "f_1 = (x[0] >=0)\n",
    "\n",
    "f_2 = (x[1] >=0)\n",
    "\n",
    "f_3 =  (x[0] + x[1] == 1)"
   ]
  },
  {
   "cell_type": "code",
   "execution_count": 18,
   "metadata": {},
   "outputs": [],
   "source": [
    "prob = cp.Problem(objective, [f_1, f_2, f_3])"
   ]
  },
  {
   "cell_type": "code",
   "execution_count": 19,
   "metadata": {},
   "outputs": [
    {
     "data": {
      "text/plain": [
       "4.428571428571429"
      ]
     },
     "execution_count": 19,
     "metadata": {},
     "output_type": "execute_result"
    }
   ],
   "source": [
    "prob.solve()"
   ]
  },
  {
   "cell_type": "code",
   "execution_count": 20,
   "metadata": {},
   "outputs": [
    {
     "data": {
      "text/plain": [
       "array([0.28571429, 0.71428571])"
      ]
     },
     "execution_count": 20,
     "metadata": {},
     "output_type": "execute_result"
    }
   ],
   "source": [
    "x.value"
   ]
  },
  {
   "cell_type": "markdown",
   "metadata": {},
   "source": [
    "<h3>Quadratic Optimization</h3>\n",
    "<br>\n",
    "<font size=\"+1\">\n",
    "    <ul>\n",
    "        <li>What is the optimal solution for the following two variable <b>quadratic</b> optimization problem?</li>\n",
    "        <br>\n",
    "        <li>Note this is a quadratic optimization problem since some of the decision variables are squared.</li>\n",
    "        <br>\n",
    "        <li>$$\n",
    "\\begin{align}\n",
    "\\text{minimize: } & 0.4x_1^2 - 5x_1 + x_2^2 - 6x_2 + 50 \\\\ \\\\ \n",
    "\\text{subject to: } & x_1 - x_2 & \\geq 2 \\\\\n",
    "& 0.3x_1 + x_2 & \\geq 8 \\\\\n",
    "& x_1, x_2 & \\geq 0 \\\\\n",
    "& x_1, x_2 & \\leq 10 \\\\\n",
    "\\end{align}\n",
    "$$</li>\n",
    "        <br>\n",
    "    </ul>\n",
    "</font>"
   ]
  },
  {
   "cell_type": "code",
   "execution_count": 21,
   "metadata": {},
   "outputs": [],
   "source": [
    "x = cp.Variable(2)"
   ]
  },
  {
   "cell_type": "code",
   "execution_count": 22,
   "metadata": {},
   "outputs": [],
   "source": [
    "g= 0.4*x[0]**2 - 5*x[0] + x[1]**2 - 6*x[1] + 50\n",
    "\n",
    "objective = cp.Minimize(g)"
   ]
  },
  {
   "cell_type": "code",
   "execution_count": 23,
   "metadata": {},
   "outputs": [],
   "source": [
    "f_1 = (x[0] - x[1] >= 2)\n",
    "\n",
    "f_2 = (0.3*x[0] + x[1] >= 8)\n",
    "\n",
    "f_3 =  (x >= 0)\n",
    "\n",
    "f_4 = (x <= 10)"
   ]
  },
  {
   "cell_type": "code",
   "execution_count": 24,
   "metadata": {},
   "outputs": [],
   "source": [
    "prob = cp.Problem(objective, [f_1, f_2, f_3])"
   ]
  },
  {
   "cell_type": "code",
   "execution_count": 25,
   "metadata": {},
   "outputs": [
    {
     "data": {
      "text/plain": [
       "33.34693877551021"
      ]
     },
     "execution_count": 25,
     "metadata": {},
     "output_type": "execute_result"
    }
   ],
   "source": [
    "prob.solve()"
   ]
  },
  {
   "cell_type": "code",
   "execution_count": 26,
   "metadata": {},
   "outputs": [
    {
     "data": {
      "text/plain": [
       "array([8.16326531, 5.55102041])"
      ]
     },
     "execution_count": 26,
     "metadata": {},
     "output_type": "execute_result"
    }
   ],
   "source": [
    "x.value"
   ]
  },
  {
   "cell_type": "markdown",
   "metadata": {},
   "source": [
    "<h2>Optimal Advertising Plan</h2>\n",
    "<br>\n",
    "<font size=\"+1\">\n",
    "    <ul>\n",
    "        <li>SALS Marketing Inc. is developing an advertising campaign for a large consumer goods corporation.</li>\n",
    "        <br>\n",
    "        <li><b>An advertising plan specifies how many units of each kind of advertisement to purchase.</b></li>\n",
    "        <br>\n",
    "        <li>SALS has promised a plan that will yield the highest possible <i>exposure rating</i>, which is a measure of the ability to reach the appropriate demographic group and generate demand.</li>\n",
    "        <br>\n",
    "        <li>The options for advertisements with their respective costs (per-unit of advertising) and per-unit exposure ratings are given in the following table ($K$ stands for thousands):</li>\n",
    "        <br>\n",
    "        <li><table>\n",
    "  <tr>\n",
    "    <th>Category</th>\n",
    "    <th>Subcategory</th>\n",
    "      <th>Cost / Unit</th>\n",
    "      <th>Exposure / Unit</th>\n",
    "  </tr>\n",
    "  <tr>\n",
    "    <td>Magazines</td>\n",
    "    <td>Literary</td>\n",
    "      <td>$\\$7.5 K$</td>\n",
    "      <td>$15 K$</td>\n",
    "  </tr>\n",
    "    <tr>\n",
    "    <td></td>\n",
    "    <td>News</td>\n",
    "      <td>$\\$10 K$</td>\n",
    "      <td>$22.5 K$</td>\n",
    "  </tr>\n",
    "              <tr>\n",
    "    <td></td>\n",
    "    <td>Topical</td>\n",
    "      <td>$\\$15 K$</td>\n",
    "      <td>$24 K$</td>\n",
    "  </tr>\n",
    "  <tr>\n",
    "    <td>Newspapers</td>\n",
    "    <td>Morning</td>\n",
    "      <td>$\\$2 K$</td>\n",
    "      <td>$37.5 K$</td>\n",
    "  </tr>\n",
    "    <tr>\n",
    "    <td></td>\n",
    "    <td>Evening</td>\n",
    "      <td>$\\$3 K$</td>\n",
    "      <td>$75 K$</td>\n",
    "  </tr>\n",
    "  <tr>\n",
    "    <td>Television</td>\n",
    "    <td>Morning</td>\n",
    "      <td>$\\$20 K$</td>\n",
    "      <td>$275 K$</td>\n",
    "  </tr>\n",
    "    <tr>\n",
    "    <td></td>\n",
    "    <td>Mid-Day</td>\n",
    "      <td>$\\$10 K$</td>\n",
    "      <td>$180 K$</td>\n",
    "  </tr>\n",
    "              <tr>\n",
    "    <td></td>\n",
    "    <td>Evening</td>\n",
    "      <td>$\\$60 K$</td>\n",
    "      <td>$810 K$</td>\n",
    "  </tr>\n",
    "  <tr>\n",
    "    <td>Radio</td>\n",
    "    <td>Morning</td>\n",
    "      <td>$\\$15 K$</td>\n",
    "      <td>$180 K$</td>\n",
    "  </tr>\n",
    "    <tr>\n",
    "    <td></td>\n",
    "    <td>Mid-Day</td>\n",
    "      <td>$\\$15 K$</td>\n",
    "      <td>$17 K$</td>\n",
    "  </tr>\n",
    "              <tr>\n",
    "    <td></td>\n",
    "    <td>Evening</td>\n",
    "      <td>$\\$10 K$</td>\n",
    "      <td>$16 K$</td>\n",
    "  </tr>\n",
    "            </table></li>\n",
    "        <br>\n",
    "        <li>There exists restrictions on the advertising plan that SALS can craft for their client.</li>\n",
    "        <br>\n",
    "        <ul>\n",
    "            <li>The client corporation has budgeted $\\$800,000$ for the campaign.</li>\n",
    "            <br>\n",
    "            <li>To restrict overexposure to any particular audience, the client wants no more than $\\$300,000$ put into any one category (Magazine, Newspapers, Television, Radio).</li>\n",
    "            <br>\n",
    "            <li>Additionally, to ensure a broad range of exposure, at least $\\$100,000$ must be spent in each category.</li>\n",
    "            <br>\n",
    "            <li>Finally, there has to be an integer number of units purchased of each kind of advertisement, as no fractional units are allowed.</li>\n",
    "            <br>\n",
    "        </ul>\n",
    "        <li style=\"color:red\">Formulate an optimization problem to determine the optimal advertising plan for the client, and use CVXPY to estimate the optimal advertising plan.</li>\n",
    "        <br>\n",
    "        <li style=\"color:red\"><i>Hint: you might need to install a package <b>! pip install cvxopt</b> (some operating systems require you to restart your computer after installation), then change the solver method to <b>prob.solve(solver='GLPK_MI')</b>.</li>\n",
    "        <br>\n",
    "    </ul>\n",
    "</font>"
   ]
  },
  {
   "cell_type": "markdown",
   "metadata": {},
   "source": [
    "<h3>Decision Variables</h3>\n",
    "<br>\n",
    "<font size=\"+1\">\n",
    "    <ul>\n",
    "        <li>What are the decision variables?</li>\n",
    "        <br>\n",
    "    </ul>\n",
    "</font>"
   ]
  },
  {
   "cell_type": "markdown",
   "metadata": {},
   "source": [
    "Describe them in Markdown, you don't have to use LaTeX, but it is good practice!"
   ]
  },
  {
   "cell_type": "markdown",
   "metadata": {},
   "source": [
    "$$\\begin{align} \n",
    "& \\text{The decision variables are set of the number of units purchased for every sub-category advertisement, } \\\\ \n",
    "& \\text{and there are 11 of them in total.} \n",
    "\\end{align}\n",
    "$$  "
   ]
  },
  {
   "cell_type": "code",
   "execution_count": 27,
   "metadata": {},
   "outputs": [],
   "source": [
    "# initiating the varaibles as integers as required by the constraint\n",
    "\n",
    "Magazines = cp.Variable(3, integer=True)\n",
    "\n",
    "Newspapers = cp.Variable(2, integer=True)\n",
    "\n",
    "Television = cp.Variable(3, integer=True)\n",
    "\n",
    "Radio = cp.Variable(3, integer=True)"
   ]
  },
  {
   "cell_type": "markdown",
   "metadata": {},
   "source": [
    "<h3>Objective</h3>\n",
    "<br>\n",
    "<font size=\"+1\">\n",
    "    <ul>\n",
    "        <li>What is the objective and the associated objective function?</li>\n",
    "        <br>\n",
    "    </ul>\n",
    "</font>"
   ]
  },
  {
   "cell_type": "markdown",
   "metadata": {},
   "source": [
    "Describe them in Markdown, you don't have to use LaTeX, but it is good practice!"
   ]
  },
  {
   "cell_type": "markdown",
   "metadata": {},
   "source": [
    "$$\\begin{align} \n",
    "& \\text{The the objective is maximizing the possible exposure rating,} \\\\  \\\\\n",
    "& \\text{i.e. maximize: } 15,000 \\cdot Magazines_{Literary} + 22,500 \\cdot Magazines_{News} + 24,000 \\cdot Magazines_{Topical} \\\\\n",
    "& + 37,500 \\cdot Newspapers_{Morning} + 75,000 \\cdot Newspapers_{Evening}  \\\\\n",
    "& + 275,000 \\cdot Television_{Morning}+180,000 \\cdot Television_{Mid-day}+810,000 \\cdot Television_{Evening} \\\\\n",
    "& +180,000 \\cdot Radio_{Morning}+17,000 \\cdot Radio_{Mid-day}+16,000 \\cdot Radio_{Evening} \\\\ \\\\\n",
    "& \\text{The objective function is written in Python code below.} \n",
    "\\end{align}\n",
    "$$  "
   ]
  },
  {
   "cell_type": "code",
   "execution_count": 28,
   "metadata": {},
   "outputs": [],
   "source": [
    "# define the objective function\n",
    "\n",
    "g = (15_000*Magazines[0] + 22_500*Magazines[1] + 24_000*Magazines[2] \n",
    "     + 37_500*Newspapers[0] + 75_000*Newspapers[1] \n",
    "     +275_000* Television[0]+180_000* Television[1]+810_000* Television[2]\n",
    "     +180_000*Radio[0]+17_000*Radio[1]+16_000*Radio[2]\n",
    "    )\n",
    "\n",
    "objective = cp.Maximize(g)"
   ]
  },
  {
   "cell_type": "markdown",
   "metadata": {},
   "source": [
    "<h3>Constraints</h3>\n",
    "<br>\n",
    "<font size=\"+1\">\n",
    "    <ul>\n",
    "        <li>What are the constraints imposed by the client?</li>\n",
    "        <br>\n",
    "    </ul>\n",
    "</font>"
   ]
  },
  {
   "cell_type": "markdown",
   "metadata": {},
   "source": [
    "Describe them in Markdown, you don't have to use LaTeX, but it is good practice!"
   ]
  },
  {
   "cell_type": "markdown",
   "metadata": {},
   "source": [
    "$$\\begin{align} \n",
    "& \\text{The constraints are the following:} \\\\ \n",
    "& \\text{Constraint 1. The total budget of the entire campagin is 800,000 dollars.} \\\\\n",
    "& \\text{Constraint 2. The total money spent on any of the 4 categroies must not exceed 300,000 dollars.} \\\\\n",
    "& \\text{Constraint 3. The total money spent on any of the 4 categroies must be at least 100,000 dollars. } \\\\\n",
    "& \\text{Constraint 4. The number of units purchased for any of the 4 categroies must be an integer  } \\\\\n",
    "& \\text{(satisfied when the variables are initiated).} \\\\\n",
    "& \\text{Constraint 5. The number of units purchased for any of the sub-categroies must be greater than or euqal to 0.  } \\\\\n",
    "\\end{align}\n",
    "$$  "
   ]
  },
  {
   "cell_type": "code",
   "execution_count": 29,
   "metadata": {},
   "outputs": [],
   "source": [
    "# define the constraints\n",
    "\n",
    "constraint_1 = (7_500*Magazines[0] + 10_000*Magazines[1]+15_000*Magazines[2]+\n",
    "               2_000*Newspapers[0]+3_000*Newspapers[1]+\n",
    "               20_000*Television[0]+10_000*Television[1]+60_000*Television[2]+\n",
    "               15_000*Radio[0]+15_000*Radio[1]+10_000*Radio[2] <= 800_000)\n",
    "\n",
    "constraint_2_1 = (7_500*Magazines[0] + 10_000*Magazines[1]+15_000*Magazines[2] <= 300_000)\n",
    "constraint_2_2 = (2_000*Newspapers[0]+3_000*Newspapers[1] <= 300_000)\n",
    "constraint_2_3 = (20_000*Television[0]+10_000*Television[1]+60_000*Television[2] <= 300_000)\n",
    "constraint_2_4 = (15_000*Radio[0]+15_000*Radio[1]+10_000*Radio[2] <= 300_000)\n",
    "\n",
    "constraint_3_1 = (7_500*Magazines[0] + 10_000*Magazines[1]+15_000*Magazines[2] >= 100_000)\n",
    "constraint_3_2 = (2_000*Newspapers[0]+3_000*Newspapers[1] >= 100_000)\n",
    "constraint_3_3 = (20_000*Television[0]+10_000*Television[1]+60_000*Television[2]  >= 100_000)\n",
    "constraint_3_4 = (15_000*Radio[0]+15_000*Radio[1]+10_000*Radio[2] >= 100_000)\n",
    "\n",
    "constraint_4_1 = (Magazines>=0)\n",
    "constraint_4_2 = (Newspapers>=0)\n",
    "constraint_4_3 = (Television>=0)\n",
    "constraint_4_4 = (Radio>=0)"
   ]
  },
  {
   "cell_type": "markdown",
   "metadata": {},
   "source": [
    "<h3>Solution</h3>\n",
    "<br>\n",
    "<font size=\"+1\">\n",
    "    <ul>\n",
    "        <li>What is the solution to the problem?</li>\n",
    "        <br>\n",
    "        <li>How can you interpret the solution?</li>\n",
    "        <br>\n",
    "    </ul>\n",
    "</font>"
   ]
  },
  {
   "cell_type": "code",
   "execution_count": 30,
   "metadata": {},
   "outputs": [],
   "source": [
    "prob = cp.Problem(objective, [constraint_1, \n",
    "                              constraint_2_1, constraint_2_2, constraint_2_3, constraint_2_4,\n",
    "                             constraint_3_1, constraint_3_2, constraint_3_3, constraint_3_4,\n",
    "                             constraint_4_1, constraint_4_2, constraint_4_3, constraint_4_4])"
   ]
  },
  {
   "cell_type": "code",
   "execution_count": 31,
   "metadata": {},
   "outputs": [
    {
     "data": {
      "text/plain": [
       "14235000.0"
      ]
     },
     "execution_count": 31,
     "metadata": {},
     "output_type": "execute_result"
    }
   ],
   "source": [
    "prob.solve(solver='GLPK_MI')"
   ]
  },
  {
   "cell_type": "code",
   "execution_count": 32,
   "metadata": {},
   "outputs": [
    {
     "name": "stdout",
     "output_type": "stream",
     "text": [
      "[ 0. 10.  0.]\n",
      "[ 0. 98.]\n",
      "[ 0. 30.  0.]\n",
      "[7. 0. 0.]\n"
     ]
    }
   ],
   "source": [
    "print(Magazines.value)\n",
    "\n",
    "print(Newspapers.value)\n",
    "\n",
    "print(Television.value)\n",
    "\n",
    "print(Radio.value)"
   ]
  },
  {
   "cell_type": "markdown",
   "metadata": {},
   "source": [
    "$$\\begin{align} \n",
    "& \\text{Interpretation: in order to produce the maximal value of  the exposure rating, which is 14,235,000, the} \\\\ \n",
    "& \\text{client should purchase 10 units of Magazine News ads, 98 units of Evening Newspaper ads, 30 units of} \\\\\n",
    "& \\text{Mid-day Television ads, and 7 units of Morning Radio ads.} \\\\\n",
    "\\end{align}\n",
    "$$  "
   ]
  },
  {
   "cell_type": "code",
   "execution_count": null,
   "metadata": {},
   "outputs": [],
   "source": []
  }
 ],
 "metadata": {
  "hide_input": false,
  "kernelspec": {
   "display_name": "Python 3",
   "language": "python",
   "name": "python3"
  },
  "language_info": {
   "codemirror_mode": {
    "name": "ipython",
    "version": 3
   },
   "file_extension": ".py",
   "mimetype": "text/x-python",
   "name": "python",
   "nbconvert_exporter": "python",
   "pygments_lexer": "ipython3",
   "version": "3.7.4"
  },
  "toc": {
   "base_numbering": 1,
   "nav_menu": {},
   "number_sections": true,
   "sideBar": true,
   "skip_h1_title": false,
   "title_cell": "Table of Contents",
   "title_sidebar": "Contents",
   "toc_cell": true,
   "toc_position": {
    "height": "calc(100% - 180px)",
    "left": "10px",
    "top": "150px",
    "width": "316.458px"
   },
   "toc_section_display": true,
   "toc_window_display": true
  }
 },
 "nbformat": 4,
 "nbformat_minor": 5
}
